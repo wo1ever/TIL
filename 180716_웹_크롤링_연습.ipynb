{
  "nbformat": 4,
  "nbformat_minor": 0,
  "metadata": {
    "colab": {
      "name": "180716 웹 크롤링 연습.ipynb",
      "version": "0.3.2",
      "provenance": [],
      "collapsed_sections": [],
      "include_colab_link": true
    },
    "kernelspec": {
      "name": "python3",
      "display_name": "Python 3"
    }
  },
  "cells": [
    {
      "cell_type": "markdown",
      "metadata": {
        "id": "view-in-github",
        "colab_type": "text"
      },
      "source": [
        "[View in Colaboratory](https://colab.research.google.com/github/wo1ever/TIL/blob/master/180716_%EC%9B%B9_%ED%81%AC%EB%A1%A4%EB%A7%81_%EC%97%B0%EC%8A%B5.ipynb)"
      ]
    },
    {
      "metadata": {
        "id": "oB7EITiB3Ffs",
        "colab_type": "code",
        "colab": {}
      },
      "cell_type": "code",
      "source": [
        "!pip install html5lib\n",
        "\n",
        "# 표준 라이브러리가 아니기 때문에 인스톨해줌\n",
        "# ! 가 있는 경우 파이썬 명령어가 아님.\n",
        "# 얘는 리눅스 명령어라 서버를 그쪽으로 보냄."
      ],
      "execution_count": 0,
      "outputs": []
    },
    {
      "metadata": {
        "id": "PY2dy3p3Hwme",
        "colab_type": "code",
        "colab": {}
      },
      "cell_type": "code",
      "source": [
        "import urllib.request\n",
        "\n",
        "url = \"https://www.naver.com\"\n",
        "with urllib.request.urlopen(url) as f:\n",
        "  html = f.read().decode('utf-8')\n",
        "  print(html)"
      ],
      "execution_count": 0,
      "outputs": []
    },
    {
      "metadata": {
        "id": "VN-BfQSzH_-a",
        "colab_type": "text"
      },
      "cell_type": "markdown",
      "source": [
        "위와 같은 코드\n",
        "urllib.request가 너무 기니까 간단하게 쓰려고 아래의 코딩처럼 씀"
      ]
    },
    {
      "metadata": {
        "id": "z-iJEJnjGpps",
        "colab_type": "code",
        "colab": {
          "base_uri": "https://localhost:8080/",
          "height": 52
        },
        "outputId": "a4ffbe5a-068c-4e2c-fc8f-58c826228e32"
      },
      "cell_type": "code",
      "source": [
        "import html5lib\n",
        "\n",
        "from urllib import request\n",
        "\n",
        "url = \"https://www.naver.com\"\n",
        "# string 문자열을 담는 변수를 만들어서 아래에서 호출해줌.\n",
        "\n",
        "with request.urlopen(url) as f:\n",
        "  # 자원을 관리하기(메모리,CPU 등)\n",
        "  html = f.read().decode('utf-8')\n",
        "\n",
        "  \n",
        "dom = html5lib.parse(html)\n",
        "children = dom.getchildren()\n",
        "# 결과값으로 두 개의 요소가 들어있는 리스트 반환됨\n",
        "children[0]\n",
        "\n",
        "html5lib.parse(html).getchildren()\n",
        "# 이렇게 쓰면 실행 할 때마다 parsing을 수행함. > 그게 돈...\n",
        "\n",
        "children[1].getchildren()  # children의 children (재귀)\n",
        "\n",
        "head = children[0]\n",
        "head\n",
        "# dir(head) 쳐보고 > type(head.find)\n",
        "\n",
        "dir(head.getchildren()[-1])  # dir : head의 children의 함수들을 보여주는 함수\n",
        "\n",
        "head.getchildren()[-1].text"
      ],
      "execution_count": 50,
      "outputs": [
        {
          "output_type": "execute_result",
          "data": {
            "text/plain": [
              "[<Element '{http://www.w3.org/1999/xhtml}head' at 0x7fd825aa2bd8>,\n",
              " <Element '{http://www.w3.org/1999/xhtml}body' at 0x7fd825b2bdb8>]"
            ]
          },
          "metadata": {
            "tags": []
          },
          "execution_count": 50
        }
      ]
    },
    {
      "metadata": {
        "id": "euATzFVY3M65",
        "colab_type": "code",
        "colab": {}
      },
      "cell_type": "code",
      "source": [
        ""
      ],
      "execution_count": 0,
      "outputs": []
    },
    {
      "metadata": {
        "id": "zKDm7SJi34Fv",
        "colab_type": "code",
        "colab": {
          "base_uri": "https://localhost:8080/",
          "height": 34
        },
        "outputId": "f9ec0fbd-c670-492a-8877-86ab97daedf7"
      },
      "cell_type": "code",
      "source": [
        "import html5lib\n",
        "\n",
        "from urllib import request\n",
        "\n",
        "url = \"https://www.naver.com\"\n",
        "\n",
        "with request.urlopen(url) as f:\n",
        "  html = f.read().decode('utf-8')\n",
        "\n",
        "dom = html5lib.parse(html)\n",
        "\n",
        "children = dom.getchildren()\n",
        "\n",
        "head = children[0]\n",
        "\n",
        "# head의 자식들 중에서\n",
        "head_children = head.getchildren()\n",
        "\n",
        "# 태그 이름이 title인 element를 찾음,\n",
        "for element in head_children:\n",
        "  if element.tag == '{http://www.w3.org/1999/xhtml}title':\n",
        "    print(element.text)\n",
        "\n",
        "# dir(head)\n",
        "\n",
        "# 해당 element의 내용인 text를 출력.\n"
      ],
      "execution_count": 53,
      "outputs": [
        {
          "output_type": "stream",
          "text": [
            "NAVER\n"
          ],
          "name": "stdout"
        }
      ]
    },
    {
      "metadata": {
        "id": "eaIYDMkPB6BD",
        "colab_type": "text"
      },
      "cell_type": "markdown",
      "source": [
        "### **ctrl + / 주석처리하기**"
      ]
    },
    {
      "metadata": {
        "id": "6mSLNQReB_7Z",
        "colab_type": "code",
        "colab": {}
      },
      "cell_type": "code",
      "source": [
        "ratget = '{http://www.w3.org/1999/xhtml}title'\n",
        "for e in head_children:\n",
        "  if e.tag == target:\n",
        "    print(e.text)\n",
        "    "
      ],
      "execution_count": 0,
      "outputs": []
    }
  ]
}