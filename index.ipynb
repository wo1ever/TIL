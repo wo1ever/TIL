{
  "nbformat": 4,
  "nbformat_minor": 0,
  "metadata": {
    "colab": {
      "name": "index.ipynb",
      "version": "0.3.2",
      "provenance": [],
      "collapsed_sections": [
        "lkJcyM0ILNgT",
        "3Gqmfx7oox22",
        "DeXaTXAdp6ne",
        "izNpv79bsGV7",
        "v7BFmgcRLNif",
        "qTihaKMQLNjE",
        "fZWj-N4CLNig",
        "7IBM0m8GLNjX",
        "9-CsJ6kHLNjc",
        "ZYenx0CU2Lvc"
      ],
      "include_colab_link": true
    },
    "kernelspec": {
      "display_name": "Python 3",
      "language": "python",
      "name": "python3"
    },
    "accelerator": "GPU"
  },
  "cells": [
    {
      "cell_type": "markdown",
      "metadata": {
        "id": "view-in-github",
        "colab_type": "text"
      },
      "source": [
        "[View in Colaboratory](https://colab.research.google.com/github/wo1ever/TIL/blob/master/index.ipynb)"
      ]
    },
    {
      "metadata": {
        "id": "JZPw4_3Rox2g",
        "colab_type": "text"
      },
      "cell_type": "markdown",
      "source": [
        "# [Pandas10분 완성](https://pandas.pydata.org/pandas-docs/stable/10min.html)"
      ]
    },
    {
      "metadata": {
        "id": "7b8iZvDO5fQd",
        "colab_type": "toc"
      },
      "cell_type": "markdown",
      "source": [
        ">[Pandas10분 완성](#scrollTo=JZPw4_3Rox2g)\n",
        "\n",
        ">[Object Creation (객체 생성)](#scrollTo=X9rrAHzu2Vab)\n",
        "\n",
        ">>>>>[IPython에서 실행하면 다음과 같은 결과값이 나온다.](#scrollTo=Itt3P3rQ5DV-)\n",
        "\n",
        ">[Viewing Data](#scrollTo=lkJcyM0ILNgT)\n",
        "\n",
        ">[Selection](#scrollTo=a9QohIjc5u-w)\n",
        "\n",
        ">>[Getting](#scrollTo=EYxliIZ65yee)\n",
        "\n",
        ">>[Selection by Label](#scrollTo=wtaJHua451UZ)\n",
        "\n",
        ">>[Selection by Position](#scrollTo=PrWrPP-K55Xe)\n",
        "\n",
        ">>[Boolean Indexing](#scrollTo=zUrHp9AsLNix)\n",
        "\n",
        ">>>[<부울 인덱싱>](#scrollTo=dr9ikZ_cLNix)\n",
        "\n",
        ">>>>[선택한 데이터에 단일 열의 값을 사용한다.](#scrollTo=4H2VjFy4LNiy)\n",
        "\n",
        ">>>>[부울 조건에 충족되는 데이터프레임에서 변수를 선택한다.](#scrollTo=K2OHkZhjLNi0)\n",
        "\n",
        ">>>>[필터링 방법인 isin()을 사용한다.](#scrollTo=B5Ywfi9MLNi7)\n",
        "\n",
        ">>[Setting](#scrollTo=wx97sAGp6OEj)\n",
        "\n",
        ">[Missing Data](#scrollTo=f7mkUirR5hit)\n",
        "\n",
        ">[Operations (오퍼레이션)](#scrollTo=_Vtbv3Am59wL)\n",
        "\n",
        ">>[Stats](#scrollTo=mcVNuuy_5_wW)\n",
        "\n",
        ">>[Apply (적용하기)](#scrollTo=R7jzj-cH6Ahc)\n",
        "\n",
        ">>[Histogramming (히스토그래밍)](#scrollTo=UyvQC_nC6S6g)\n",
        "\n",
        ">>[String Mathods (문자열 메서드)](#scrollTo=WsQyIOdF6aPw)\n",
        "\n",
        ">>[Apply](#scrollTo=905UN_JaLNhl)\n",
        "\n",
        ">>[Histogramming](#scrollTo=lawpGLWDLNhq)\n",
        "\n",
        ">>[String Methods](#scrollTo=nrdgULcJ4XL6)\n",
        "\n",
        ">[Selection (선택)](#scrollTo=3Gqmfx7oox22)\n",
        "\n",
        ">>[Getting (데이터 얻기)](#scrollTo=DeXaTXAdp6ne)\n",
        "\n",
        ">>[Selection by Label (Label 을 통한 선택)](#scrollTo=izNpv79bsGV7)\n",
        "\n",
        ">>[Selection by Position (위치로 선택하기)](#scrollTo=v7BFmgcRLNif)\n",
        "\n",
        ">>[Setting](#scrollTo=qTihaKMQLNjE)\n",
        "\n",
        ">[Merge](#scrollTo=-NpTTJzF34oe)\n",
        "\n",
        ">>[Concat](#scrollTo=fZWj-N4CLNig)\n",
        "\n",
        ">>[Join](#scrollTo=7IBM0m8GLNjX)\n",
        "\n",
        ">>[Append](#scrollTo=9-CsJ6kHLNjc)\n",
        "\n",
        ">[객체생성](#scrollTo=NXTbZ7s0LNjr)\n",
        "\n",
        ">[Grouping](#scrollTo=6VaJ6ty_3v09)\n",
        "\n",
        ">[Reshaping](#scrollTo=7tWQKNsJ3JeY)\n",
        "\n",
        ">>[Stack](#scrollTo=gZJGxemv3WWA)\n",
        "\n",
        ">>[Pivot Tables](#scrollTo=RZ_-viV34FE-)\n",
        "\n",
        ">[Time Series](#scrollTo=ZYenx0CU2Lvc)\n",
        "\n",
        ">[Categoricals](#scrollTo=8OfzvbgW28Hc)\n",
        "\n",
        ">[Plotting](#scrollTo=LDarUbRI1K9c)\n",
        "\n",
        ">[Getting Data In/Out](#scrollTo=6orrhxzC2vJh)\n",
        "\n",
        ">>[CSV](#scrollTo=bYZJgW252vq2)\n",
        "\n",
        ">>[HDF5](#scrollTo=P9knaZtu24Nj)\n",
        "\n",
        ">>[Excel](#scrollTo=PPEdwZcg3AHk)\n",
        "\n",
        ">[Gotchas](#scrollTo=fBibp76_3IjV)\n",
        "\n"
      ]
    },
    {
      "metadata": {
        "id": "_SA4MsmkCMEL",
        "colab_type": "text"
      },
      "cell_type": "markdown",
      "source": [
        "# 새 섹션"
      ]
    },
    {
      "metadata": {
        "id": "6vTEdOiaLNf5",
        "colab_type": "text"
      },
      "cell_type": "markdown",
      "source": [
        "이 소개서는 주로 신규 사용자를 대상으로 한 판다스에 대한 간략한 소개입니다. 더 복잡한 방법은 [Cookbook](https://pandas.pydata.org/pandas-docs/stable/cookbook.html#cookbook) 에서 볼 수 있습니다.\n",
        "\n",
        "\n",
        "일반적으로 다음과 같이 가져옵니다."
      ]
    },
    {
      "metadata": {
        "id": "u8AvydKWLNf6",
        "colab_type": "code",
        "colab": {}
      },
      "cell_type": "code",
      "source": [
        "import pandas as pd"
      ],
      "execution_count": 0,
      "outputs": []
    },
    {
      "metadata": {
        "id": "gt_2tMD2LNf9",
        "colab_type": "code",
        "colab": {}
      },
      "cell_type": "code",
      "source": [
        "import numpy as np"
      ],
      "execution_count": 0,
      "outputs": []
    },
    {
      "metadata": {
        "id": "y6Eq4MTnLNf_",
        "colab_type": "code",
        "colab": {}
      },
      "cell_type": "code",
      "source": [
        "import matplotlib.pyplot as plt"
      ],
      "execution_count": 0,
      "outputs": []
    },
    {
      "metadata": {
        "id": "X9rrAHzu2Vab",
        "colab_type": "text"
      },
      "cell_type": "markdown",
      "source": [
        "# Object Creation (객체 생성)"
      ]
    },
    {
      "metadata": {
        "id": "5hgd3fkZ3DKl",
        "colab_type": "text"
      },
      "cell_type": "markdown",
      "source": [
        "[데이터 구조 소개 섹션](https://pandas.pydata.org/pandas-docs/stable/dsintro.html#dsintro)을 참조하십시오.\n",
        "\n",
        "판다스는 값을 가지고 있는 리스트를 통해 [시리즈](https://pandas.pydata.org/pandas-docs/stable/generated/pandas.Series.html#pandas.Series)를 만들고, 인덱스를 기본값으로 불러올 것입니다."
      ]
    },
    {
      "metadata": {
        "id": "qg9Rcvn83IIA",
        "colab_type": "code",
        "colab": {}
      },
      "cell_type": "code",
      "source": [
        "s = pd.Series([1,3,5,np.nan,6,8])"
      ],
      "execution_count": 0,
      "outputs": []
    },
    {
      "metadata": {
        "id": "ulVQdi2w3J98",
        "colab_type": "code",
        "colab": {
          "base_uri": "https://localhost:8080/",
          "height": 148
        },
        "outputId": "e553267c-9a36-4b7d-e471-aaa4ad9f76db"
      },
      "cell_type": "code",
      "source": [
        "s"
      ],
      "execution_count": 8,
      "outputs": [
        {
          "output_type": "execute_result",
          "data": {
            "text/plain": [
              "0    1.0\n",
              "1    3.0\n",
              "2    5.0\n",
              "3    NaN\n",
              "4    6.0\n",
              "5    8.0\n",
              "dtype: float64"
            ]
          },
          "metadata": {
            "tags": []
          },
          "execution_count": 8
        }
      ]
    },
    {
      "metadata": {
        "id": "lea8Y7Rq3tWL",
        "colab_type": "text"
      },
      "cell_type": "markdown",
      "source": [
        "datetime 인덱스와 레이블이 있는 열이있는 NumPy 배열을 전달하여 데이터 프레임 만들기 :"
      ]
    },
    {
      "metadata": {
        "id": "Cj4sCmrH3R71",
        "colab_type": "code",
        "colab": {}
      },
      "cell_type": "code",
      "source": [
        "dates = pd.date_range('20130101', periods=6)"
      ],
      "execution_count": 0,
      "outputs": []
    },
    {
      "metadata": {
        "id": "yM54opp63Sfg",
        "colab_type": "code",
        "colab": {
          "base_uri": "https://localhost:8080/",
          "height": 73
        },
        "outputId": "b879c90e-c9d0-4f33-c136-fed66b3e2d0d"
      },
      "cell_type": "code",
      "source": [
        "dates"
      ],
      "execution_count": 10,
      "outputs": [
        {
          "output_type": "execute_result",
          "data": {
            "text/plain": [
              "DatetimeIndex(['2013-01-01', '2013-01-02', '2013-01-03', '2013-01-04',\n",
              "               '2013-01-05', '2013-01-06'],\n",
              "              dtype='datetime64[ns]', freq='D')"
            ]
          },
          "metadata": {
            "tags": []
          },
          "execution_count": 10
        }
      ]
    },
    {
      "metadata": {
        "id": "YQCGP5R43XVT",
        "colab_type": "code",
        "colab": {}
      },
      "cell_type": "code",
      "source": [
        "df = pd.DataFrame(np.random.randn(6,4), index=dates, columns=list('ABCD'))"
      ],
      "execution_count": 0,
      "outputs": []
    },
    {
      "metadata": {
        "id": "fkU_8Hwg3ZTg",
        "colab_type": "code",
        "colab": {
          "base_uri": "https://localhost:8080/",
          "height": 233
        },
        "outputId": "8c7e4315-b32c-498e-f0f2-e09f03c444b4"
      },
      "cell_type": "code",
      "source": [
        "df"
      ],
      "execution_count": 12,
      "outputs": [
        {
          "output_type": "execute_result",
          "data": {
            "text/html": [
              "<div>\n",
              "<style scoped>\n",
              "    .dataframe tbody tr th:only-of-type {\n",
              "        vertical-align: middle;\n",
              "    }\n",
              "\n",
              "    .dataframe tbody tr th {\n",
              "        vertical-align: top;\n",
              "    }\n",
              "\n",
              "    .dataframe thead th {\n",
              "        text-align: right;\n",
              "    }\n",
              "</style>\n",
              "<table border=\"1\" class=\"dataframe\">\n",
              "  <thead>\n",
              "    <tr style=\"text-align: right;\">\n",
              "      <th></th>\n",
              "      <th>A</th>\n",
              "      <th>B</th>\n",
              "      <th>C</th>\n",
              "      <th>D</th>\n",
              "    </tr>\n",
              "  </thead>\n",
              "  <tbody>\n",
              "    <tr>\n",
              "      <th>2013-01-01</th>\n",
              "      <td>1.879097</td>\n",
              "      <td>0.489034</td>\n",
              "      <td>2.829889</td>\n",
              "      <td>0.060681</td>\n",
              "    </tr>\n",
              "    <tr>\n",
              "      <th>2013-01-02</th>\n",
              "      <td>-1.883749</td>\n",
              "      <td>-2.935576</td>\n",
              "      <td>0.467436</td>\n",
              "      <td>-0.257971</td>\n",
              "    </tr>\n",
              "    <tr>\n",
              "      <th>2013-01-03</th>\n",
              "      <td>1.955703</td>\n",
              "      <td>-1.980915</td>\n",
              "      <td>0.886641</td>\n",
              "      <td>1.580227</td>\n",
              "    </tr>\n",
              "    <tr>\n",
              "      <th>2013-01-04</th>\n",
              "      <td>-0.131587</td>\n",
              "      <td>-0.757510</td>\n",
              "      <td>1.055614</td>\n",
              "      <td>0.180451</td>\n",
              "    </tr>\n",
              "    <tr>\n",
              "      <th>2013-01-05</th>\n",
              "      <td>-0.934099</td>\n",
              "      <td>-1.111522</td>\n",
              "      <td>-1.547811</td>\n",
              "      <td>0.044521</td>\n",
              "    </tr>\n",
              "    <tr>\n",
              "      <th>2013-01-06</th>\n",
              "      <td>0.582029</td>\n",
              "      <td>0.330368</td>\n",
              "      <td>0.933039</td>\n",
              "      <td>-0.430083</td>\n",
              "    </tr>\n",
              "  </tbody>\n",
              "</table>\n",
              "</div>"
            ],
            "text/plain": [
              "                   A         B         C         D\n",
              "2013-01-01  1.879097  0.489034  2.829889  0.060681\n",
              "2013-01-02 -1.883749 -2.935576  0.467436 -0.257971\n",
              "2013-01-03  1.955703 -1.980915  0.886641  1.580227\n",
              "2013-01-04 -0.131587 -0.757510  1.055614  0.180451\n",
              "2013-01-05 -0.934099 -1.111522 -1.547811  0.044521\n",
              "2013-01-06  0.582029  0.330368  0.933039 -0.430083"
            ]
          },
          "metadata": {
            "tags": []
          },
          "execution_count": 12
        }
      ]
    },
    {
      "metadata": {
        "id": "rYnipdkELNgC",
        "colab_type": "text"
      },
      "cell_type": "markdown",
      "source": [
        "시리즈와 같은 것으로 바뀔 수 있는 객체의 dict로 구성된 dataframe을 만듭니다."
      ]
    },
    {
      "metadata": {
        "id": "cKpPtOIVLNgC",
        "colab_type": "code",
        "colab": {}
      },
      "cell_type": "code",
      "source": [
        "df2 = pd.DataFrame({'A' : 1.,\n",
        "                    'B' : pd.Timestamp('20130102'),\n",
        "                    'C' : pd.Series(1,index=list(range(4)),dtype='float32'),\n",
        "                    'D' : np.array([3] * 4,dtype='int32'),\n",
        "                    'E' : pd.Categorical([\"test\",\"train\",\"test\",\"train\"]),\n",
        "                    'F' : 'foo' })"
      ],
      "execution_count": 0,
      "outputs": []
    },
    {
      "metadata": {
        "id": "QDm61ULjLNgE",
        "colab_type": "code",
        "colab": {
          "base_uri": "https://localhost:8080/",
          "height": 173
        },
        "outputId": "ff53dea5-4895-42c2-beae-732068b3a7ca"
      },
      "cell_type": "code",
      "source": [
        "df2"
      ],
      "execution_count": 12,
      "outputs": [
        {
          "output_type": "execute_result",
          "data": {
            "text/html": [
              "<div>\n",
              "<style scoped>\n",
              "    .dataframe tbody tr th:only-of-type {\n",
              "        vertical-align: middle;\n",
              "    }\n",
              "\n",
              "    .dataframe tbody tr th {\n",
              "        vertical-align: top;\n",
              "    }\n",
              "\n",
              "    .dataframe thead th {\n",
              "        text-align: right;\n",
              "    }\n",
              "</style>\n",
              "<table border=\"1\" class=\"dataframe\">\n",
              "  <thead>\n",
              "    <tr style=\"text-align: right;\">\n",
              "      <th></th>\n",
              "      <th>A</th>\n",
              "      <th>B</th>\n",
              "      <th>C</th>\n",
              "      <th>D</th>\n",
              "      <th>E</th>\n",
              "      <th>F</th>\n",
              "    </tr>\n",
              "  </thead>\n",
              "  <tbody>\n",
              "    <tr>\n",
              "      <th>0</th>\n",
              "      <td>1.0</td>\n",
              "      <td>2013-01-02</td>\n",
              "      <td>1.0</td>\n",
              "      <td>3</td>\n",
              "      <td>test</td>\n",
              "      <td>foo</td>\n",
              "    </tr>\n",
              "    <tr>\n",
              "      <th>1</th>\n",
              "      <td>1.0</td>\n",
              "      <td>2013-01-02</td>\n",
              "      <td>1.0</td>\n",
              "      <td>3</td>\n",
              "      <td>train</td>\n",
              "      <td>foo</td>\n",
              "    </tr>\n",
              "    <tr>\n",
              "      <th>2</th>\n",
              "      <td>1.0</td>\n",
              "      <td>2013-01-02</td>\n",
              "      <td>1.0</td>\n",
              "      <td>3</td>\n",
              "      <td>test</td>\n",
              "      <td>foo</td>\n",
              "    </tr>\n",
              "    <tr>\n",
              "      <th>3</th>\n",
              "      <td>1.0</td>\n",
              "      <td>2013-01-02</td>\n",
              "      <td>1.0</td>\n",
              "      <td>3</td>\n",
              "      <td>train</td>\n",
              "      <td>foo</td>\n",
              "    </tr>\n",
              "  </tbody>\n",
              "</table>\n",
              "</div>"
            ],
            "text/plain": [
              "     A          B    C  D      E    F\n",
              "0  1.0 2013-01-02  1.0  3   test  foo\n",
              "1  1.0 2013-01-02  1.0  3  train  foo\n",
              "2  1.0 2013-01-02  1.0  3   test  foo\n",
              "3  1.0 2013-01-02  1.0  3  train  foo"
            ]
          },
          "metadata": {
            "tags": []
          },
          "execution_count": 12
        }
      ]
    },
    {
      "metadata": {
        "id": "Hlagj-SMLNgI",
        "colab_type": "text"
      },
      "cell_type": "markdown",
      "source": [
        " DataFrame 결과의 행은 다양한 데이터타입(dtypes)으로 구성됩니다.  "
      ]
    },
    {
      "metadata": {
        "id": "eFzVncepLNgJ",
        "colab_type": "code",
        "colab": {
          "base_uri": "https://localhost:8080/",
          "height": 136
        },
        "outputId": "dd80e39e-b030-4996-c0e8-a9a76f7abc6d"
      },
      "cell_type": "code",
      "source": [
        "df2.dtypes"
      ],
      "execution_count": 13,
      "outputs": [
        {
          "output_type": "execute_result",
          "data": {
            "text/plain": [
              "A           float64\n",
              "B    datetime64[ns]\n",
              "C           float32\n",
              "D             int32\n",
              "E          category\n",
              "F            object\n",
              "dtype: object"
            ]
          },
          "metadata": {
            "tags": []
          },
          "execution_count": 13
        }
      ]
    },
    {
      "metadata": {
        "id": "oOt1V164LNgN",
        "colab_type": "text"
      },
      "cell_type": "markdown",
      "source": [
        "IPython을 이용하고 계시다면, 열 이름에 대한(공용속성은 물론) tap완성 기능(tap completion)이 자동으로 활성화됩니다. 다음은 완성될 속성에 대한 부분집합(subset)입니다. "
      ]
    },
    {
      "metadata": {
        "id": "sFUGiJiNLNgN",
        "colab_type": "code",
        "colab": {
          "base_uri": "https://localhost:8080/",
          "height": 130
        },
        "outputId": "446a7a62-ea06-4b59-cc45-352bf54804d7"
      },
      "cell_type": "code",
      "source": [
        "df2.<TAB>"
      ],
      "execution_count": 14,
      "outputs": [
        {
          "output_type": "error",
          "ename": "SyntaxError",
          "evalue": "ignored",
          "traceback": [
            "\u001b[0;36m  File \u001b[0;32m\"<ipython-input-14-915637deb483>\"\u001b[0;36m, line \u001b[0;32m1\u001b[0m\n\u001b[0;31m    df2.<TAB>\u001b[0m\n\u001b[0m        ^\u001b[0m\n\u001b[0;31mSyntaxError\u001b[0m\u001b[0;31m:\u001b[0m invalid syntax\n"
          ]
        }
      ]
    },
    {
      "metadata": {
        "id": "Itt3P3rQ5DV-",
        "colab_type": "text"
      },
      "cell_type": "markdown",
      "source": [
        "##### IPython에서 실행하면 다음과 같은 결과값이 나온다.\n",
        "```\n",
        "df2.A                  df2.bool\n",
        "df2.abs                df2.boxplot\n",
        "df2.add                df2.C\n",
        "df2.add_prefix         df2.clip\n",
        "df2.add_suffix         df2.clip_lower\n",
        "df2.align              df2.clip_upper\n",
        "df2.all                df2.columns\n",
        "df2.any                df2.combine\n",
        "df2.append             df2.combine_first\n",
        "df2.apply              df2.compound\n",
        "df2.applymap           df2.consolidate\n",
        "df2.D\n",
        "```\n",
        "\n"
      ]
    },
    {
      "metadata": {
        "id": "YHLdSINuLNgS",
        "colab_type": "text"
      },
      "cell_type": "markdown",
      "source": [
        "보시다시피, A,B,C그리고 D 열이 탭 자동완성기능으로 실행됩니다. 물론 E도 있습니다. 나머지 속성들은 간결하게 잘라버렸습니다. "
      ]
    },
    {
      "metadata": {
        "id": "lkJcyM0ILNgT",
        "colab_type": "text"
      },
      "cell_type": "markdown",
      "source": [
        "\n",
        "# Viewing Data\n",
        "1조: 처음~22번 "
      ]
    },
    {
      "metadata": {
        "id": "nu0qaw33LNgY",
        "colab_type": "text"
      },
      "cell_type": "markdown",
      "source": [
        "**Viewing Data 데이터 확인하기**"
      ]
    },
    {
      "metadata": {
        "id": "2108prOVLNgY",
        "colab_type": "text"
      },
      "cell_type": "markdown",
      "source": [
        "[Basic Section](https://pandas.pydata.org/pandas-docs/stable/basics.html#basics)을 봅니다.\n",
        "\n",
        "데이터프레임의 맨 윗 줄과 마지막 줄을 확인하고 싶을 때 .head()와 .tail()을 입력합니다. \n",
        "\n",
        "괄호()안에는 숫자가 들어갈 수도 있고 안 들어갈 수도 있습니다. \n",
        "숫자가 들어간다면, 윗/마지막 줄의 특정 줄을 불러올 수 있습니다. \n",
        "숫자가 들어가지 않다면, 기본값인 5로 처리됩니다.\n",
        "\n",
        "(예시) \n",
        "df.tail(3) - 끝에서 마지막 3줄을 불러옴\n",
        "df.tail() - 끝에서 마지막 5줄 불러옴"
      ]
    },
    {
      "metadata": {
        "id": "bW82qnwBLNga",
        "colab_type": "code",
        "colab": {},
        "outputId": "cbb04c52-4a44-4f7d-ec5b-214355281b6a"
      },
      "cell_type": "code",
      "source": [
        "df.head()"
      ],
      "execution_count": 0,
      "outputs": [
        {
          "output_type": "execute_result",
          "data": {
            "text/html": [
              "<div>\n",
              "<style scoped>\n",
              "    .dataframe tbody tr th:only-of-type {\n",
              "        vertical-align: middle;\n",
              "    }\n",
              "\n",
              "    .dataframe tbody tr th {\n",
              "        vertical-align: top;\n",
              "    }\n",
              "\n",
              "    .dataframe thead th {\n",
              "        text-align: right;\n",
              "    }\n",
              "</style>\n",
              "<table border=\"1\" class=\"dataframe\">\n",
              "  <thead>\n",
              "    <tr style=\"text-align: right;\">\n",
              "      <th></th>\n",
              "      <th>A</th>\n",
              "      <th>B</th>\n",
              "      <th>C</th>\n",
              "      <th>D</th>\n",
              "    </tr>\n",
              "  </thead>\n",
              "  <tbody>\n",
              "    <tr>\n",
              "      <th>2013-01-01</th>\n",
              "      <td>-0.414296</td>\n",
              "      <td>-0.197622</td>\n",
              "      <td>-1.085198</td>\n",
              "      <td>-0.023086</td>\n",
              "    </tr>\n",
              "    <tr>\n",
              "      <th>2013-01-02</th>\n",
              "      <td>1.310316</td>\n",
              "      <td>-1.236729</td>\n",
              "      <td>2.279797</td>\n",
              "      <td>-1.959987</td>\n",
              "    </tr>\n",
              "    <tr>\n",
              "      <th>2013-01-03</th>\n",
              "      <td>0.723715</td>\n",
              "      <td>0.573125</td>\n",
              "      <td>-1.069190</td>\n",
              "      <td>1.555839</td>\n",
              "    </tr>\n",
              "    <tr>\n",
              "      <th>2013-01-04</th>\n",
              "      <td>0.371333</td>\n",
              "      <td>-0.613136</td>\n",
              "      <td>-0.128201</td>\n",
              "      <td>0.211691</td>\n",
              "    </tr>\n",
              "    <tr>\n",
              "      <th>2013-01-05</th>\n",
              "      <td>-1.711670</td>\n",
              "      <td>-1.473291</td>\n",
              "      <td>0.996679</td>\n",
              "      <td>0.299594</td>\n",
              "    </tr>\n",
              "  </tbody>\n",
              "</table>\n",
              "</div>"
            ],
            "text/plain": [
              "                   A         B         C         D\n",
              "2013-01-01 -0.414296 -0.197622 -1.085198 -0.023086\n",
              "2013-01-02  1.310316 -1.236729  2.279797 -1.959987\n",
              "2013-01-03  0.723715  0.573125 -1.069190  1.555839\n",
              "2013-01-04  0.371333 -0.613136 -0.128201  0.211691\n",
              "2013-01-05 -1.711670 -1.473291  0.996679  0.299594"
            ]
          },
          "metadata": {
            "tags": []
          },
          "execution_count": 10
        }
      ]
    },
    {
      "metadata": {
        "id": "mDFQ0TnFLNgg",
        "colab_type": "code",
        "colab": {
          "base_uri": "https://localhost:8080/",
          "height": 142
        },
        "outputId": "ae2e94f5-0d4a-48b9-e7a0-59078df072d7"
      },
      "cell_type": "code",
      "source": [
        "df.tail(3)"
      ],
      "execution_count": 17,
      "outputs": [
        {
          "output_type": "execute_result",
          "data": {
            "text/html": [
              "<div>\n",
              "<style scoped>\n",
              "    .dataframe tbody tr th:only-of-type {\n",
              "        vertical-align: middle;\n",
              "    }\n",
              "\n",
              "    .dataframe tbody tr th {\n",
              "        vertical-align: top;\n",
              "    }\n",
              "\n",
              "    .dataframe thead th {\n",
              "        text-align: right;\n",
              "    }\n",
              "</style>\n",
              "<table border=\"1\" class=\"dataframe\">\n",
              "  <thead>\n",
              "    <tr style=\"text-align: right;\">\n",
              "      <th></th>\n",
              "      <th>A</th>\n",
              "      <th>B</th>\n",
              "      <th>C</th>\n",
              "      <th>D</th>\n",
              "    </tr>\n",
              "  </thead>\n",
              "  <tbody>\n",
              "    <tr>\n",
              "      <th>2013-01-04</th>\n",
              "      <td>1.509731</td>\n",
              "      <td>-1.800477</td>\n",
              "      <td>-1.223772</td>\n",
              "      <td>-0.272443</td>\n",
              "    </tr>\n",
              "    <tr>\n",
              "      <th>2013-01-05</th>\n",
              "      <td>0.149121</td>\n",
              "      <td>0.466604</td>\n",
              "      <td>-1.467452</td>\n",
              "      <td>0.739277</td>\n",
              "    </tr>\n",
              "    <tr>\n",
              "      <th>2013-01-06</th>\n",
              "      <td>0.337573</td>\n",
              "      <td>0.828969</td>\n",
              "      <td>1.369278</td>\n",
              "      <td>-0.305797</td>\n",
              "    </tr>\n",
              "  </tbody>\n",
              "</table>\n",
              "</div>"
            ],
            "text/plain": [
              "                   A         B         C         D\n",
              "2013-01-04  1.509731 -1.800477 -1.223772 -0.272443\n",
              "2013-01-05  0.149121  0.466604 -1.467452  0.739277\n",
              "2013-01-06  0.337573  0.828969  1.369278 -0.305797"
            ]
          },
          "metadata": {
            "tags": []
          },
          "execution_count": 17
        }
      ]
    },
    {
      "metadata": {
        "id": "GAZJV4orLNgj",
        "colab_type": "text"
      },
      "cell_type": "markdown",
      "source": [
        "인덱스(Index), 열(Column) 그리고 NumPy 데이터에 대한 세부 정보를 보려면 .index, .columns, .values를 입력합니다. \n"
      ]
    },
    {
      "metadata": {
        "id": "QjyY5q21LNgj",
        "colab_type": "code",
        "colab": {
          "base_uri": "https://localhost:8080/",
          "height": 68
        },
        "outputId": "6f4c11d0-daf5-494d-dd65-92a10381024c"
      },
      "cell_type": "code",
      "source": [
        "df.index"
      ],
      "execution_count": 18,
      "outputs": [
        {
          "output_type": "execute_result",
          "data": {
            "text/plain": [
              "DatetimeIndex(['2013-01-01', '2013-01-02', '2013-01-03', '2013-01-04',\n",
              "               '2013-01-05', '2013-01-06'],\n",
              "              dtype='datetime64[ns]', freq='D')"
            ]
          },
          "metadata": {
            "tags": []
          },
          "execution_count": 18
        }
      ]
    },
    {
      "metadata": {
        "id": "uMLtdmlTLNgm",
        "colab_type": "code",
        "colab": {},
        "outputId": "8dc3f2d2-bb50-493c-866c-425882c4e9b6"
      },
      "cell_type": "code",
      "source": [
        "df.columns"
      ],
      "execution_count": 0,
      "outputs": [
        {
          "output_type": "execute_result",
          "data": {
            "text/plain": [
              "Index(['A', 'B', 'C', 'D'], dtype='object')"
            ]
          },
          "metadata": {
            "tags": []
          },
          "execution_count": 13
        }
      ]
    },
    {
      "metadata": {
        "id": "nyBJBmQ6LNgq",
        "colab_type": "code",
        "colab": {},
        "outputId": "6744cdda-15ff-4d9d-fbc4-6b3addd75de3"
      },
      "cell_type": "code",
      "source": [
        "df.values"
      ],
      "execution_count": 0,
      "outputs": [
        {
          "output_type": "execute_result",
          "data": {
            "text/plain": [
              "array([[-0.41429646, -0.19762242, -1.08519754, -0.02308603],\n",
              "       [ 1.31031598, -1.23672901,  2.27979739, -1.95998692],\n",
              "       [ 0.72371532,  0.5731255 , -1.06918956,  1.55583868],\n",
              "       [ 0.37133325, -0.61313642, -0.12820145,  0.21169111],\n",
              "       [-1.71166962, -1.47329121,  0.99667917,  0.29959364],\n",
              "       [ 0.64706968, -0.05617486, -1.39994375, -0.4958439 ]])"
            ]
          },
          "metadata": {
            "tags": []
          },
          "execution_count": 14
        }
      ]
    },
    {
      "metadata": {
        "id": "_ZTvIW8iLNgt",
        "colab_type": "text"
      },
      "cell_type": "markdown",
      "source": [
        "데이터의 대략적인 통계적 정보를 보려면 [describe() ](https://pandas.pydata.org/pandas-docs/stable/generated/pandas.DataFrame.describe.html#pandas.DataFrame.describe)를 입력합니다.  \n"
      ]
    },
    {
      "metadata": {
        "id": "xZngU-19LNgt",
        "colab_type": "code",
        "colab": {},
        "outputId": "f5e04837-e023-4c90-8c1d-18a35d051791"
      },
      "cell_type": "code",
      "source": [
        "df.describe()"
      ],
      "execution_count": 0,
      "outputs": [
        {
          "output_type": "execute_result",
          "data": {
            "text/html": [
              "<div>\n",
              "<style scoped>\n",
              "    .dataframe tbody tr th:only-of-type {\n",
              "        vertical-align: middle;\n",
              "    }\n",
              "\n",
              "    .dataframe tbody tr th {\n",
              "        vertical-align: top;\n",
              "    }\n",
              "\n",
              "    .dataframe thead th {\n",
              "        text-align: right;\n",
              "    }\n",
              "</style>\n",
              "<table border=\"1\" class=\"dataframe\">\n",
              "  <thead>\n",
              "    <tr style=\"text-align: right;\">\n",
              "      <th></th>\n",
              "      <th>A</th>\n",
              "      <th>B</th>\n",
              "      <th>C</th>\n",
              "      <th>D</th>\n",
              "    </tr>\n",
              "  </thead>\n",
              "  <tbody>\n",
              "    <tr>\n",
              "      <th>count</th>\n",
              "      <td>6.000000</td>\n",
              "      <td>6.000000</td>\n",
              "      <td>6.000000</td>\n",
              "      <td>6.000000</td>\n",
              "    </tr>\n",
              "    <tr>\n",
              "      <th>mean</th>\n",
              "      <td>0.154411</td>\n",
              "      <td>-0.500638</td>\n",
              "      <td>-0.067676</td>\n",
              "      <td>-0.068632</td>\n",
              "    </tr>\n",
              "    <tr>\n",
              "      <th>std</th>\n",
              "      <td>1.072910</td>\n",
              "      <td>0.767186</td>\n",
              "      <td>1.446407</td>\n",
              "      <td>1.150207</td>\n",
              "    </tr>\n",
              "    <tr>\n",
              "      <th>min</th>\n",
              "      <td>-1.711670</td>\n",
              "      <td>-1.473291</td>\n",
              "      <td>-1.399944</td>\n",
              "      <td>-1.959987</td>\n",
              "    </tr>\n",
              "    <tr>\n",
              "      <th>25%</th>\n",
              "      <td>-0.217889</td>\n",
              "      <td>-1.080831</td>\n",
              "      <td>-1.081196</td>\n",
              "      <td>-0.377654</td>\n",
              "    </tr>\n",
              "    <tr>\n",
              "      <th>50%</th>\n",
              "      <td>0.509201</td>\n",
              "      <td>-0.405379</td>\n",
              "      <td>-0.598696</td>\n",
              "      <td>0.094303</td>\n",
              "    </tr>\n",
              "    <tr>\n",
              "      <th>75%</th>\n",
              "      <td>0.704554</td>\n",
              "      <td>-0.091537</td>\n",
              "      <td>0.715459</td>\n",
              "      <td>0.277618</td>\n",
              "    </tr>\n",
              "    <tr>\n",
              "      <th>max</th>\n",
              "      <td>1.310316</td>\n",
              "      <td>0.573125</td>\n",
              "      <td>2.279797</td>\n",
              "      <td>1.555839</td>\n",
              "    </tr>\n",
              "  </tbody>\n",
              "</table>\n",
              "</div>"
            ],
            "text/plain": [
              "              A         B         C         D\n",
              "count  6.000000  6.000000  6.000000  6.000000\n",
              "mean   0.154411 -0.500638 -0.067676 -0.068632\n",
              "std    1.072910  0.767186  1.446407  1.150207\n",
              "min   -1.711670 -1.473291 -1.399944 -1.959987\n",
              "25%   -0.217889 -1.080831 -1.081196 -0.377654\n",
              "50%    0.509201 -0.405379 -0.598696  0.094303\n",
              "75%    0.704554 -0.091537  0.715459  0.277618\n",
              "max    1.310316  0.573125  2.279797  1.555839"
            ]
          },
          "metadata": {
            "tags": []
          },
          "execution_count": 15
        }
      ]
    },
    {
      "metadata": {
        "id": "nJd6ga6NA6E1",
        "colab_type": "text"
      },
      "cell_type": "markdown",
      "source": [
        "데이터를 전치합니다."
      ]
    },
    {
      "metadata": {
        "id": "_YcshrJjAsM4",
        "colab_type": "code",
        "colab": {
          "base_uri": "https://localhost:8080/",
          "height": 173
        },
        "outputId": "c60ee186-45bd-4236-b377-aa8b5c107cae"
      },
      "cell_type": "code",
      "source": [
        "df.T"
      ],
      "execution_count": 14,
      "outputs": [
        {
          "output_type": "execute_result",
          "data": {
            "text/html": [
              "<div>\n",
              "<style scoped>\n",
              "    .dataframe tbody tr th:only-of-type {\n",
              "        vertical-align: middle;\n",
              "    }\n",
              "\n",
              "    .dataframe tbody tr th {\n",
              "        vertical-align: top;\n",
              "    }\n",
              "\n",
              "    .dataframe thead th {\n",
              "        text-align: right;\n",
              "    }\n",
              "</style>\n",
              "<table border=\"1\" class=\"dataframe\">\n",
              "  <thead>\n",
              "    <tr style=\"text-align: right;\">\n",
              "      <th></th>\n",
              "      <th>2013-01-01 00:00:00</th>\n",
              "      <th>2013-01-02 00:00:00</th>\n",
              "      <th>2013-01-03 00:00:00</th>\n",
              "      <th>2013-01-04 00:00:00</th>\n",
              "      <th>2013-01-05 00:00:00</th>\n",
              "      <th>2013-01-06 00:00:00</th>\n",
              "    </tr>\n",
              "  </thead>\n",
              "  <tbody>\n",
              "    <tr>\n",
              "      <th>A</th>\n",
              "      <td>-0.016348</td>\n",
              "      <td>0.923949</td>\n",
              "      <td>-0.740104</td>\n",
              "      <td>1.509731</td>\n",
              "      <td>0.149121</td>\n",
              "      <td>0.337573</td>\n",
              "    </tr>\n",
              "    <tr>\n",
              "      <th>B</th>\n",
              "      <td>-1.039512</td>\n",
              "      <td>-0.600859</td>\n",
              "      <td>0.415755</td>\n",
              "      <td>-1.800477</td>\n",
              "      <td>0.466604</td>\n",
              "      <td>0.828969</td>\n",
              "    </tr>\n",
              "    <tr>\n",
              "      <th>C</th>\n",
              "      <td>2.217217</td>\n",
              "      <td>-0.046872</td>\n",
              "      <td>0.952118</td>\n",
              "      <td>-1.223772</td>\n",
              "      <td>-1.467452</td>\n",
              "      <td>1.369278</td>\n",
              "    </tr>\n",
              "    <tr>\n",
              "      <th>D</th>\n",
              "      <td>0.349947</td>\n",
              "      <td>-1.890090</td>\n",
              "      <td>-0.591175</td>\n",
              "      <td>-0.272443</td>\n",
              "      <td>0.739277</td>\n",
              "      <td>-0.305797</td>\n",
              "    </tr>\n",
              "  </tbody>\n",
              "</table>\n",
              "</div>"
            ],
            "text/plain": [
              "   2013-01-01  2013-01-02  2013-01-03  2013-01-04  2013-01-05  2013-01-06\n",
              "A   -0.016348    0.923949   -0.740104    1.509731    0.149121    0.337573\n",
              "B   -1.039512   -0.600859    0.415755   -1.800477    0.466604    0.828969\n",
              "C    2.217217   -0.046872    0.952118   -1.223772   -1.467452    1.369278\n",
              "D    0.349947   -1.890090   -0.591175   -0.272443    0.739277   -0.305797"
            ]
          },
          "metadata": {
            "tags": []
          },
          "execution_count": 14
        }
      ]
    },
    {
      "metadata": {
        "id": "qgDNXgvsA_MB",
        "colab_type": "text"
      },
      "cell_type": "markdown",
      "source": [
        "축 별로 정렬합니다."
      ]
    },
    {
      "metadata": {
        "id": "Sd5qldouAuWG",
        "colab_type": "code",
        "colab": {
          "base_uri": "https://localhost:8080/",
          "height": 235
        },
        "outputId": "fcb360f1-27fa-4da1-a836-92a0308d5545"
      },
      "cell_type": "code",
      "source": [
        "df.sort_index(axis=1, ascending=False)"
      ],
      "execution_count": 15,
      "outputs": [
        {
          "output_type": "execute_result",
          "data": {
            "text/html": [
              "<div>\n",
              "<style scoped>\n",
              "    .dataframe tbody tr th:only-of-type {\n",
              "        vertical-align: middle;\n",
              "    }\n",
              "\n",
              "    .dataframe tbody tr th {\n",
              "        vertical-align: top;\n",
              "    }\n",
              "\n",
              "    .dataframe thead th {\n",
              "        text-align: right;\n",
              "    }\n",
              "</style>\n",
              "<table border=\"1\" class=\"dataframe\">\n",
              "  <thead>\n",
              "    <tr style=\"text-align: right;\">\n",
              "      <th></th>\n",
              "      <th>D</th>\n",
              "      <th>C</th>\n",
              "      <th>B</th>\n",
              "      <th>A</th>\n",
              "    </tr>\n",
              "  </thead>\n",
              "  <tbody>\n",
              "    <tr>\n",
              "      <th>2013-01-01</th>\n",
              "      <td>0.349947</td>\n",
              "      <td>2.217217</td>\n",
              "      <td>-1.039512</td>\n",
              "      <td>-0.016348</td>\n",
              "    </tr>\n",
              "    <tr>\n",
              "      <th>2013-01-02</th>\n",
              "      <td>-1.890090</td>\n",
              "      <td>-0.046872</td>\n",
              "      <td>-0.600859</td>\n",
              "      <td>0.923949</td>\n",
              "    </tr>\n",
              "    <tr>\n",
              "      <th>2013-01-03</th>\n",
              "      <td>-0.591175</td>\n",
              "      <td>0.952118</td>\n",
              "      <td>0.415755</td>\n",
              "      <td>-0.740104</td>\n",
              "    </tr>\n",
              "    <tr>\n",
              "      <th>2013-01-04</th>\n",
              "      <td>-0.272443</td>\n",
              "      <td>-1.223772</td>\n",
              "      <td>-1.800477</td>\n",
              "      <td>1.509731</td>\n",
              "    </tr>\n",
              "    <tr>\n",
              "      <th>2013-01-05</th>\n",
              "      <td>0.739277</td>\n",
              "      <td>-1.467452</td>\n",
              "      <td>0.466604</td>\n",
              "      <td>0.149121</td>\n",
              "    </tr>\n",
              "    <tr>\n",
              "      <th>2013-01-06</th>\n",
              "      <td>-0.305797</td>\n",
              "      <td>1.369278</td>\n",
              "      <td>0.828969</td>\n",
              "      <td>0.337573</td>\n",
              "    </tr>\n",
              "  </tbody>\n",
              "</table>\n",
              "</div>"
            ],
            "text/plain": [
              "                   D         C         B         A\n",
              "2013-01-01  0.349947  2.217217 -1.039512 -0.016348\n",
              "2013-01-02 -1.890090 -0.046872 -0.600859  0.923949\n",
              "2013-01-03 -0.591175  0.952118  0.415755 -0.740104\n",
              "2013-01-04 -0.272443 -1.223772 -1.800477  1.509731\n",
              "2013-01-05  0.739277 -1.467452  0.466604  0.149121\n",
              "2013-01-06 -0.305797  1.369278  0.828969  0.337573"
            ]
          },
          "metadata": {
            "tags": []
          },
          "execution_count": 15
        }
      ]
    },
    {
      "metadata": {
        "id": "F88TTYh9BGZ5",
        "colab_type": "text"
      },
      "cell_type": "markdown",
      "source": [
        "값 별로 정렬합니다."
      ]
    },
    {
      "metadata": {
        "id": "9f7MLCxpAv67",
        "colab_type": "code",
        "colab": {
          "base_uri": "https://localhost:8080/",
          "height": 235
        },
        "outputId": "c6f617c3-d1ab-4ae9-fc8f-e54a0934ccd7"
      },
      "cell_type": "code",
      "source": [
        "df.sort_values(by='B')"
      ],
      "execution_count": 16,
      "outputs": [
        {
          "output_type": "execute_result",
          "data": {
            "text/html": [
              "<div>\n",
              "<style scoped>\n",
              "    .dataframe tbody tr th:only-of-type {\n",
              "        vertical-align: middle;\n",
              "    }\n",
              "\n",
              "    .dataframe tbody tr th {\n",
              "        vertical-align: top;\n",
              "    }\n",
              "\n",
              "    .dataframe thead th {\n",
              "        text-align: right;\n",
              "    }\n",
              "</style>\n",
              "<table border=\"1\" class=\"dataframe\">\n",
              "  <thead>\n",
              "    <tr style=\"text-align: right;\">\n",
              "      <th></th>\n",
              "      <th>A</th>\n",
              "      <th>B</th>\n",
              "      <th>C</th>\n",
              "      <th>D</th>\n",
              "    </tr>\n",
              "  </thead>\n",
              "  <tbody>\n",
              "    <tr>\n",
              "      <th>2013-01-04</th>\n",
              "      <td>1.509731</td>\n",
              "      <td>-1.800477</td>\n",
              "      <td>-1.223772</td>\n",
              "      <td>-0.272443</td>\n",
              "    </tr>\n",
              "    <tr>\n",
              "      <th>2013-01-01</th>\n",
              "      <td>-0.016348</td>\n",
              "      <td>-1.039512</td>\n",
              "      <td>2.217217</td>\n",
              "      <td>0.349947</td>\n",
              "    </tr>\n",
              "    <tr>\n",
              "      <th>2013-01-02</th>\n",
              "      <td>0.923949</td>\n",
              "      <td>-0.600859</td>\n",
              "      <td>-0.046872</td>\n",
              "      <td>-1.890090</td>\n",
              "    </tr>\n",
              "    <tr>\n",
              "      <th>2013-01-03</th>\n",
              "      <td>-0.740104</td>\n",
              "      <td>0.415755</td>\n",
              "      <td>0.952118</td>\n",
              "      <td>-0.591175</td>\n",
              "    </tr>\n",
              "    <tr>\n",
              "      <th>2013-01-05</th>\n",
              "      <td>0.149121</td>\n",
              "      <td>0.466604</td>\n",
              "      <td>-1.467452</td>\n",
              "      <td>0.739277</td>\n",
              "    </tr>\n",
              "    <tr>\n",
              "      <th>2013-01-06</th>\n",
              "      <td>0.337573</td>\n",
              "      <td>0.828969</td>\n",
              "      <td>1.369278</td>\n",
              "      <td>-0.305797</td>\n",
              "    </tr>\n",
              "  </tbody>\n",
              "</table>\n",
              "</div>"
            ],
            "text/plain": [
              "                   A         B         C         D\n",
              "2013-01-04  1.509731 -1.800477 -1.223772 -0.272443\n",
              "2013-01-01 -0.016348 -1.039512  2.217217  0.349947\n",
              "2013-01-02  0.923949 -0.600859 -0.046872 -1.890090\n",
              "2013-01-03 -0.740104  0.415755  0.952118 -0.591175\n",
              "2013-01-05  0.149121  0.466604 -1.467452  0.739277\n",
              "2013-01-06  0.337573  0.828969  1.369278 -0.305797"
            ]
          },
          "metadata": {
            "tags": []
          },
          "execution_count": 16
        }
      ]
    },
    {
      "metadata": {
        "id": "3Gqmfx7oox22",
        "colab_type": "text"
      },
      "cell_type": "markdown",
      "source": [
        "# Selection (선택)\n"
      ]
    },
    {
      "metadata": {
        "id": "MJaeG531pyqQ",
        "colab_type": "text"
      },
      "cell_type": "markdown",
      "source": [
        "주석(Note) : 선택과 설정을 위한 Python, Numpy의 표준화된 표현들이 직관적이며, 코드 작성을 위한 양방향 작업에 유용하지만 우리는 Pandas에 최적화된 데이터 접근 방법인 .at, .iat, .loc 및 .iloc. 을 추천합니다. \n",
        "\n",
        "[데이터 인덱싱 및 선택](https://pandas.pydata.org/pandas-docs/stable/indexing.html#indexing) 문서와 [다중 인덱싱 / 심화 인덱싱](https://pandas.pydata.org/pandas-docs/stable/advanced.html#advanced) 문서를 확인하십시오."
      ]
    },
    {
      "metadata": {
        "id": "DeXaTXAdp6ne",
        "colab_type": "text"
      },
      "cell_type": "markdown",
      "source": [
        "## Getting (데이터 얻기)\n",
        "\n",
        "df.A 와 동일한 Series를 생성하는 단일 열을 선택합니다."
      ]
    },
    {
      "metadata": {
        "id": "2i6jOXNMox26",
        "colab_type": "code",
        "colab": {
          "base_uri": "https://localhost:8080/",
          "height": 143
        },
        "outputId": "22438970-67ef-4658-adc0-c91bc0854de7"
      },
      "cell_type": "code",
      "source": [
        "df['A']"
      ],
      "execution_count": 0,
      "outputs": [
        {
          "output_type": "execute_result",
          "data": {
            "text/plain": [
              "2013-01-01    0.395799\n",
              "2013-01-02   -0.303496\n",
              "2013-01-03    0.677687\n",
              "2013-01-04   -1.109111\n",
              "2013-01-05   -0.223322\n",
              "2013-01-06    0.623582\n",
              "Freq: D, Name: A, dtype: float64"
            ]
          },
          "metadata": {
            "tags": []
          },
          "execution_count": 35
        }
      ]
    },
    {
      "metadata": {
        "id": "HVumS0kMr2pH",
        "colab_type": "text"
      },
      "cell_type": "markdown",
      "source": [
        "행을 분할하는 [] 를 통해 선택합니다"
      ]
    },
    {
      "metadata": {
        "id": "CN4_iAoCr-hd",
        "colab_type": "code",
        "colab": {
          "base_uri": "https://localhost:8080/",
          "height": 142
        },
        "outputId": "94b4703c-61ed-41a0-f8d5-5e9d871e6aef"
      },
      "cell_type": "code",
      "source": [
        "df[0:3]"
      ],
      "execution_count": 0,
      "outputs": [
        {
          "output_type": "execute_result",
          "data": {
            "text/html": [
              "<div>\n",
              "<style scoped>\n",
              "    .dataframe tbody tr th:only-of-type {\n",
              "        vertical-align: middle;\n",
              "    }\n",
              "\n",
              "    .dataframe tbody tr th {\n",
              "        vertical-align: top;\n",
              "    }\n",
              "\n",
              "    .dataframe thead th {\n",
              "        text-align: right;\n",
              "    }\n",
              "</style>\n",
              "<table border=\"1\" class=\"dataframe\">\n",
              "  <thead>\n",
              "    <tr style=\"text-align: right;\">\n",
              "      <th></th>\n",
              "      <th>A</th>\n",
              "      <th>B</th>\n",
              "      <th>C</th>\n",
              "      <th>D</th>\n",
              "    </tr>\n",
              "  </thead>\n",
              "  <tbody>\n",
              "    <tr>\n",
              "      <th>2013-01-01</th>\n",
              "      <td>0.395799</td>\n",
              "      <td>1.324341</td>\n",
              "      <td>0.153554</td>\n",
              "      <td>-0.672920</td>\n",
              "    </tr>\n",
              "    <tr>\n",
              "      <th>2013-01-02</th>\n",
              "      <td>-0.303496</td>\n",
              "      <td>-1.596556</td>\n",
              "      <td>-0.920610</td>\n",
              "      <td>-0.840386</td>\n",
              "    </tr>\n",
              "    <tr>\n",
              "      <th>2013-01-03</th>\n",
              "      <td>0.677687</td>\n",
              "      <td>0.204407</td>\n",
              "      <td>0.256671</td>\n",
              "      <td>-1.094652</td>\n",
              "    </tr>\n",
              "  </tbody>\n",
              "</table>\n",
              "</div>"
            ],
            "text/plain": [
              "                   A         B         C         D\n",
              "2013-01-01  0.395799  1.324341  0.153554 -0.672920\n",
              "2013-01-02 -0.303496 -1.596556 -0.920610 -0.840386\n",
              "2013-01-03  0.677687  0.204407  0.256671 -1.094652"
            ]
          },
          "metadata": {
            "tags": []
          },
          "execution_count": 36
        }
      ]
    },
    {
      "metadata": {
        "id": "rfj3fFBSsQyB",
        "colab_type": "code",
        "colab": {
          "base_uri": "https://localhost:8080/",
          "height": 142
        },
        "outputId": "66696e5a-07a9-410b-8b94-11cd4f4f5506"
      },
      "cell_type": "code",
      "source": [
        "df['20130102':'20130104']"
      ],
      "execution_count": 0,
      "outputs": [
        {
          "output_type": "execute_result",
          "data": {
            "text/html": [
              "<div>\n",
              "<style scoped>\n",
              "    .dataframe tbody tr th:only-of-type {\n",
              "        vertical-align: middle;\n",
              "    }\n",
              "\n",
              "    .dataframe tbody tr th {\n",
              "        vertical-align: top;\n",
              "    }\n",
              "\n",
              "    .dataframe thead th {\n",
              "        text-align: right;\n",
              "    }\n",
              "</style>\n",
              "<table border=\"1\" class=\"dataframe\">\n",
              "  <thead>\n",
              "    <tr style=\"text-align: right;\">\n",
              "      <th></th>\n",
              "      <th>A</th>\n",
              "      <th>B</th>\n",
              "      <th>C</th>\n",
              "      <th>D</th>\n",
              "    </tr>\n",
              "  </thead>\n",
              "  <tbody>\n",
              "    <tr>\n",
              "      <th>2013-01-02</th>\n",
              "      <td>-0.303496</td>\n",
              "      <td>-1.596556</td>\n",
              "      <td>-0.920610</td>\n",
              "      <td>-0.840386</td>\n",
              "    </tr>\n",
              "    <tr>\n",
              "      <th>2013-01-03</th>\n",
              "      <td>0.677687</td>\n",
              "      <td>0.204407</td>\n",
              "      <td>0.256671</td>\n",
              "      <td>-1.094652</td>\n",
              "    </tr>\n",
              "    <tr>\n",
              "      <th>2013-01-04</th>\n",
              "      <td>-1.109111</td>\n",
              "      <td>-0.770913</td>\n",
              "      <td>-0.330677</td>\n",
              "      <td>-0.570009</td>\n",
              "    </tr>\n",
              "  </tbody>\n",
              "</table>\n",
              "</div>"
            ],
            "text/plain": [
              "                   A         B         C         D\n",
              "2013-01-02 -0.303496 -1.596556 -0.920610 -0.840386\n",
              "2013-01-03  0.677687  0.204407  0.256671 -1.094652\n",
              "2013-01-04 -1.109111 -0.770913 -0.330677 -0.570009"
            ]
          },
          "metadata": {
            "tags": []
          },
          "execution_count": 37
        }
      ]
    },
    {
      "metadata": {
        "id": "izNpv79bsGV7",
        "colab_type": "text"
      },
      "cell_type": "markdown",
      "source": [
        "## Selection by Label (Label 을 통한 선택)\n",
        "\n",
        "[Label을 통한 선택](https://pandas.pydata.org/pandas-docs/stable/indexing.html#indexing-label)에서 더 많은 내용을 확인하세요.\n",
        "\n",
        "라벨을 사용하여 횡단면을 얻는 방법입니다."
      ]
    },
    {
      "metadata": {
        "id": "SiL6JlaRs7DM",
        "colab_type": "code",
        "colab": {
          "base_uri": "https://localhost:8080/",
          "height": 107
        },
        "outputId": "d5a7ae9f-2ac7-4d9b-c3e8-65a523f822db"
      },
      "cell_type": "code",
      "source": [
        "df.loc[dates[0]]"
      ],
      "execution_count": 0,
      "outputs": [
        {
          "output_type": "execute_result",
          "data": {
            "text/plain": [
              "A    0.395799\n",
              "B    1.324341\n",
              "C    0.153554\n",
              "D   -0.672920\n",
              "Name: 2013-01-01 00:00:00, dtype: float64"
            ]
          },
          "metadata": {
            "tags": []
          },
          "execution_count": 38
        }
      ]
    },
    {
      "metadata": {
        "id": "wqEiM9ZKsVDW",
        "colab_type": "text"
      },
      "cell_type": "markdown",
      "source": [
        "라벨을 사용하여 여러 축(의 데이터)을 얻는 방법입니다."
      ]
    },
    {
      "metadata": {
        "id": "ujryWjpRtV9f",
        "colab_type": "code",
        "colab": {
          "base_uri": "https://localhost:8080/",
          "height": 235
        },
        "outputId": "5ad5b0a2-e131-476e-c85a-2a0d2120d78d"
      },
      "cell_type": "code",
      "source": [
        "df.loc[:,['A','B']]"
      ],
      "execution_count": 0,
      "outputs": [
        {
          "output_type": "execute_result",
          "data": {
            "text/html": [
              "<div>\n",
              "<style scoped>\n",
              "    .dataframe tbody tr th:only-of-type {\n",
              "        vertical-align: middle;\n",
              "    }\n",
              "\n",
              "    .dataframe tbody tr th {\n",
              "        vertical-align: top;\n",
              "    }\n",
              "\n",
              "    .dataframe thead th {\n",
              "        text-align: right;\n",
              "    }\n",
              "</style>\n",
              "<table border=\"1\" class=\"dataframe\">\n",
              "  <thead>\n",
              "    <tr style=\"text-align: right;\">\n",
              "      <th></th>\n",
              "      <th>A</th>\n",
              "      <th>B</th>\n",
              "    </tr>\n",
              "  </thead>\n",
              "  <tbody>\n",
              "    <tr>\n",
              "      <th>2013-01-01</th>\n",
              "      <td>0.395799</td>\n",
              "      <td>1.324341</td>\n",
              "    </tr>\n",
              "    <tr>\n",
              "      <th>2013-01-02</th>\n",
              "      <td>-0.303496</td>\n",
              "      <td>-1.596556</td>\n",
              "    </tr>\n",
              "    <tr>\n",
              "      <th>2013-01-03</th>\n",
              "      <td>0.677687</td>\n",
              "      <td>0.204407</td>\n",
              "    </tr>\n",
              "    <tr>\n",
              "      <th>2013-01-04</th>\n",
              "      <td>-1.109111</td>\n",
              "      <td>-0.770913</td>\n",
              "    </tr>\n",
              "    <tr>\n",
              "      <th>2013-01-05</th>\n",
              "      <td>-0.223322</td>\n",
              "      <td>0.305182</td>\n",
              "    </tr>\n",
              "    <tr>\n",
              "      <th>2013-01-06</th>\n",
              "      <td>0.623582</td>\n",
              "      <td>0.705459</td>\n",
              "    </tr>\n",
              "  </tbody>\n",
              "</table>\n",
              "</div>"
            ],
            "text/plain": [
              "                   A         B\n",
              "2013-01-01  0.395799  1.324341\n",
              "2013-01-02 -0.303496 -1.596556\n",
              "2013-01-03  0.677687  0.204407\n",
              "2013-01-04 -1.109111 -0.770913\n",
              "2013-01-05 -0.223322  0.305182\n",
              "2013-01-06  0.623582  0.705459"
            ]
          },
          "metadata": {
            "tags": []
          },
          "execution_count": 39
        }
      ]
    },
    {
      "metadata": {
        "id": "SuyHx40itars",
        "colab_type": "text"
      },
      "cell_type": "markdown",
      "source": [
        "양쪽 종단점을 포함한 라벨 슬라이싱을 봅시다."
      ]
    },
    {
      "metadata": {
        "id": "Dxq_ixT7tgMB",
        "colab_type": "code",
        "colab": {
          "base_uri": "https://localhost:8080/",
          "height": 142
        },
        "outputId": "164e19b6-8975-4263-a285-3ce6b6100d4c"
      },
      "cell_type": "code",
      "source": [
        "df.loc['20130102':'20130104', ['A','B']]"
      ],
      "execution_count": 0,
      "outputs": [
        {
          "output_type": "execute_result",
          "data": {
            "text/html": [
              "<div>\n",
              "<style scoped>\n",
              "    .dataframe tbody tr th:only-of-type {\n",
              "        vertical-align: middle;\n",
              "    }\n",
              "\n",
              "    .dataframe tbody tr th {\n",
              "        vertical-align: top;\n",
              "    }\n",
              "\n",
              "    .dataframe thead th {\n",
              "        text-align: right;\n",
              "    }\n",
              "</style>\n",
              "<table border=\"1\" class=\"dataframe\">\n",
              "  <thead>\n",
              "    <tr style=\"text-align: right;\">\n",
              "      <th></th>\n",
              "      <th>A</th>\n",
              "      <th>B</th>\n",
              "    </tr>\n",
              "  </thead>\n",
              "  <tbody>\n",
              "    <tr>\n",
              "      <th>2013-01-02</th>\n",
              "      <td>-0.303496</td>\n",
              "      <td>-1.596556</td>\n",
              "    </tr>\n",
              "    <tr>\n",
              "      <th>2013-01-03</th>\n",
              "      <td>0.677687</td>\n",
              "      <td>0.204407</td>\n",
              "    </tr>\n",
              "    <tr>\n",
              "      <th>2013-01-04</th>\n",
              "      <td>-1.109111</td>\n",
              "      <td>-0.770913</td>\n",
              "    </tr>\n",
              "  </tbody>\n",
              "</table>\n",
              "</div>"
            ],
            "text/plain": [
              "                   A         B\n",
              "2013-01-02 -0.303496 -1.596556\n",
              "2013-01-03  0.677687  0.204407\n",
              "2013-01-04 -1.109111 -0.770913"
            ]
          },
          "metadata": {
            "tags": []
          },
          "execution_count": 40
        }
      ]
    },
    {
      "metadata": {
        "id": "NByKKdFXtsnP",
        "colab_type": "text"
      },
      "cell_type": "markdown",
      "source": [
        "반환되는 객체의 크기를 줄입니다."
      ]
    },
    {
      "metadata": {
        "id": "ih2FqQaStyEv",
        "colab_type": "code",
        "colab": {
          "base_uri": "https://localhost:8080/",
          "height": 71
        },
        "outputId": "78e576b9-e79f-4474-b44f-8a88764addd8"
      },
      "cell_type": "code",
      "source": [
        "df.loc['20130102',['A','B']]"
      ],
      "execution_count": 0,
      "outputs": [
        {
          "output_type": "execute_result",
          "data": {
            "text/plain": [
              "A   -0.303496\n",
              "B   -1.596556\n",
              "Name: 2013-01-02 00:00:00, dtype: float64"
            ]
          },
          "metadata": {
            "tags": []
          },
          "execution_count": 41
        }
      ]
    },
    {
      "metadata": {
        "id": "Mgdkhb3at1wM",
        "colab_type": "text"
      },
      "cell_type": "markdown",
      "source": [
        "스칼라 값을 얻습니다."
      ]
    },
    {
      "metadata": {
        "id": "umW1SZZQt5Q0",
        "colab_type": "code",
        "colab": {
          "base_uri": "https://localhost:8080/",
          "height": 35
        },
        "outputId": "435aceb3-ae2d-4da4-9b93-872a03dac053"
      },
      "cell_type": "code",
      "source": [
        "df.loc[dates[0],'A']"
      ],
      "execution_count": 0,
      "outputs": [
        {
          "output_type": "execute_result",
          "data": {
            "text/plain": [
              "0.39579879602076895"
            ]
          },
          "metadata": {
            "tags": []
          },
          "execution_count": 42
        }
      ]
    },
    {
      "metadata": {
        "id": "8DN1MLxHt9Xb",
        "colab_type": "text"
      },
      "cell_type": "markdown",
      "source": [
        "스칼라 값을 더 빠르게 구하는 방법입니다. (앞선 method와 동일합니다)"
      ]
    },
    {
      "metadata": {
        "id": "FxxN4hauuDLB",
        "colab_type": "code",
        "colab": {
          "base_uri": "https://localhost:8080/",
          "height": 35
        },
        "outputId": "7061048c-c5ad-473e-f4ef-aa17c3a276f3"
      },
      "cell_type": "code",
      "source": [
        "df.at[dates[0],'A']"
      ],
      "execution_count": 0,
      "outputs": [
        {
          "output_type": "execute_result",
          "data": {
            "text/plain": [
              "0.39579879602076895"
            ]
          },
          "metadata": {
            "tags": []
          },
          "execution_count": 43
        }
      ]
    },
    {
      "metadata": {
        "id": "v7BFmgcRLNif",
        "colab_type": "text"
      },
      "cell_type": "markdown",
      "source": [
        "## Selection by Position (위치로 선택하기)"
      ]
    },
    {
      "metadata": {
        "id": "HdUlCKcMLNig",
        "colab_type": "text"
      },
      "cell_type": "markdown",
      "source": [
        "자세한 내용은 [위치로 선택하기](https://pandas.pydata.org/pandas-docs/stable/indexing.html#indexing-integer)를 참고해주세요.\n",
        "\n",
        "넘겨받은 정수의 위치로 선택하기:"
      ]
    },
    {
      "metadata": {
        "id": "CI_RX7HL2dbm",
        "colab_type": "code",
        "colab": {
          "base_uri": "https://localhost:8080/",
          "height": 172
        },
        "outputId": "b7c0df96-dc42-4acf-8d05-3c1c0203cc9a"
      },
      "cell_type": "code",
      "source": [
        "df.iloc[3]"
      ],
      "execution_count": 1,
      "outputs": [
        {
          "output_type": "error",
          "ename": "NameError",
          "evalue": "ignored",
          "traceback": [
            "\u001b[0;31m---------------------------------------------------------------------------\u001b[0m",
            "\u001b[0;31mNameError\u001b[0m                                 Traceback (most recent call last)",
            "\u001b[0;32m<ipython-input-1-dd7c84f36f80>\u001b[0m in \u001b[0;36m<module>\u001b[0;34m()\u001b[0m\n\u001b[0;32m----> 1\u001b[0;31m \u001b[0mdf\u001b[0m\u001b[0;34m.\u001b[0m\u001b[0miloc\u001b[0m\u001b[0;34m[\u001b[0m\u001b[0;36m3\u001b[0m\u001b[0;34m]\u001b[0m\u001b[0;34m\u001b[0m\u001b[0m\n\u001b[0m",
            "\u001b[0;31mNameError\u001b[0m: name 'df' is not defined"
          ]
        }
      ]
    },
    {
      "metadata": {
        "id": "oARGkVI-23ZC",
        "colab_type": "text"
      },
      "cell_type": "markdown",
      "source": [
        "넘파이/파이썬 작동 방식처럼 정수로 표기된 슬라이스로 선택하기:"
      ]
    },
    {
      "metadata": {
        "id": "ZVV94o9-24yW",
        "colab_type": "code",
        "colab": {}
      },
      "cell_type": "code",
      "source": [
        "df.iloc[3:5,0:2]"
      ],
      "execution_count": 0,
      "outputs": []
    },
    {
      "metadata": {
        "id": "Y2gjiEGT27yA",
        "colab_type": "text"
      },
      "cell_type": "markdown",
      "source": [
        "넘파이/파이썬 작동 방식처럼 정수로 표기된 위치값을 기반으로 선택하기:"
      ]
    },
    {
      "metadata": {
        "id": "u3AnE1li2-sH",
        "colab_type": "code",
        "colab": {}
      },
      "cell_type": "code",
      "source": [
        "df.iloc[[1,2,4],[0,2]]"
      ],
      "execution_count": 0,
      "outputs": []
    },
    {
      "metadata": {
        "id": "h5yyrWSQ3AmB",
        "colab_type": "text"
      },
      "cell_type": "markdown",
      "source": [
        "행만 나누고 싶을 때:"
      ]
    },
    {
      "metadata": {
        "id": "aeiKSATs3CwL",
        "colab_type": "code",
        "colab": {}
      },
      "cell_type": "code",
      "source": [
        "df.iloc[1:3,:]"
      ],
      "execution_count": 0,
      "outputs": []
    },
    {
      "metadata": {
        "id": "DLvxy1xF3GhR",
        "colab_type": "text"
      },
      "cell_type": "markdown",
      "source": [
        "열만 나누고 싶을 때:"
      ]
    },
    {
      "metadata": {
        "id": "wAS-Ezax3IZC",
        "colab_type": "code",
        "colab": {}
      },
      "cell_type": "code",
      "source": [
        "df.iloc[:,1:3]"
      ],
      "execution_count": 0,
      "outputs": []
    },
    {
      "metadata": {
        "id": "QH-roZC_3Jvj",
        "colab_type": "text"
      },
      "cell_type": "markdown",
      "source": [
        "값만 얻고 싶을 때:"
      ]
    },
    {
      "metadata": {
        "id": "YM9Q-Ami3LeF",
        "colab_type": "code",
        "colab": {}
      },
      "cell_type": "code",
      "source": [
        "df.iloc[1,1]"
      ],
      "execution_count": 0,
      "outputs": []
    },
    {
      "metadata": {
        "id": "R_2xOsp13O13",
        "colab_type": "text"
      },
      "cell_type": "markdown",
      "source": [
        "스칼라 값을 빨리 얻고 싶을 때(위 방식과 동일):"
      ]
    },
    {
      "metadata": {
        "id": "asy0eDSB3PO6",
        "colab_type": "code",
        "colab": {}
      },
      "cell_type": "code",
      "source": [
        "df.iat[1,1]"
      ],
      "execution_count": 0,
      "outputs": []
    },
    {
      "metadata": {
        "id": "FTKvfT0oDv3x",
        "colab_type": "text"
      },
      "cell_type": "markdown",
      "source": [
        "## Boolean Indexing (부울인덱싱)"
      ]
    },
    {
      "metadata": {
        "id": "J0pm13XREbg6",
        "colab_type": "text"
      },
      "cell_type": "markdown",
      "source": [
        "선택한 데이터에 단일 열의 값을 사용합니다."
      ]
    },
    {
      "metadata": {
        "id": "gFiUEOadDlBY",
        "colab_type": "code",
        "colab": {
          "base_uri": "https://localhost:8080/",
          "height": 169
        },
        "outputId": "d97fc21c-eb50-4a7f-c276-8ee567d05c3e"
      },
      "cell_type": "code",
      "source": [
        "df[df.A > 0]"
      ],
      "execution_count": 1,
      "outputs": [
        {
          "output_type": "error",
          "ename": "NameError",
          "evalue": "ignored",
          "traceback": [
            "\u001b[0;31m---------------------------------------------------------------------------\u001b[0m",
            "\u001b[0;31mNameError\u001b[0m                                 Traceback (most recent call last)",
            "\u001b[0;32m<ipython-input-1-4c1bb2a68b7c>\u001b[0m in \u001b[0;36m<module>\u001b[0;34m()\u001b[0m\n\u001b[0;32m----> 1\u001b[0;31m \u001b[0mdf\u001b[0m\u001b[0;34m[\u001b[0m\u001b[0mdf\u001b[0m\u001b[0;34m.\u001b[0m\u001b[0mA\u001b[0m \u001b[0;34m>\u001b[0m \u001b[0;36m0\u001b[0m\u001b[0;34m]\u001b[0m\u001b[0;34m\u001b[0m\u001b[0m\n\u001b[0m",
            "\u001b[0;31mNameError\u001b[0m: name 'df' is not defined"
          ]
        }
      ]
    },
    {
      "metadata": {
        "id": "3sGsFS1sEqT6",
        "colab_type": "text"
      },
      "cell_type": "markdown",
      "source": [
        "부울 조건에 충족되는 데이터프레임에서 변수를 선택합니다."
      ]
    },
    {
      "metadata": {
        "id": "tZhjIBa2Eqou",
        "colab_type": "code",
        "colab": {
          "base_uri": "https://localhost:8080/",
          "height": 169
        },
        "outputId": "57f4dfa6-7db6-4f64-f4c8-8d66dc92cc8b"
      },
      "cell_type": "code",
      "source": [
        "df[df > 0]"
      ],
      "execution_count": 2,
      "outputs": [
        {
          "output_type": "error",
          "ename": "NameError",
          "evalue": "ignored",
          "traceback": [
            "\u001b[0;31m---------------------------------------------------------------------------\u001b[0m",
            "\u001b[0;31mNameError\u001b[0m                                 Traceback (most recent call last)",
            "\u001b[0;32m<ipython-input-2-3990d321393d>\u001b[0m in \u001b[0;36m<module>\u001b[0;34m()\u001b[0m\n\u001b[0;32m----> 1\u001b[0;31m \u001b[0mdf\u001b[0m\u001b[0;34m[\u001b[0m\u001b[0mdf\u001b[0m \u001b[0;34m>\u001b[0m \u001b[0;36m0\u001b[0m\u001b[0;34m]\u001b[0m\u001b[0;34m\u001b[0m\u001b[0m\n\u001b[0m",
            "\u001b[0;31mNameError\u001b[0m: name 'df' is not defined"
          ]
        }
      ]
    },
    {
      "metadata": {
        "id": "vzBroT61Eu78",
        "colab_type": "text"
      },
      "cell_type": "markdown",
      "source": [
        "필터링 방법인 [isin()](https://pandas.pydata.org/pandas-docs/stable/generated/pandas.Series.isin.html#pandas.Series.isin)을 사용합니다."
      ]
    },
    {
      "metadata": {
        "id": "aMskyf_-E4MI",
        "colab_type": "code",
        "colab": {
          "base_uri": "https://localhost:8080/",
          "height": 169
        },
        "outputId": "abf069e4-25c3-408c-a1da-9ddd5c38a5cb"
      },
      "cell_type": "code",
      "source": [
        "df2 = df.copy()"
      ],
      "execution_count": 3,
      "outputs": [
        {
          "output_type": "error",
          "ename": "NameError",
          "evalue": "ignored",
          "traceback": [
            "\u001b[0;31m---------------------------------------------------------------------------\u001b[0m",
            "\u001b[0;31mNameError\u001b[0m                                 Traceback (most recent call last)",
            "\u001b[0;32m<ipython-input-3-5239123e9f27>\u001b[0m in \u001b[0;36m<module>\u001b[0;34m()\u001b[0m\n\u001b[0;32m----> 1\u001b[0;31m \u001b[0mdf2\u001b[0m \u001b[0;34m=\u001b[0m \u001b[0mdf\u001b[0m\u001b[0;34m.\u001b[0m\u001b[0mcopy\u001b[0m\u001b[0;34m(\u001b[0m\u001b[0;34m)\u001b[0m\u001b[0;34m\u001b[0m\u001b[0m\n\u001b[0m",
            "\u001b[0;31mNameError\u001b[0m: name 'df' is not defined"
          ]
        }
      ]
    },
    {
      "metadata": {
        "id": "513jhj4ZE4eW",
        "colab_type": "code",
        "colab": {
          "base_uri": "https://localhost:8080/",
          "height": 169
        },
        "outputId": "7734887b-6f09-49d4-f346-4770455f7eb2"
      },
      "cell_type": "code",
      "source": [
        "df2['E'] = ['one', 'one','two','three','four','three']"
      ],
      "execution_count": 6,
      "outputs": [
        {
          "output_type": "error",
          "ename": "NameError",
          "evalue": "ignored",
          "traceback": [
            "\u001b[0;31m---------------------------------------------------------------------------\u001b[0m",
            "\u001b[0;31mNameError\u001b[0m                                 Traceback (most recent call last)",
            "\u001b[0;32m<ipython-input-6-c2648a571dfc>\u001b[0m in \u001b[0;36m<module>\u001b[0;34m()\u001b[0m\n\u001b[0;32m----> 1\u001b[0;31m \u001b[0mdf2\u001b[0m\u001b[0;34m[\u001b[0m\u001b[0;34m'E'\u001b[0m\u001b[0;34m]\u001b[0m \u001b[0;34m=\u001b[0m \u001b[0;34m[\u001b[0m\u001b[0;34m'one'\u001b[0m\u001b[0;34m,\u001b[0m \u001b[0;34m'one'\u001b[0m\u001b[0;34m,\u001b[0m\u001b[0;34m'two'\u001b[0m\u001b[0;34m,\u001b[0m\u001b[0;34m'three'\u001b[0m\u001b[0;34m,\u001b[0m\u001b[0;34m'four'\u001b[0m\u001b[0;34m,\u001b[0m\u001b[0;34m'three'\u001b[0m\u001b[0;34m]\u001b[0m\u001b[0;34m\u001b[0m\u001b[0m\n\u001b[0m",
            "\u001b[0;31mNameError\u001b[0m: name 'df2' is not defined"
          ]
        }
      ]
    },
    {
      "metadata": {
        "id": "oJyqTZ08E4ml",
        "colab_type": "code",
        "colab": {
          "base_uri": "https://localhost:8080/",
          "height": 169
        },
        "outputId": "b6ce1a41-ae59-4903-e094-36115ee167c6"
      },
      "cell_type": "code",
      "source": [
        "df2"
      ],
      "execution_count": 7,
      "outputs": [
        {
          "output_type": "error",
          "ename": "NameError",
          "evalue": "ignored",
          "traceback": [
            "\u001b[0;31m---------------------------------------------------------------------------\u001b[0m",
            "\u001b[0;31mNameError\u001b[0m                                 Traceback (most recent call last)",
            "\u001b[0;32m<ipython-input-7-2068723f1203>\u001b[0m in \u001b[0;36m<module>\u001b[0;34m()\u001b[0m\n\u001b[0;32m----> 1\u001b[0;31m \u001b[0mdf2\u001b[0m\u001b[0;34m\u001b[0m\u001b[0m\n\u001b[0m",
            "\u001b[0;31mNameError\u001b[0m: name 'df2' is not defined"
          ]
        }
      ]
    },
    {
      "metadata": {
        "id": "VgrLcC_5FCEC",
        "colab_type": "code",
        "colab": {
          "base_uri": "https://localhost:8080/",
          "height": 169
        },
        "outputId": "87a55c0d-ca68-4582-de12-4ce057c4b19a"
      },
      "cell_type": "code",
      "source": [
        "df2[df2['E'].isin(['two','four'])]"
      ],
      "execution_count": 8,
      "outputs": [
        {
          "output_type": "error",
          "ename": "NameError",
          "evalue": "ignored",
          "traceback": [
            "\u001b[0;31m---------------------------------------------------------------------------\u001b[0m",
            "\u001b[0;31mNameError\u001b[0m                                 Traceback (most recent call last)",
            "\u001b[0;32m<ipython-input-8-bdde5e490798>\u001b[0m in \u001b[0;36m<module>\u001b[0;34m()\u001b[0m\n\u001b[0;32m----> 1\u001b[0;31m \u001b[0mdf2\u001b[0m\u001b[0;34m[\u001b[0m\u001b[0mdf2\u001b[0m\u001b[0;34m[\u001b[0m\u001b[0;34m'E'\u001b[0m\u001b[0;34m]\u001b[0m\u001b[0;34m.\u001b[0m\u001b[0misin\u001b[0m\u001b[0;34m(\u001b[0m\u001b[0;34m[\u001b[0m\u001b[0;34m'two'\u001b[0m\u001b[0;34m,\u001b[0m\u001b[0;34m'four'\u001b[0m\u001b[0;34m]\u001b[0m\u001b[0;34m)\u001b[0m\u001b[0;34m]\u001b[0m\u001b[0;34m\u001b[0m\u001b[0m\n\u001b[0m",
            "\u001b[0;31mNameError\u001b[0m: name 'df2' is not defined"
          ]
        }
      ]
    },
    {
      "metadata": {
        "id": "qTihaKMQLNjE",
        "colab_type": "text"
      },
      "cell_type": "markdown",
      "source": [
        "## Setting (설정)\n",
        "새로운 열을 날짜와 인덱스에 따라 자동적으로 줄이 맞춰지도록 설정합니다. "
      ]
    },
    {
      "metadata": {
        "id": "fvQJ2s5SLNjE",
        "colab_type": "code",
        "colab": {}
      },
      "cell_type": "code",
      "source": [
        "s1 = pd.Series([1,2,3,4,5,6], index=pd.date_range('20130102', periods=6))"
      ],
      "execution_count": 0,
      "outputs": []
    },
    {
      "metadata": {
        "id": "PQDBCDXh7TKl",
        "colab_type": "code",
        "colab": {}
      },
      "cell_type": "code",
      "source": [
        "s1"
      ],
      "execution_count": 0,
      "outputs": []
    },
    {
      "metadata": {
        "id": "Rby6vIlw7ZBZ",
        "colab_type": "code",
        "colab": {}
      },
      "cell_type": "code",
      "source": [
        "df['F'] = s1"
      ],
      "execution_count": 0,
      "outputs": []
    },
    {
      "metadata": {
        "id": "uzRnbME87d3c",
        "colab_type": "text"
      },
      "cell_type": "markdown",
      "source": [
        "\n",
        "라벨에 따라 값을 설정하고 싶다면 :"
      ]
    },
    {
      "metadata": {
        "id": "y7IBkcwrLNjG",
        "colab_type": "code",
        "colab": {},
        "outputId": "4a225365-b06d-4df9-a7b2-953b9c4af5ef"
      },
      "cell_type": "code",
      "source": [
        "df.at[dates[0],'A'] = 0"
      ],
      "execution_count": 0,
      "outputs": [
        {
          "output_type": "execute_result",
          "data": {
            "text/plain": [
              "DatetimeIndex(['2013-01-01', '2013-01-02', '2013-01-03', '2013-01-04',\n",
              "               '2013-01-05', '2013-01-06'],\n",
              "              dtype='datetime64[ns]', freq='D')"
            ]
          },
          "metadata": {
            "tags": []
          },
          "execution_count": 58
        }
      ]
    },
    {
      "metadata": {
        "id": "sMtaX7Ac8cH_",
        "colab_type": "text"
      },
      "cell_type": "markdown",
      "source": [
        "위치에 따라 값을 설정하고 싶다면 :"
      ]
    },
    {
      "metadata": {
        "id": "-gJFmCz47iSS",
        "colab_type": "code",
        "colab": {}
      },
      "cell_type": "code",
      "source": [
        "df.iat[0,1] = 0"
      ],
      "execution_count": 0,
      "outputs": []
    },
    {
      "metadata": {
        "id": "ogxVud9A81yE",
        "colab_type": "text"
      },
      "cell_type": "markdown",
      "source": [
        "Numpy 배열로 할당하고 싶다면  :"
      ]
    },
    {
      "metadata": {
        "id": "oP7RrCLm8zAT",
        "colab_type": "code",
        "colab": {}
      },
      "cell_type": "code",
      "source": [
        "df.loc[:,'D'] = np.array([5] * len(df))"
      ],
      "execution_count": 0,
      "outputs": []
    },
    {
      "metadata": {
        "id": "tGHZXR-K9IBc",
        "colab_type": "text"
      },
      "cell_type": "markdown",
      "source": [
        "위 설정대로 작동한 결과입니다."
      ]
    },
    {
      "metadata": {
        "id": "TH7YbAYFLNjM",
        "colab_type": "code",
        "colab": {},
        "outputId": "4d3ecaf9-a9a3-4379-fb7a-c6bb708b448b"
      },
      "cell_type": "code",
      "source": [
        "df"
      ],
      "execution_count": 0,
      "outputs": [
        {
          "output_type": "execute_result",
          "data": {
            "text/html": [
              "<div>\n",
              "<style scoped>\n",
              "    .dataframe tbody tr th:only-of-type {\n",
              "        vertical-align: middle;\n",
              "    }\n",
              "\n",
              "    .dataframe tbody tr th {\n",
              "        vertical-align: top;\n",
              "    }\n",
              "\n",
              "    .dataframe thead th {\n",
              "        text-align: right;\n",
              "    }\n",
              "</style>\n",
              "<table border=\"1\" class=\"dataframe\">\n",
              "  <thead>\n",
              "    <tr style=\"text-align: right;\">\n",
              "      <th></th>\n",
              "      <th>A</th>\n",
              "      <th>B</th>\n",
              "      <th>C</th>\n",
              "      <th>D</th>\n",
              "    </tr>\n",
              "  </thead>\n",
              "  <tbody>\n",
              "    <tr>\n",
              "      <th>2013-01-01</th>\n",
              "      <td>-1.479995</td>\n",
              "      <td>0.361202</td>\n",
              "      <td>1.486119</td>\n",
              "      <td>0.115256</td>\n",
              "    </tr>\n",
              "    <tr>\n",
              "      <th>2013-01-02</th>\n",
              "      <td>-0.221067</td>\n",
              "      <td>0.487654</td>\n",
              "      <td>0.938039</td>\n",
              "      <td>-0.741746</td>\n",
              "    </tr>\n",
              "    <tr>\n",
              "      <th>2013-01-03</th>\n",
              "      <td>0.729247</td>\n",
              "      <td>-0.215760</td>\n",
              "      <td>0.337932</td>\n",
              "      <td>-1.177466</td>\n",
              "    </tr>\n",
              "    <tr>\n",
              "      <th>2013-01-04</th>\n",
              "      <td>0.847000</td>\n",
              "      <td>-0.118338</td>\n",
              "      <td>0.038752</td>\n",
              "      <td>-0.727101</td>\n",
              "    </tr>\n",
              "    <tr>\n",
              "      <th>2013-01-05</th>\n",
              "      <td>-0.239768</td>\n",
              "      <td>-0.581571</td>\n",
              "      <td>0.884636</td>\n",
              "      <td>0.134043</td>\n",
              "    </tr>\n",
              "    <tr>\n",
              "      <th>2013-01-06</th>\n",
              "      <td>0.204809</td>\n",
              "      <td>-0.082419</td>\n",
              "      <td>0.846424</td>\n",
              "      <td>-0.720843</td>\n",
              "    </tr>\n",
              "  </tbody>\n",
              "</table>\n",
              "</div>"
            ],
            "text/plain": [
              "                   A         B         C         D\n",
              "2013-01-01 -1.479995  0.361202  1.486119  0.115256\n",
              "2013-01-02 -0.221067  0.487654  0.938039 -0.741746\n",
              "2013-01-03  0.729247 -0.215760  0.337932 -1.177466\n",
              "2013-01-04  0.847000 -0.118338  0.038752 -0.727101\n",
              "2013-01-05 -0.239768 -0.581571  0.884636  0.134043\n",
              "2013-01-06  0.204809 -0.082419  0.846424 -0.720843"
            ]
          },
          "metadata": {
            "tags": []
          },
          "execution_count": 60
        }
      ]
    },
    {
      "metadata": {
        "id": "ATHUfgEp-afg",
        "colab_type": "text"
      },
      "cell_type": "markdown",
      "source": [
        "설정된 where 작업입니다."
      ]
    },
    {
      "metadata": {
        "id": "CYGS8DZeLNjN",
        "colab_type": "code",
        "colab": {}
      },
      "cell_type": "code",
      "source": [
        "df2 = df.copy()"
      ],
      "execution_count": 0,
      "outputs": []
    },
    {
      "metadata": {
        "id": "ENx6j5B3-T4P",
        "colab_type": "code",
        "colab": {}
      },
      "cell_type": "code",
      "source": [
        "df2[df2 > 0] = -df2"
      ],
      "execution_count": 0,
      "outputs": []
    },
    {
      "metadata": {
        "id": "C-4V1gy8-YME",
        "colab_type": "code",
        "colab": {}
      },
      "cell_type": "code",
      "source": [
        "df2"
      ],
      "execution_count": 0,
      "outputs": []
    },
    {
      "metadata": {
        "id": "f7mkUirR5hit",
        "colab_type": "text"
      },
      "cell_type": "markdown",
      "source": [
        "# Missing Data(결측치)"
      ]
    },
    {
      "metadata": {
        "id": "p1uohebm9Emf",
        "colab_type": "text"
      },
      "cell_type": "markdown",
      "source": [
        "pandas는 missing data(결측치)를 표현하기 위해 주로 np.nan 값을 사용합니다. 이 방법은 default(기본 설정)이지만 계산에는 포함되지 않습니다. [Missing Data section](https://pandas.pydata.org/pandas-docs/stable/missing_data.html#missing-data)을 참조하십시오.\n",
        "\n",
        "\n"
      ]
    },
    {
      "metadata": {
        "id": "xAVZmDGC96Nn",
        "colab_type": "text"
      },
      "cell_type": "markdown",
      "source": [
        "Reindexing으로 지정된 축을 변경/추가/삭제할 수 있습니다. Reindexing은 데이터 복사본을 반환합니다."
      ]
    },
    {
      "metadata": {
        "id": "zCxw1r4M-Pmt",
        "colab_type": "code",
        "colab": {}
      },
      "cell_type": "code",
      "source": [
        "df1 = df.reindex(index=dates[0:4], columns=list(df.columns) + ['E'])"
      ],
      "execution_count": 0,
      "outputs": []
    },
    {
      "metadata": {
        "id": "Oi_hYCsu-hfJ",
        "colab_type": "code",
        "colab": {}
      },
      "cell_type": "code",
      "source": [
        "df1.loc[dates[0]:dates[1],'E'] = 1"
      ],
      "execution_count": 0,
      "outputs": []
    },
    {
      "metadata": {
        "id": "w6yiTzDK-jwg",
        "colab_type": "code",
        "colab": {}
      },
      "cell_type": "code",
      "source": [
        "df1"
      ],
      "execution_count": 0,
      "outputs": []
    },
    {
      "metadata": {
        "id": "nzGUIHyfAW3Y",
        "colab_type": "text"
      },
      "cell_type": "markdown",
      "source": [
        "missing data(결측치)를 갖고 있는 행들을 지웁니다."
      ]
    },
    {
      "metadata": {
        "id": "S-zlTo0pAeyf",
        "colab_type": "code",
        "colab": {}
      },
      "cell_type": "code",
      "source": [
        "df1.dropna(how='any')"
      ],
      "execution_count": 0,
      "outputs": []
    },
    {
      "metadata": {
        "id": "vrgy7BjkAfCF",
        "colab_type": "text"
      },
      "cell_type": "markdown",
      "source": [
        "missing data(결측치)를 채웁니다."
      ]
    },
    {
      "metadata": {
        "id": "h4nTFHr6AfUt",
        "colab_type": "code",
        "colab": {}
      },
      "cell_type": "code",
      "source": [
        "df1.fillna(value=5)"
      ],
      "execution_count": 0,
      "outputs": []
    },
    {
      "metadata": {
        "id": "rWuLWklCAkWB",
        "colab_type": "text"
      },
      "cell_type": "markdown",
      "source": [
        "값이 nan인 boolean mask 얻습니다."
      ]
    },
    {
      "metadata": {
        "id": "tcWqhC4IBAgI",
        "colab_type": "code",
        "colab": {}
      },
      "cell_type": "code",
      "source": [
        "pd.isna(df1)"
      ],
      "execution_count": 0,
      "outputs": []
    },
    {
      "metadata": {
        "id": "_Vtbv3Am59wL",
        "colab_type": "text"
      },
      "cell_type": "markdown",
      "source": [
        "# Operation (연산)"
      ]
    },
    {
      "metadata": {
        "id": "rX4XUGEG6gR4",
        "colab_type": "text"
      },
      "cell_type": "markdown",
      "source": [
        "[바이너리 작업의 기본 섹션](https://pandas.pydata.org/pandas-docs/stable/basics.html#basics-binop)을 참조하십시오."
      ]
    },
    {
      "metadata": {
        "id": "mcVNuuy_5_wW",
        "colab_type": "text"
      },
      "cell_type": "markdown",
      "source": [
        "## Stats(통계)"
      ]
    },
    {
      "metadata": {
        "id": "iPX_nN0vBiMb",
        "colab_type": "text"
      },
      "cell_type": "markdown",
      "source": [
        "일반적으로 연산은 missing data(결측치)를 제외합니다.\n",
        "\n",
        "서술적인 통계를 수행합니다."
      ]
    },
    {
      "metadata": {
        "id": "6W54szbp68LC",
        "colab_type": "code",
        "colab": {}
      },
      "cell_type": "code",
      "source": [
        "df.mean()"
      ],
      "execution_count": 0,
      "outputs": []
    },
    {
      "metadata": {
        "id": "UdhVHC9A6996",
        "colab_type": "text"
      },
      "cell_type": "markdown",
      "source": [
        "다른 축에서 동일한 작업을 수행합니다."
      ]
    },
    {
      "metadata": {
        "id": "XC1HZGxN6-MI",
        "colab_type": "code",
        "colab": {}
      },
      "cell_type": "code",
      "source": [
        "df.mean(1)"
      ],
      "execution_count": 0,
      "outputs": []
    },
    {
      "metadata": {
        "id": "jiGhkFo-7HZf",
        "colab_type": "text"
      },
      "cell_type": "markdown",
      "source": [
        "차원이 다르고 정렬이 필요한 객체로 작업합니다. 또한 pandas는 지정된 차원을 따라 자동으로 브로드 캐스팅(역주 : broadcast란 numpy에서 유래한 용어로, n차원이나 스칼라 값으로 연산을 수행할 때 도출되는 결과의 규칙을 설명하는 것을 의미합니다.)됩니다."
      ]
    },
    {
      "metadata": {
        "id": "h3RUr6U_7Utf",
        "colab_type": "code",
        "colab": {}
      },
      "cell_type": "code",
      "source": [
        "s = pd.Series([1,3,5,np.nan,6,8], index=dates).shift(2)"
      ],
      "execution_count": 0,
      "outputs": []
    },
    {
      "metadata": {
        "id": "e-qo9CjL7XUD",
        "colab_type": "code",
        "colab": {}
      },
      "cell_type": "code",
      "source": [
        "s"
      ],
      "execution_count": 0,
      "outputs": []
    },
    {
      "metadata": {
        "id": "GowqZoeb7ZZo",
        "colab_type": "code",
        "colab": {}
      },
      "cell_type": "code",
      "source": [
        "df.sub(s, axis='index')"
      ],
      "execution_count": 0,
      "outputs": []
    },
    {
      "metadata": {
        "id": "R7jzj-cH6Ahc",
        "colab_type": "text"
      },
      "cell_type": "markdown",
      "source": [
        "## Apply (적용하기)"
      ]
    },
    {
      "metadata": {
        "id": "gkSA3r_R7Ea6",
        "colab_type": "text"
      },
      "cell_type": "markdown",
      "source": [
        "데이터에 기능을 적용합니다."
      ]
    },
    {
      "metadata": {
        "id": "kPNfiNAy7IQZ",
        "colab_type": "code",
        "colab": {}
      },
      "cell_type": "code",
      "source": [
        "df.apply(np.cumsum)"
      ],
      "execution_count": 0,
      "outputs": []
    },
    {
      "metadata": {
        "id": "y02IO2qi7QPj",
        "colab_type": "code",
        "colab": {}
      },
      "cell_type": "code",
      "source": [
        "df.apply(lambda x: x.max() - x.min())"
      ],
      "execution_count": 0,
      "outputs": []
    },
    {
      "metadata": {
        "id": "UyvQC_nC6S6g",
        "colab_type": "text"
      },
      "cell_type": "markdown",
      "source": [
        "## Histogramming (히스토그래밍)"
      ]
    },
    {
      "metadata": {
        "id": "lKd5leGq7KDd",
        "colab_type": "text"
      },
      "cell_type": "markdown",
      "source": [
        "더 많은 내용은 [Histogramming and Discretization (히스토그래밍과 이산화)](https://pandas.pydata.org/pandas-docs/stable/basics.html#basics-discretization)항목을 참조하십시오."
      ]
    },
    {
      "metadata": {
        "id": "TL4MDK3o7I6X",
        "colab_type": "code",
        "colab": {}
      },
      "cell_type": "code",
      "source": [
        "s = pd.Series(np.random.randint(0, 7, size=10))"
      ],
      "execution_count": 0,
      "outputs": []
    },
    {
      "metadata": {
        "id": "1Aa6PhyU7TD0",
        "colab_type": "code",
        "colab": {}
      },
      "cell_type": "code",
      "source": [
        "s"
      ],
      "execution_count": 0,
      "outputs": []
    },
    {
      "metadata": {
        "id": "Jft1Ma0v7VLn",
        "colab_type": "code",
        "colab": {}
      },
      "cell_type": "code",
      "source": [
        "s.value_counts()"
      ],
      "execution_count": 0,
      "outputs": []
    },
    {
      "metadata": {
        "id": "WsQyIOdF6aPw",
        "colab_type": "text"
      },
      "cell_type": "markdown",
      "source": [
        "## String Mathods (문자열 메서드)"
      ]
    },
    {
      "metadata": {
        "id": "ap_qOc_x7dwT",
        "colab_type": "text"
      },
      "cell_type": "markdown",
      "source": [
        "Series 는 아래의 코드 스니펫에서처럼 배열의 각 요소를 쉽게 조작할 수 있도록 하는 문자열 처리 메서드 세트를 갖추고 있습니다. 주로 문자열에서의 패턴 매칭은 자동으로 [regular expressions (정규식)](https://docs.python.org/3/library/re.html)을 사용한다는 것을 유의하십시오. (그리고 가끔 어떤 경우에는 항상 정규식을 사용합니다.) \n",
        "\n",
        "더 많은 내용은 [Vectorized String Methods (벡터화된 문자열 메서드)](https://pandas.pydata.org/pandas-docs/stable/text.html#text-string-methods) 항목을 참조하십시오. "
      ]
    },
    {
      "metadata": {
        "id": "jn5Yl6Md7cqb",
        "colab_type": "code",
        "colab": {}
      },
      "cell_type": "code",
      "source": [
        "s = pd.Series(['A', 'B', 'C', 'Aaba', 'Baca', np.nan, 'CABA', 'dog', 'cat'])"
      ],
      "execution_count": 0,
      "outputs": []
    },
    {
      "metadata": {
        "id": "ZL7RxX4k8HHP",
        "colab_type": "code",
        "colab": {}
      },
      "cell_type": "code",
      "source": [
        "s.str.lower()"
      ],
      "execution_count": 0,
      "outputs": []
    },
    {
      "metadata": {
        "id": "2-zgLqDe4VAG",
        "colab_type": "code",
        "colab": {}
      },
      "cell_type": "code",
      "source": [
        "df = pd.DataFrame(np.random.randn(6,4), index=dates, columns=list('ABCD'))"
      ],
      "execution_count": 0,
      "outputs": []
    },
    {
      "metadata": {
        "id": "EfnIMAnC4Y--",
        "colab_type": "code",
        "colab": {}
      },
      "cell_type": "code",
      "source": [
        "df"
      ],
      "execution_count": 0,
      "outputs": []
    },
    {
      "metadata": {
        "id": "s792Ojdg46Nx",
        "colab_type": "code",
        "colab": {}
      },
      "cell_type": "code",
      "source": [
        "df['F'] = s1"
      ],
      "execution_count": 0,
      "outputs": []
    },
    {
      "metadata": {
        "id": "R2OG0UBS48ti",
        "colab_type": "code",
        "colab": {}
      },
      "cell_type": "code",
      "source": [
        ""
      ],
      "execution_count": 0,
      "outputs": []
    },
    {
      "metadata": {
        "id": "-NpTTJzF34oe",
        "colab_type": "text"
      },
      "cell_type": "markdown",
      "source": [
        "# Merge"
      ]
    },
    {
      "metadata": {
        "id": "fZWj-N4CLNig",
        "colab_type": "text"
      },
      "cell_type": "markdown",
      "source": [
        "## Concat"
      ]
    },
    {
      "metadata": {
        "id": "2XQbTp_-LNii",
        "colab_type": "text"
      },
      "cell_type": "markdown",
      "source": [
        "Pandas는 join/merge 와 같은 병합작업의 경우 'concat()' 을 통해<br>\n",
        "Series, DataFrame, Panel 객체를 index와 관계 대수 기능에 대한 다양한 유형의 논리로<br>\n",
        "손쉽게 결합할 수 있는 다양한 기능을 제공합니다."
      ]
    },
    {
      "metadata": {
        "id": "yFuabtnHLNii",
        "colab_type": "text"
      },
      "cell_type": "markdown",
      "source": [
        "Merging 섹션을 봅시다. [Merging section](https://pandas.pydata.org/pandas-docs/stable/merging.html#merging) "
      ]
    },
    {
      "metadata": {
        "id": "QcnDHOtILNii",
        "colab_type": "text"
      },
      "cell_type": "markdown",
      "source": [
        "'concat()'으로 Pandas 객체를 연결(concatenating) 합니다. "
      ]
    },
    {
      "metadata": {
        "id": "TCrlCvfu_IKR",
        "colab_type": "code",
        "colab": {}
      },
      "cell_type": "code",
      "source": [
        "df = pd.DataFrame(np.random.randn(10, 4))"
      ],
      "execution_count": 0,
      "outputs": []
    },
    {
      "metadata": {
        "id": "mdOlcCIKAVri",
        "colab_type": "code",
        "colab": {
          "base_uri": "https://localhost:8080/",
          "height": 348
        },
        "outputId": "5d5650af-530b-403f-b400-583fcadea7b0"
      },
      "cell_type": "code",
      "source": [
        "df"
      ],
      "execution_count": 7,
      "outputs": [
        {
          "output_type": "execute_result",
          "data": {
            "text/html": [
              "<div>\n",
              "<style scoped>\n",
              "    .dataframe tbody tr th:only-of-type {\n",
              "        vertical-align: middle;\n",
              "    }\n",
              "\n",
              "    .dataframe tbody tr th {\n",
              "        vertical-align: top;\n",
              "    }\n",
              "\n",
              "    .dataframe thead th {\n",
              "        text-align: right;\n",
              "    }\n",
              "</style>\n",
              "<table border=\"1\" class=\"dataframe\">\n",
              "  <thead>\n",
              "    <tr style=\"text-align: right;\">\n",
              "      <th></th>\n",
              "      <th>0</th>\n",
              "      <th>1</th>\n",
              "      <th>2</th>\n",
              "      <th>3</th>\n",
              "    </tr>\n",
              "  </thead>\n",
              "  <tbody>\n",
              "    <tr>\n",
              "      <th>0</th>\n",
              "      <td>0.129203</td>\n",
              "      <td>-0.237727</td>\n",
              "      <td>-0.769031</td>\n",
              "      <td>-1.964273</td>\n",
              "    </tr>\n",
              "    <tr>\n",
              "      <th>1</th>\n",
              "      <td>1.040888</td>\n",
              "      <td>1.448563</td>\n",
              "      <td>-0.984106</td>\n",
              "      <td>-0.099231</td>\n",
              "    </tr>\n",
              "    <tr>\n",
              "      <th>2</th>\n",
              "      <td>-0.722966</td>\n",
              "      <td>-1.198605</td>\n",
              "      <td>-0.477420</td>\n",
              "      <td>-0.265710</td>\n",
              "    </tr>\n",
              "    <tr>\n",
              "      <th>3</th>\n",
              "      <td>-0.005394</td>\n",
              "      <td>0.286019</td>\n",
              "      <td>0.730833</td>\n",
              "      <td>-0.473830</td>\n",
              "    </tr>\n",
              "    <tr>\n",
              "      <th>4</th>\n",
              "      <td>1.231130</td>\n",
              "      <td>-1.574169</td>\n",
              "      <td>0.781478</td>\n",
              "      <td>-0.159057</td>\n",
              "    </tr>\n",
              "    <tr>\n",
              "      <th>5</th>\n",
              "      <td>-1.417875</td>\n",
              "      <td>-0.247297</td>\n",
              "      <td>-0.580590</td>\n",
              "      <td>1.369179</td>\n",
              "    </tr>\n",
              "    <tr>\n",
              "      <th>6</th>\n",
              "      <td>-0.905663</td>\n",
              "      <td>0.641291</td>\n",
              "      <td>0.266012</td>\n",
              "      <td>-0.474489</td>\n",
              "    </tr>\n",
              "    <tr>\n",
              "      <th>7</th>\n",
              "      <td>0.196629</td>\n",
              "      <td>1.592408</td>\n",
              "      <td>0.017062</td>\n",
              "      <td>-1.300836</td>\n",
              "    </tr>\n",
              "    <tr>\n",
              "      <th>8</th>\n",
              "      <td>0.034225</td>\n",
              "      <td>0.032075</td>\n",
              "      <td>-1.876997</td>\n",
              "      <td>-1.712954</td>\n",
              "    </tr>\n",
              "    <tr>\n",
              "      <th>9</th>\n",
              "      <td>0.399283</td>\n",
              "      <td>0.087454</td>\n",
              "      <td>-0.134279</td>\n",
              "      <td>-1.936356</td>\n",
              "    </tr>\n",
              "  </tbody>\n",
              "</table>\n",
              "</div>"
            ],
            "text/plain": [
              "          0         1         2         3\n",
              "0  0.129203 -0.237727 -0.769031 -1.964273\n",
              "1  1.040888  1.448563 -0.984106 -0.099231\n",
              "2 -0.722966 -1.198605 -0.477420 -0.265710\n",
              "3 -0.005394  0.286019  0.730833 -0.473830\n",
              "4  1.231130 -1.574169  0.781478 -0.159057\n",
              "5 -1.417875 -0.247297 -0.580590  1.369179\n",
              "6 -0.905663  0.641291  0.266012 -0.474489\n",
              "7  0.196629  1.592408  0.017062 -1.300836\n",
              "8  0.034225  0.032075 -1.876997 -1.712954\n",
              "9  0.399283  0.087454 -0.134279 -1.936356"
            ]
          },
          "metadata": {
            "tags": []
          },
          "execution_count": 7
        }
      ]
    },
    {
      "metadata": {
        "id": "eJgLcGzLAYU-",
        "colab_type": "code",
        "colab": {
          "base_uri": "https://localhost:8080/",
          "height": 348
        },
        "outputId": "e0525090-9b52-49c6-dd5d-851c31634511"
      },
      "cell_type": "code",
      "source": [
        "# break it into pieces\n",
        "pieces = [df[:3], df[3:7], df[7:]]\n",
        "pd.concat(pieces)"
      ],
      "execution_count": 8,
      "outputs": [
        {
          "output_type": "execute_result",
          "data": {
            "text/html": [
              "<div>\n",
              "<style scoped>\n",
              "    .dataframe tbody tr th:only-of-type {\n",
              "        vertical-align: middle;\n",
              "    }\n",
              "\n",
              "    .dataframe tbody tr th {\n",
              "        vertical-align: top;\n",
              "    }\n",
              "\n",
              "    .dataframe thead th {\n",
              "        text-align: right;\n",
              "    }\n",
              "</style>\n",
              "<table border=\"1\" class=\"dataframe\">\n",
              "  <thead>\n",
              "    <tr style=\"text-align: right;\">\n",
              "      <th></th>\n",
              "      <th>0</th>\n",
              "      <th>1</th>\n",
              "      <th>2</th>\n",
              "      <th>3</th>\n",
              "    </tr>\n",
              "  </thead>\n",
              "  <tbody>\n",
              "    <tr>\n",
              "      <th>0</th>\n",
              "      <td>0.129203</td>\n",
              "      <td>-0.237727</td>\n",
              "      <td>-0.769031</td>\n",
              "      <td>-1.964273</td>\n",
              "    </tr>\n",
              "    <tr>\n",
              "      <th>1</th>\n",
              "      <td>1.040888</td>\n",
              "      <td>1.448563</td>\n",
              "      <td>-0.984106</td>\n",
              "      <td>-0.099231</td>\n",
              "    </tr>\n",
              "    <tr>\n",
              "      <th>2</th>\n",
              "      <td>-0.722966</td>\n",
              "      <td>-1.198605</td>\n",
              "      <td>-0.477420</td>\n",
              "      <td>-0.265710</td>\n",
              "    </tr>\n",
              "    <tr>\n",
              "      <th>3</th>\n",
              "      <td>-0.005394</td>\n",
              "      <td>0.286019</td>\n",
              "      <td>0.730833</td>\n",
              "      <td>-0.473830</td>\n",
              "    </tr>\n",
              "    <tr>\n",
              "      <th>4</th>\n",
              "      <td>1.231130</td>\n",
              "      <td>-1.574169</td>\n",
              "      <td>0.781478</td>\n",
              "      <td>-0.159057</td>\n",
              "    </tr>\n",
              "    <tr>\n",
              "      <th>5</th>\n",
              "      <td>-1.417875</td>\n",
              "      <td>-0.247297</td>\n",
              "      <td>-0.580590</td>\n",
              "      <td>1.369179</td>\n",
              "    </tr>\n",
              "    <tr>\n",
              "      <th>6</th>\n",
              "      <td>-0.905663</td>\n",
              "      <td>0.641291</td>\n",
              "      <td>0.266012</td>\n",
              "      <td>-0.474489</td>\n",
              "    </tr>\n",
              "    <tr>\n",
              "      <th>7</th>\n",
              "      <td>0.196629</td>\n",
              "      <td>1.592408</td>\n",
              "      <td>0.017062</td>\n",
              "      <td>-1.300836</td>\n",
              "    </tr>\n",
              "    <tr>\n",
              "      <th>8</th>\n",
              "      <td>0.034225</td>\n",
              "      <td>0.032075</td>\n",
              "      <td>-1.876997</td>\n",
              "      <td>-1.712954</td>\n",
              "    </tr>\n",
              "    <tr>\n",
              "      <th>9</th>\n",
              "      <td>0.399283</td>\n",
              "      <td>0.087454</td>\n",
              "      <td>-0.134279</td>\n",
              "      <td>-1.936356</td>\n",
              "    </tr>\n",
              "  </tbody>\n",
              "</table>\n",
              "</div>"
            ],
            "text/plain": [
              "          0         1         2         3\n",
              "0  0.129203 -0.237727 -0.769031 -1.964273\n",
              "1  1.040888  1.448563 -0.984106 -0.099231\n",
              "2 -0.722966 -1.198605 -0.477420 -0.265710\n",
              "3 -0.005394  0.286019  0.730833 -0.473830\n",
              "4  1.231130 -1.574169  0.781478 -0.159057\n",
              "5 -1.417875 -0.247297 -0.580590  1.369179\n",
              "6 -0.905663  0.641291  0.266012 -0.474489\n",
              "7  0.196629  1.592408  0.017062 -1.300836\n",
              "8  0.034225  0.032075 -1.876997 -1.712954\n",
              "9  0.399283  0.087454 -0.134279 -1.936356"
            ]
          },
          "metadata": {
            "tags": []
          },
          "execution_count": 8
        }
      ]
    },
    {
      "metadata": {
        "id": "CjIo-4DcLNiq",
        "colab_type": "code",
        "colab": {},
        "outputId": "e8806061-3fb1-4538-91dd-a5d32cc9e976"
      },
      "cell_type": "code",
      "source": [
        "df.iloc[:,1:3]"
      ],
      "execution_count": 0,
      "outputs": [
        {
          "output_type": "execute_result",
          "data": {
            "text/html": [
              "<div>\n",
              "<style scoped>\n",
              "    .dataframe tbody tr th:only-of-type {\n",
              "        vertical-align: middle;\n",
              "    }\n",
              "\n",
              "    .dataframe tbody tr th {\n",
              "        vertical-align: top;\n",
              "    }\n",
              "\n",
              "    .dataframe thead th {\n",
              "        text-align: right;\n",
              "    }\n",
              "</style>\n",
              "<table border=\"1\" class=\"dataframe\">\n",
              "  <thead>\n",
              "    <tr style=\"text-align: right;\">\n",
              "      <th></th>\n",
              "      <th>B</th>\n",
              "      <th>C</th>\n",
              "    </tr>\n",
              "  </thead>\n",
              "  <tbody>\n",
              "    <tr>\n",
              "      <th>2013-01-01</th>\n",
              "      <td>1.324341</td>\n",
              "      <td>0.153554</td>\n",
              "    </tr>\n",
              "    <tr>\n",
              "      <th>2013-01-02</th>\n",
              "      <td>-1.596556</td>\n",
              "      <td>-0.920610</td>\n",
              "    </tr>\n",
              "    <tr>\n",
              "      <th>2013-01-03</th>\n",
              "      <td>0.204407</td>\n",
              "      <td>0.256671</td>\n",
              "    </tr>\n",
              "    <tr>\n",
              "      <th>2013-01-04</th>\n",
              "      <td>-0.770913</td>\n",
              "      <td>-0.330677</td>\n",
              "    </tr>\n",
              "    <tr>\n",
              "      <th>2013-01-05</th>\n",
              "      <td>0.305182</td>\n",
              "      <td>-1.508353</td>\n",
              "    </tr>\n",
              "    <tr>\n",
              "      <th>2013-01-06</th>\n",
              "      <td>0.705459</td>\n",
              "      <td>0.369007</td>\n",
              "    </tr>\n",
              "  </tbody>\n",
              "</table>\n",
              "</div>"
            ],
            "text/plain": [
              "                   B         C\n",
              "2013-01-01  1.324341  0.153554\n",
              "2013-01-02 -1.596556 -0.920610\n",
              "2013-01-03  0.204407  0.256671\n",
              "2013-01-04 -0.770913 -0.330677\n",
              "2013-01-05  0.305182 -1.508353\n",
              "2013-01-06  0.705459  0.369007"
            ]
          },
          "metadata": {
            "tags": []
          },
          "execution_count": 48
        }
      ]
    },
    {
      "metadata": {
        "id": "7IBM0m8GLNjX",
        "colab_type": "text"
      },
      "cell_type": "markdown",
      "source": [
        "## Join\n",
        "SQL 방식으로 merge합니다. [Database style joining](https://pandas.pydata.org/pandas-docs/stable/merging.html#merging-join) 섹션을 참고하세요.\n"
      ]
    },
    {
      "metadata": {
        "id": "e-srIyoILNjX",
        "colab_type": "code",
        "colab": {}
      },
      "cell_type": "code",
      "source": [
        "left = pd.DataFrame({'key': ['foo', 'foo'], 'lval': [1, 2]})"
      ],
      "execution_count": 0,
      "outputs": []
    },
    {
      "metadata": {
        "id": "v5bAleqrLNjZ",
        "colab_type": "code",
        "colab": {}
      },
      "cell_type": "code",
      "source": [
        "right = pd.DataFrame({'key': ['foo', 'foo'], 'rval': [4, 5]})"
      ],
      "execution_count": 0,
      "outputs": []
    },
    {
      "metadata": {
        "id": "wFKpjvEWLNja",
        "colab_type": "code",
        "colab": {
          "base_uri": "https://localhost:8080/",
          "height": 108
        },
        "outputId": "eaecef75-6d58-47d5-ea50-09bce9c74fc4"
      },
      "cell_type": "code",
      "source": [
        "left"
      ],
      "execution_count": 10,
      "outputs": [
        {
          "output_type": "execute_result",
          "data": {
            "text/html": [
              "<div>\n",
              "<style scoped>\n",
              "    .dataframe tbody tr th:only-of-type {\n",
              "        vertical-align: middle;\n",
              "    }\n",
              "\n",
              "    .dataframe tbody tr th {\n",
              "        vertical-align: top;\n",
              "    }\n",
              "\n",
              "    .dataframe thead th {\n",
              "        text-align: right;\n",
              "    }\n",
              "</style>\n",
              "<table border=\"1\" class=\"dataframe\">\n",
              "  <thead>\n",
              "    <tr style=\"text-align: right;\">\n",
              "      <th></th>\n",
              "      <th>key</th>\n",
              "      <th>lval</th>\n",
              "    </tr>\n",
              "  </thead>\n",
              "  <tbody>\n",
              "    <tr>\n",
              "      <th>0</th>\n",
              "      <td>foo</td>\n",
              "      <td>1</td>\n",
              "    </tr>\n",
              "    <tr>\n",
              "      <th>1</th>\n",
              "      <td>foo</td>\n",
              "      <td>2</td>\n",
              "    </tr>\n",
              "  </tbody>\n",
              "</table>\n",
              "</div>"
            ],
            "text/plain": [
              "   key  lval\n",
              "0  foo     1\n",
              "1  foo     2"
            ]
          },
          "metadata": {
            "tags": []
          },
          "execution_count": 10
        }
      ]
    },
    {
      "metadata": {
        "id": "yg9oRrTA4ntI",
        "colab_type": "code",
        "colab": {
          "base_uri": "https://localhost:8080/",
          "height": 108
        },
        "outputId": "8d8143a5-9fc8-4a82-d8c4-291d7850be44"
      },
      "cell_type": "code",
      "source": [
        "right"
      ],
      "execution_count": 11,
      "outputs": [
        {
          "output_type": "execute_result",
          "data": {
            "text/html": [
              "<div>\n",
              "<style scoped>\n",
              "    .dataframe tbody tr th:only-of-type {\n",
              "        vertical-align: middle;\n",
              "    }\n",
              "\n",
              "    .dataframe tbody tr th {\n",
              "        vertical-align: top;\n",
              "    }\n",
              "\n",
              "    .dataframe thead th {\n",
              "        text-align: right;\n",
              "    }\n",
              "</style>\n",
              "<table border=\"1\" class=\"dataframe\">\n",
              "  <thead>\n",
              "    <tr style=\"text-align: right;\">\n",
              "      <th></th>\n",
              "      <th>key</th>\n",
              "      <th>rval</th>\n",
              "    </tr>\n",
              "  </thead>\n",
              "  <tbody>\n",
              "    <tr>\n",
              "      <th>0</th>\n",
              "      <td>foo</td>\n",
              "      <td>4</td>\n",
              "    </tr>\n",
              "    <tr>\n",
              "      <th>1</th>\n",
              "      <td>foo</td>\n",
              "      <td>5</td>\n",
              "    </tr>\n",
              "  </tbody>\n",
              "</table>\n",
              "</div>"
            ],
            "text/plain": [
              "   key  rval\n",
              "0  foo     4\n",
              "1  foo     5"
            ]
          },
          "metadata": {
            "tags": []
          },
          "execution_count": 11
        }
      ]
    },
    {
      "metadata": {
        "id": "5fN8wCZl5qVv",
        "colab_type": "code",
        "colab": {
          "base_uri": "https://localhost:8080/",
          "height": 169
        },
        "outputId": "f124412e-daf4-4635-92b6-35a2137496bd"
      },
      "cell_type": "code",
      "source": [
        "pd.merge(left, right, on= 'key')"
      ],
      "execution_count": 15,
      "outputs": [
        {
          "output_type": "execute_result",
          "data": {
            "text/html": [
              "<div>\n",
              "<style scoped>\n",
              "    .dataframe tbody tr th:only-of-type {\n",
              "        vertical-align: middle;\n",
              "    }\n",
              "\n",
              "    .dataframe tbody tr th {\n",
              "        vertical-align: top;\n",
              "    }\n",
              "\n",
              "    .dataframe thead th {\n",
              "        text-align: right;\n",
              "    }\n",
              "</style>\n",
              "<table border=\"1\" class=\"dataframe\">\n",
              "  <thead>\n",
              "    <tr style=\"text-align: right;\">\n",
              "      <th></th>\n",
              "      <th>key</th>\n",
              "      <th>lval</th>\n",
              "      <th>rval</th>\n",
              "    </tr>\n",
              "  </thead>\n",
              "  <tbody>\n",
              "    <tr>\n",
              "      <th>0</th>\n",
              "      <td>foo</td>\n",
              "      <td>1</td>\n",
              "      <td>4</td>\n",
              "    </tr>\n",
              "    <tr>\n",
              "      <th>1</th>\n",
              "      <td>foo</td>\n",
              "      <td>1</td>\n",
              "      <td>5</td>\n",
              "    </tr>\n",
              "    <tr>\n",
              "      <th>2</th>\n",
              "      <td>foo</td>\n",
              "      <td>2</td>\n",
              "      <td>4</td>\n",
              "    </tr>\n",
              "    <tr>\n",
              "      <th>3</th>\n",
              "      <td>foo</td>\n",
              "      <td>2</td>\n",
              "      <td>5</td>\n",
              "    </tr>\n",
              "  </tbody>\n",
              "</table>\n",
              "</div>"
            ],
            "text/plain": [
              "   key  lval  rval\n",
              "0  foo     1     4\n",
              "1  foo     1     5\n",
              "2  foo     2     4\n",
              "3  foo     2     5"
            ]
          },
          "metadata": {
            "tags": []
          },
          "execution_count": 15
        }
      ]
    },
    {
      "metadata": {
        "id": "UEBAM4h6_gid",
        "colab_type": "text"
      },
      "cell_type": "markdown",
      "source": [
        "이와 같은 다른 예시는 :"
      ]
    },
    {
      "metadata": {
        "id": "h2Xlgd-o6xIx",
        "colab_type": "code",
        "colab": {}
      },
      "cell_type": "code",
      "source": [
        "left = pd.DataFrame({'key' : ['foo', 'bar'], 'lval' : [1, 2]})"
      ],
      "execution_count": 0,
      "outputs": []
    },
    {
      "metadata": {
        "id": "8FnaD9XoAtnd",
        "colab_type": "code",
        "colab": {}
      },
      "cell_type": "code",
      "source": [
        "right = pd.DataFrame({'key': ['foo', 'bar'], 'rval': [4, 5]})"
      ],
      "execution_count": 0,
      "outputs": []
    },
    {
      "metadata": {
        "id": "Y15ZVKlKA--o",
        "colab_type": "code",
        "colab": {
          "base_uri": "https://localhost:8080/",
          "height": 108
        },
        "outputId": "daf289b9-e39f-4f05-b3dd-8df7442ee656"
      },
      "cell_type": "code",
      "source": [
        "left"
      ],
      "execution_count": 20,
      "outputs": [
        {
          "output_type": "execute_result",
          "data": {
            "text/html": [
              "<div>\n",
              "<style scoped>\n",
              "    .dataframe tbody tr th:only-of-type {\n",
              "        vertical-align: middle;\n",
              "    }\n",
              "\n",
              "    .dataframe tbody tr th {\n",
              "        vertical-align: top;\n",
              "    }\n",
              "\n",
              "    .dataframe thead th {\n",
              "        text-align: right;\n",
              "    }\n",
              "</style>\n",
              "<table border=\"1\" class=\"dataframe\">\n",
              "  <thead>\n",
              "    <tr style=\"text-align: right;\">\n",
              "      <th></th>\n",
              "      <th>key</th>\n",
              "      <th>lval</th>\n",
              "    </tr>\n",
              "  </thead>\n",
              "  <tbody>\n",
              "    <tr>\n",
              "      <th>0</th>\n",
              "      <td>foo</td>\n",
              "      <td>1</td>\n",
              "    </tr>\n",
              "    <tr>\n",
              "      <th>1</th>\n",
              "      <td>bar</td>\n",
              "      <td>2</td>\n",
              "    </tr>\n",
              "  </tbody>\n",
              "</table>\n",
              "</div>"
            ],
            "text/plain": [
              "   key  lval\n",
              "0  foo     1\n",
              "1  bar     2"
            ]
          },
          "metadata": {
            "tags": []
          },
          "execution_count": 20
        }
      ]
    },
    {
      "metadata": {
        "id": "ZRpNjm6wBCW0",
        "colab_type": "code",
        "colab": {
          "base_uri": "https://localhost:8080/",
          "height": 108
        },
        "outputId": "ff4d9d71-6586-41c6-912c-dd54e99d451e"
      },
      "cell_type": "code",
      "source": [
        "right "
      ],
      "execution_count": 21,
      "outputs": [
        {
          "output_type": "execute_result",
          "data": {
            "text/html": [
              "<div>\n",
              "<style scoped>\n",
              "    .dataframe tbody tr th:only-of-type {\n",
              "        vertical-align: middle;\n",
              "    }\n",
              "\n",
              "    .dataframe tbody tr th {\n",
              "        vertical-align: top;\n",
              "    }\n",
              "\n",
              "    .dataframe thead th {\n",
              "        text-align: right;\n",
              "    }\n",
              "</style>\n",
              "<table border=\"1\" class=\"dataframe\">\n",
              "  <thead>\n",
              "    <tr style=\"text-align: right;\">\n",
              "      <th></th>\n",
              "      <th>key</th>\n",
              "      <th>rval</th>\n",
              "    </tr>\n",
              "  </thead>\n",
              "  <tbody>\n",
              "    <tr>\n",
              "      <th>0</th>\n",
              "      <td>foo</td>\n",
              "      <td>4</td>\n",
              "    </tr>\n",
              "    <tr>\n",
              "      <th>1</th>\n",
              "      <td>bar</td>\n",
              "      <td>5</td>\n",
              "    </tr>\n",
              "  </tbody>\n",
              "</table>\n",
              "</div>"
            ],
            "text/plain": [
              "   key  rval\n",
              "0  foo     4\n",
              "1  bar     5"
            ]
          },
          "metadata": {
            "tags": []
          },
          "execution_count": 21
        }
      ]
    },
    {
      "metadata": {
        "id": "duVQRnqnBFPe",
        "colab_type": "code",
        "colab": {
          "base_uri": "https://localhost:8080/",
          "height": 108
        },
        "outputId": "665d2aa5-b50f-4288-8261-2ca2b2e07f5b"
      },
      "cell_type": "code",
      "source": [
        "pd.merge(left, right, on= 'key')"
      ],
      "execution_count": 22,
      "outputs": [
        {
          "output_type": "execute_result",
          "data": {
            "text/html": [
              "<div>\n",
              "<style scoped>\n",
              "    .dataframe tbody tr th:only-of-type {\n",
              "        vertical-align: middle;\n",
              "    }\n",
              "\n",
              "    .dataframe tbody tr th {\n",
              "        vertical-align: top;\n",
              "    }\n",
              "\n",
              "    .dataframe thead th {\n",
              "        text-align: right;\n",
              "    }\n",
              "</style>\n",
              "<table border=\"1\" class=\"dataframe\">\n",
              "  <thead>\n",
              "    <tr style=\"text-align: right;\">\n",
              "      <th></th>\n",
              "      <th>key</th>\n",
              "      <th>lval</th>\n",
              "      <th>rval</th>\n",
              "    </tr>\n",
              "  </thead>\n",
              "  <tbody>\n",
              "    <tr>\n",
              "      <th>0</th>\n",
              "      <td>foo</td>\n",
              "      <td>1</td>\n",
              "      <td>4</td>\n",
              "    </tr>\n",
              "    <tr>\n",
              "      <th>1</th>\n",
              "      <td>bar</td>\n",
              "      <td>2</td>\n",
              "      <td>5</td>\n",
              "    </tr>\n",
              "  </tbody>\n",
              "</table>\n",
              "</div>"
            ],
            "text/plain": [
              "   key  lval  rval\n",
              "0  foo     1     4\n",
              "1  bar     2     5"
            ]
          },
          "metadata": {
            "tags": []
          },
          "execution_count": 22
        }
      ]
    },
    {
      "metadata": {
        "id": "9-CsJ6kHLNjc",
        "colab_type": "text"
      },
      "cell_type": "markdown",
      "source": [
        "## Append"
      ]
    },
    {
      "metadata": {
        "id": "CQoQZg9aLNjc",
        "colab_type": "text"
      },
      "cell_type": "markdown",
      "source": [
        "데이터프레임에 하나, 혹은 여러 개의 행을 추가합니다. [Appending](https://pandas.pydata.org/pandas-docs/stable/merging.html#merging-concatenation) 섹션을 참조하시기 바랍니다."
      ]
    },
    {
      "metadata": {
        "id": "DniPx4zTLNjc",
        "colab_type": "code",
        "colab": {}
      },
      "cell_type": "code",
      "source": [
        "df = pd.DataFrame(np.random.randn(8, 4), columns=['A', 'B', 'C', 'D'])"
      ],
      "execution_count": 0,
      "outputs": []
    },
    {
      "metadata": {
        "id": "Z83pFze46h4h",
        "colab_type": "code",
        "colab": {}
      },
      "cell_type": "code",
      "source": [
        "df"
      ],
      "execution_count": 0,
      "outputs": []
    },
    {
      "metadata": {
        "id": "Bqm6NMtW6j12",
        "colab_type": "code",
        "colab": {}
      },
      "cell_type": "code",
      "source": [
        "s = df.iloc[3]"
      ],
      "execution_count": 0,
      "outputs": []
    },
    {
      "metadata": {
        "id": "I3PtsAkF6lpI",
        "colab_type": "code",
        "colab": {}
      },
      "cell_type": "code",
      "source": [
        "df.append(s, ignore_index=True)"
      ],
      "execution_count": 0,
      "outputs": []
    },
    {
      "metadata": {
        "id": "6VaJ6ty_3v09",
        "colab_type": "text"
      },
      "cell_type": "markdown",
      "source": [
        "# Grouping\n",
        "\n",
        "\n"
      ]
    },
    {
      "metadata": {
        "id": "SwXynO524KcN",
        "colab_type": "text"
      },
      "cell_type": "markdown",
      "source": [
        "**그룹화**는 다음 단계 중 하나 이상을 포함하는 프로세스를 나타냅니다.\n",
        "\n",
        "- 어떤 기준에 따라 여러 그룹으로 **데이터 분할(Splitting)**\n",
        "- 각 그룹에 독립적으로 함수(function) **적용(Applying)**\n",
        "- 결과물들을 하나의 자료구조로  **결합(Combining)**\n",
        "\n",
        "자세한 내용은 [그룹화 ](https://pandas.pydata.org/pandas-docs/stable/groupby.html#groupby)섹션을 참조하십시오."
      ]
    },
    {
      "metadata": {
        "id": "pO0cOZtU4Mvl",
        "colab_type": "code",
        "colab": {}
      },
      "cell_type": "code",
      "source": [
        "df = pd.DataFrame(\n",
        "    {\n",
        "        'A' : ['foo', 'bar', 'foo', 'bar', 'foo', 'bar', 'foo', 'foo'],\n",
        "        'B' : ['one', 'one', 'two', 'three', 'two', 'two', 'one', 'three'],\n",
        "        'C' : np.random.randn(8),\n",
        "        'D' : np.random.randn(8)\n",
        "    })"
      ],
      "execution_count": 0,
      "outputs": []
    },
    {
      "metadata": {
        "id": "H1aI7vJB4P72",
        "colab_type": "code",
        "colab": {
          "base_uri": "https://localhost:8080/",
          "height": 297
        },
        "outputId": "03349475-d4ad-4728-9ffd-ebe9afa53d6d"
      },
      "cell_type": "code",
      "source": [
        "df"
      ],
      "execution_count": 7,
      "outputs": [
        {
          "output_type": "execute_result",
          "data": {
            "text/html": [
              "<div>\n",
              "<style scoped>\n",
              "    .dataframe tbody tr th:only-of-type {\n",
              "        vertical-align: middle;\n",
              "    }\n",
              "\n",
              "    .dataframe tbody tr th {\n",
              "        vertical-align: top;\n",
              "    }\n",
              "\n",
              "    .dataframe thead th {\n",
              "        text-align: right;\n",
              "    }\n",
              "</style>\n",
              "<table border=\"1\" class=\"dataframe\">\n",
              "  <thead>\n",
              "    <tr style=\"text-align: right;\">\n",
              "      <th></th>\n",
              "      <th>A</th>\n",
              "      <th>B</th>\n",
              "      <th>C</th>\n",
              "      <th>D</th>\n",
              "    </tr>\n",
              "  </thead>\n",
              "  <tbody>\n",
              "    <tr>\n",
              "      <th>0</th>\n",
              "      <td>foo</td>\n",
              "      <td>one</td>\n",
              "      <td>0.056468</td>\n",
              "      <td>-1.700804</td>\n",
              "    </tr>\n",
              "    <tr>\n",
              "      <th>1</th>\n",
              "      <td>bar</td>\n",
              "      <td>one</td>\n",
              "      <td>-0.223937</td>\n",
              "      <td>-0.448887</td>\n",
              "    </tr>\n",
              "    <tr>\n",
              "      <th>2</th>\n",
              "      <td>foo</td>\n",
              "      <td>two</td>\n",
              "      <td>0.328946</td>\n",
              "      <td>-0.401242</td>\n",
              "    </tr>\n",
              "    <tr>\n",
              "      <th>3</th>\n",
              "      <td>bar</td>\n",
              "      <td>three</td>\n",
              "      <td>1.023657</td>\n",
              "      <td>0.246377</td>\n",
              "    </tr>\n",
              "    <tr>\n",
              "      <th>4</th>\n",
              "      <td>foo</td>\n",
              "      <td>two</td>\n",
              "      <td>0.988012</td>\n",
              "      <td>0.965924</td>\n",
              "    </tr>\n",
              "    <tr>\n",
              "      <th>5</th>\n",
              "      <td>bar</td>\n",
              "      <td>two</td>\n",
              "      <td>-0.170186</td>\n",
              "      <td>-0.557526</td>\n",
              "    </tr>\n",
              "    <tr>\n",
              "      <th>6</th>\n",
              "      <td>foo</td>\n",
              "      <td>one</td>\n",
              "      <td>-0.808825</td>\n",
              "      <td>-1.947245</td>\n",
              "    </tr>\n",
              "    <tr>\n",
              "      <th>7</th>\n",
              "      <td>foo</td>\n",
              "      <td>three</td>\n",
              "      <td>0.216881</td>\n",
              "      <td>1.028468</td>\n",
              "    </tr>\n",
              "  </tbody>\n",
              "</table>\n",
              "</div>"
            ],
            "text/plain": [
              "     A      B         C         D\n",
              "0  foo    one  0.056468 -1.700804\n",
              "1  bar    one -0.223937 -0.448887\n",
              "2  foo    two  0.328946 -0.401242\n",
              "3  bar  three  1.023657  0.246377\n",
              "4  foo    two  0.988012  0.965924\n",
              "5  bar    two -0.170186 -0.557526\n",
              "6  foo    one -0.808825 -1.947245\n",
              "7  foo  three  0.216881  1.028468"
            ]
          },
          "metadata": {
            "tags": []
          },
          "execution_count": 7
        }
      ]
    },
    {
      "metadata": {
        "id": "71rM8bizCRRB",
        "colab_type": "text"
      },
      "cell_type": "markdown",
      "source": [
        "생성된 데이터프레임을 **그룹화**한 후 각 그룹에 [sum()](https://pandas.pydata.org/pandas-docs/stable/generated/pandas.DataFrame.sum.html#pandas.DataFrame.sum) 함수를 **적용**합니다."
      ]
    },
    {
      "metadata": {
        "id": "dJ4kqsJe4RfY",
        "colab_type": "code",
        "colab": {
          "base_uri": "https://localhost:8080/",
          "height": 142
        },
        "outputId": "e5f3a626-a1cd-49c7-e740-3730cd4a2317"
      },
      "cell_type": "code",
      "source": [
        "df.groupby('A').sum()"
      ],
      "execution_count": 8,
      "outputs": [
        {
          "output_type": "execute_result",
          "data": {
            "text/html": [
              "<div>\n",
              "<style scoped>\n",
              "    .dataframe tbody tr th:only-of-type {\n",
              "        vertical-align: middle;\n",
              "    }\n",
              "\n",
              "    .dataframe tbody tr th {\n",
              "        vertical-align: top;\n",
              "    }\n",
              "\n",
              "    .dataframe thead th {\n",
              "        text-align: right;\n",
              "    }\n",
              "</style>\n",
              "<table border=\"1\" class=\"dataframe\">\n",
              "  <thead>\n",
              "    <tr style=\"text-align: right;\">\n",
              "      <th></th>\n",
              "      <th>C</th>\n",
              "      <th>D</th>\n",
              "    </tr>\n",
              "    <tr>\n",
              "      <th>A</th>\n",
              "      <th></th>\n",
              "      <th></th>\n",
              "    </tr>\n",
              "  </thead>\n",
              "  <tbody>\n",
              "    <tr>\n",
              "      <th>bar</th>\n",
              "      <td>0.629535</td>\n",
              "      <td>-0.760035</td>\n",
              "    </tr>\n",
              "    <tr>\n",
              "      <th>foo</th>\n",
              "      <td>0.781481</td>\n",
              "      <td>-2.054898</td>\n",
              "    </tr>\n",
              "  </tbody>\n",
              "</table>\n",
              "</div>"
            ],
            "text/plain": [
              "            C         D\n",
              "A                      \n",
              "bar  0.629535 -0.760035\n",
              "foo  0.781481 -2.054898"
            ]
          },
          "metadata": {
            "tags": []
          },
          "execution_count": 8
        }
      ]
    },
    {
      "metadata": {
        "id": "jap0wSpO4Sn4",
        "colab_type": "text"
      },
      "cell_type": "markdown",
      "source": [
        "여러 열을 기준으로 **그룹화**하면 계층적 index가 형성됩니다. 여기에도 sum 함수를 **적용** 할 수 있습니다."
      ]
    },
    {
      "metadata": {
        "id": "iRZP8UKC4TvZ",
        "colab_type": "code",
        "colab": {
          "base_uri": "https://localhost:8080/",
          "height": 266
        },
        "outputId": "c18a598b-2e53-4b27-fa50-4da2108e409a"
      },
      "cell_type": "code",
      "source": [
        "df.groupby(['A', 'B']).sum()"
      ],
      "execution_count": 9,
      "outputs": [
        {
          "output_type": "execute_result",
          "data": {
            "text/html": [
              "<div>\n",
              "<style scoped>\n",
              "    .dataframe tbody tr th:only-of-type {\n",
              "        vertical-align: middle;\n",
              "    }\n",
              "\n",
              "    .dataframe tbody tr th {\n",
              "        vertical-align: top;\n",
              "    }\n",
              "\n",
              "    .dataframe thead th {\n",
              "        text-align: right;\n",
              "    }\n",
              "</style>\n",
              "<table border=\"1\" class=\"dataframe\">\n",
              "  <thead>\n",
              "    <tr style=\"text-align: right;\">\n",
              "      <th></th>\n",
              "      <th></th>\n",
              "      <th>C</th>\n",
              "      <th>D</th>\n",
              "    </tr>\n",
              "    <tr>\n",
              "      <th>A</th>\n",
              "      <th>B</th>\n",
              "      <th></th>\n",
              "      <th></th>\n",
              "    </tr>\n",
              "  </thead>\n",
              "  <tbody>\n",
              "    <tr>\n",
              "      <th rowspan=\"3\" valign=\"top\">bar</th>\n",
              "      <th>one</th>\n",
              "      <td>-0.223937</td>\n",
              "      <td>-0.448887</td>\n",
              "    </tr>\n",
              "    <tr>\n",
              "      <th>three</th>\n",
              "      <td>1.023657</td>\n",
              "      <td>0.246377</td>\n",
              "    </tr>\n",
              "    <tr>\n",
              "      <th>two</th>\n",
              "      <td>-0.170186</td>\n",
              "      <td>-0.557526</td>\n",
              "    </tr>\n",
              "    <tr>\n",
              "      <th rowspan=\"3\" valign=\"top\">foo</th>\n",
              "      <th>one</th>\n",
              "      <td>-0.752358</td>\n",
              "      <td>-3.648049</td>\n",
              "    </tr>\n",
              "    <tr>\n",
              "      <th>three</th>\n",
              "      <td>0.216881</td>\n",
              "      <td>1.028468</td>\n",
              "    </tr>\n",
              "    <tr>\n",
              "      <th>two</th>\n",
              "      <td>1.316958</td>\n",
              "      <td>0.564682</td>\n",
              "    </tr>\n",
              "  </tbody>\n",
              "</table>\n",
              "</div>"
            ],
            "text/plain": [
              "                  C         D\n",
              "A   B                        \n",
              "bar one   -0.223937 -0.448887\n",
              "    three  1.023657  0.246377\n",
              "    two   -0.170186 -0.557526\n",
              "foo one   -0.752358 -3.648049\n",
              "    three  0.216881  1.028468\n",
              "    two    1.316958  0.564682"
            ]
          },
          "metadata": {
            "tags": []
          },
          "execution_count": 9
        }
      ]
    },
    {
      "metadata": {
        "id": "7tWQKNsJ3JeY",
        "colab_type": "text"
      },
      "cell_type": "markdown",
      "source": [
        "# Reshaping"
      ]
    },
    {
      "metadata": {
        "id": "ulRzrXGK3Ndc",
        "colab_type": "text"
      },
      "cell_type": "markdown",
      "source": [
        "[계층적 인덱싱](https://pandas.pydata.org/pandas-docs/stable/advanced.html#advanced-hierarchical) 및 [변형](https://pandas.pydata.org/pandas-docs/stable/reshaping.html#reshaping-stacking)에 대한 섹션을 참조하십시오.\n",
        "\n",
        "\n",
        "\n",
        "\n"
      ]
    },
    {
      "metadata": {
        "id": "gZJGxemv3WWA",
        "colab_type": "text"
      },
      "cell_type": "markdown",
      "source": [
        "## Stack"
      ]
    },
    {
      "metadata": {
        "id": "Yd5vPwOV3arp",
        "colab_type": "code",
        "colab": {}
      },
      "cell_type": "code",
      "source": [
        "tuples = list(zip(*[['bar', 'bar', 'baz', 'baz',\n",
        "                     'foo', 'foo', 'qux', 'qux'],\n",
        "                    ['one', 'two', 'one', 'two',\n",
        "                     'one', 'two', 'one', 'two']]))"
      ],
      "execution_count": 0,
      "outputs": []
    },
    {
      "metadata": {
        "id": "cyRpaTGe3hJ-",
        "colab_type": "code",
        "colab": {}
      },
      "cell_type": "code",
      "source": [
        "index = pd.MultiIndex.from_tuples(tuples, names=['first', 'second'])"
      ],
      "execution_count": 0,
      "outputs": []
    },
    {
      "metadata": {
        "id": "Jj2RjG8r3h1B",
        "colab_type": "code",
        "colab": {}
      },
      "cell_type": "code",
      "source": [
        "df = pd.DataFrame(np.random.randn(8, 2), index=index, columns=['A', 'B'])"
      ],
      "execution_count": 0,
      "outputs": []
    },
    {
      "metadata": {
        "id": "I0H5P5Al3hxB",
        "colab_type": "code",
        "colab": {}
      },
      "cell_type": "code",
      "source": [
        "df2  =  df[:4]"
      ],
      "execution_count": 0,
      "outputs": []
    },
    {
      "metadata": {
        "id": "YlRK8VoH3htI",
        "colab_type": "code",
        "colab": {
          "base_uri": "https://localhost:8080/",
          "height": 204
        },
        "outputId": "11cbb1b4-95b5-4810-d808-6a567f1cc746"
      },
      "cell_type": "code",
      "source": [
        "df2"
      ],
      "execution_count": 57,
      "outputs": [
        {
          "output_type": "execute_result",
          "data": {
            "text/html": [
              "<div>\n",
              "<style scoped>\n",
              "    .dataframe tbody tr th:only-of-type {\n",
              "        vertical-align: middle;\n",
              "    }\n",
              "\n",
              "    .dataframe tbody tr th {\n",
              "        vertical-align: top;\n",
              "    }\n",
              "\n",
              "    .dataframe thead th {\n",
              "        text-align: right;\n",
              "    }\n",
              "</style>\n",
              "<table border=\"1\" class=\"dataframe\">\n",
              "  <thead>\n",
              "    <tr style=\"text-align: right;\">\n",
              "      <th></th>\n",
              "      <th></th>\n",
              "      <th>A</th>\n",
              "      <th>B</th>\n",
              "    </tr>\n",
              "    <tr>\n",
              "      <th>first</th>\n",
              "      <th>second</th>\n",
              "      <th></th>\n",
              "      <th></th>\n",
              "    </tr>\n",
              "  </thead>\n",
              "  <tbody>\n",
              "    <tr>\n",
              "      <th rowspan=\"2\" valign=\"top\">bar</th>\n",
              "      <th>one</th>\n",
              "      <td>-0.195358</td>\n",
              "      <td>0.750044</td>\n",
              "    </tr>\n",
              "    <tr>\n",
              "      <th>two</th>\n",
              "      <td>-0.104833</td>\n",
              "      <td>-1.433699</td>\n",
              "    </tr>\n",
              "    <tr>\n",
              "      <th rowspan=\"2\" valign=\"top\">baz</th>\n",
              "      <th>one</th>\n",
              "      <td>-0.113793</td>\n",
              "      <td>-0.954064</td>\n",
              "    </tr>\n",
              "    <tr>\n",
              "      <th>two</th>\n",
              "      <td>-2.333533</td>\n",
              "      <td>0.042629</td>\n",
              "    </tr>\n",
              "  </tbody>\n",
              "</table>\n",
              "</div>"
            ],
            "text/plain": [
              "                     A         B\n",
              "first second                    \n",
              "bar   one    -0.195358  0.750044\n",
              "      two    -0.104833 -1.433699\n",
              "baz   one    -0.113793 -0.954064\n",
              "      two    -2.333533  0.042629"
            ]
          },
          "metadata": {
            "tags": []
          },
          "execution_count": 57
        }
      ]
    },
    {
      "metadata": {
        "id": "EdPsLy7B3o53",
        "colab_type": "text"
      },
      "cell_type": "markdown",
      "source": [
        "[stack()](https://pandas.pydata.org/pandas-docs/stable/generated/pandas.DataFrame.stack.html#pandas.DataFrame.stack) 메서드는 DataFrame 열들의 레벨을 \"압축\"합니다."
      ]
    },
    {
      "metadata": {
        "id": "yFIcJ4HE3r0A",
        "colab_type": "code",
        "colab": {}
      },
      "cell_type": "code",
      "source": [
        "stacked = df2.stack()"
      ],
      "execution_count": 0,
      "outputs": []
    },
    {
      "metadata": {
        "id": "4HZDs9pX3sEo",
        "colab_type": "code",
        "colab": {
          "base_uri": "https://localhost:8080/",
          "height": 192
        },
        "outputId": "368118d3-2046-4654-8032-3efdb260e4fa"
      },
      "cell_type": "code",
      "source": [
        "stacked"
      ],
      "execution_count": 59,
      "outputs": [
        {
          "output_type": "execute_result",
          "data": {
            "text/plain": [
              "first  second   \n",
              "bar    one     A   -0.195358\n",
              "               B    0.750044\n",
              "       two     A   -0.104833\n",
              "               B   -1.433699\n",
              "baz    one     A   -0.113793\n",
              "               B   -0.954064\n",
              "       two     A   -2.333533\n",
              "               B    0.042629\n",
              "dtype: float64"
            ]
          },
          "metadata": {
            "tags": []
          },
          "execution_count": 59
        }
      ]
    },
    {
      "metadata": {
        "id": "AEuI6yvK3wXA",
        "colab_type": "text"
      },
      "cell_type": "markdown",
      "source": [
        "\"Stacked\" DataFrame 또는 Series (MultiIndex를 인덱스로 사용) 인 경우 [stack()](https://pandas.pydata.org/pandas-docs/stable/generated/pandas.DataFrame.stack.html#pandas.DataFrame.stack)의 역 연산은 [unstack()](https://pandas.pydata.org/pandas-docs/stable/generated/pandas.DataFrame.unstack.html#pandas.DataFrame.unstack)이며, 기본적으로 마지막 레벨을 unstack합니다."
      ]
    },
    {
      "metadata": {
        "id": "RlD00KLE3rvm",
        "colab_type": "code",
        "colab": {
          "base_uri": "https://localhost:8080/",
          "height": 204
        },
        "outputId": "1ae1686c-4bdc-4724-b23a-4b851fd69c7d"
      },
      "cell_type": "code",
      "source": [
        "stacked.unstack()"
      ],
      "execution_count": 60,
      "outputs": [
        {
          "output_type": "execute_result",
          "data": {
            "text/html": [
              "<div>\n",
              "<style scoped>\n",
              "    .dataframe tbody tr th:only-of-type {\n",
              "        vertical-align: middle;\n",
              "    }\n",
              "\n",
              "    .dataframe tbody tr th {\n",
              "        vertical-align: top;\n",
              "    }\n",
              "\n",
              "    .dataframe thead th {\n",
              "        text-align: right;\n",
              "    }\n",
              "</style>\n",
              "<table border=\"1\" class=\"dataframe\">\n",
              "  <thead>\n",
              "    <tr style=\"text-align: right;\">\n",
              "      <th></th>\n",
              "      <th></th>\n",
              "      <th>A</th>\n",
              "      <th>B</th>\n",
              "    </tr>\n",
              "    <tr>\n",
              "      <th>first</th>\n",
              "      <th>second</th>\n",
              "      <th></th>\n",
              "      <th></th>\n",
              "    </tr>\n",
              "  </thead>\n",
              "  <tbody>\n",
              "    <tr>\n",
              "      <th rowspan=\"2\" valign=\"top\">bar</th>\n",
              "      <th>one</th>\n",
              "      <td>-0.195358</td>\n",
              "      <td>0.750044</td>\n",
              "    </tr>\n",
              "    <tr>\n",
              "      <th>two</th>\n",
              "      <td>-0.104833</td>\n",
              "      <td>-1.433699</td>\n",
              "    </tr>\n",
              "    <tr>\n",
              "      <th rowspan=\"2\" valign=\"top\">baz</th>\n",
              "      <th>one</th>\n",
              "      <td>-0.113793</td>\n",
              "      <td>-0.954064</td>\n",
              "    </tr>\n",
              "    <tr>\n",
              "      <th>two</th>\n",
              "      <td>-2.333533</td>\n",
              "      <td>0.042629</td>\n",
              "    </tr>\n",
              "  </tbody>\n",
              "</table>\n",
              "</div>"
            ],
            "text/plain": [
              "                     A         B\n",
              "first second                    \n",
              "bar   one    -0.195358  0.750044\n",
              "      two    -0.104833 -1.433699\n",
              "baz   one    -0.113793 -0.954064\n",
              "      two    -2.333533  0.042629"
            ]
          },
          "metadata": {
            "tags": []
          },
          "execution_count": 60
        }
      ]
    },
    {
      "metadata": {
        "id": "kq8C75gl30xL",
        "colab_type": "code",
        "colab": {
          "base_uri": "https://localhost:8080/",
          "height": 328
        },
        "outputId": "ce659c7a-ff97-414a-bfde-7d5a662e80ce"
      },
      "cell_type": "code",
      "source": [
        "stacked.unstack(1)"
      ],
      "execution_count": 29,
      "outputs": [
        {
          "output_type": "execute_result",
          "data": {
            "text/html": [
              "<div>\n",
              "<style scoped>\n",
              "    .dataframe tbody tr th:only-of-type {\n",
              "        vertical-align: middle;\n",
              "    }\n",
              "\n",
              "    .dataframe tbody tr th {\n",
              "        vertical-align: top;\n",
              "    }\n",
              "\n",
              "    .dataframe thead th {\n",
              "        text-align: right;\n",
              "    }\n",
              "</style>\n",
              "<table border=\"1\" class=\"dataframe\">\n",
              "  <thead>\n",
              "    <tr style=\"text-align: right;\">\n",
              "      <th></th>\n",
              "      <th>second</th>\n",
              "      <th>one</th>\n",
              "      <th>two</th>\n",
              "    </tr>\n",
              "    <tr>\n",
              "      <th>first</th>\n",
              "      <th></th>\n",
              "      <th></th>\n",
              "      <th></th>\n",
              "    </tr>\n",
              "  </thead>\n",
              "  <tbody>\n",
              "    <tr>\n",
              "      <th rowspan=\"2\" valign=\"top\">bar</th>\n",
              "      <th>A</th>\n",
              "      <td>-0.875011</td>\n",
              "      <td>-1.556174</td>\n",
              "    </tr>\n",
              "    <tr>\n",
              "      <th>B</th>\n",
              "      <td>1.395960</td>\n",
              "      <td>-0.659940</td>\n",
              "    </tr>\n",
              "    <tr>\n",
              "      <th rowspan=\"2\" valign=\"top\">baz</th>\n",
              "      <th>A</th>\n",
              "      <td>-0.104231</td>\n",
              "      <td>-0.436920</td>\n",
              "    </tr>\n",
              "    <tr>\n",
              "      <th>B</th>\n",
              "      <td>2.667967</td>\n",
              "      <td>-1.299129</td>\n",
              "    </tr>\n",
              "    <tr>\n",
              "      <th rowspan=\"2\" valign=\"top\">foo</th>\n",
              "      <th>A</th>\n",
              "      <td>1.790953</td>\n",
              "      <td>0.978248</td>\n",
              "    </tr>\n",
              "    <tr>\n",
              "      <th>B</th>\n",
              "      <td>-0.232506</td>\n",
              "      <td>-0.547802</td>\n",
              "    </tr>\n",
              "    <tr>\n",
              "      <th rowspan=\"2\" valign=\"top\">qux</th>\n",
              "      <th>A</th>\n",
              "      <td>0.980380</td>\n",
              "      <td>-0.387887</td>\n",
              "    </tr>\n",
              "    <tr>\n",
              "      <th>B</th>\n",
              "      <td>0.290200</td>\n",
              "      <td>-0.116857</td>\n",
              "    </tr>\n",
              "  </tbody>\n",
              "</table>\n",
              "</div>"
            ],
            "text/plain": [
              "second        one       two\n",
              "first                      \n",
              "bar   A -0.875011 -1.556174\n",
              "      B  1.395960 -0.659940\n",
              "baz   A -0.104231 -0.436920\n",
              "      B  2.667967 -1.299129\n",
              "foo   A  1.790953  0.978248\n",
              "      B -0.232506 -0.547802\n",
              "qux   A  0.980380 -0.387887\n",
              "      B  0.290200 -0.116857"
            ]
          },
          "metadata": {
            "tags": []
          },
          "execution_count": 29
        }
      ]
    },
    {
      "metadata": {
        "id": "SVz51y-F30tT",
        "colab_type": "code",
        "colab": {
          "base_uri": "https://localhost:8080/",
          "height": 204
        },
        "outputId": "7d3db09c-6c21-43cc-9ff2-bd17a1bc7e7d"
      },
      "cell_type": "code",
      "source": [
        "stacked.unstack(0)"
      ],
      "execution_count": 61,
      "outputs": [
        {
          "output_type": "execute_result",
          "data": {
            "text/html": [
              "<div>\n",
              "<style scoped>\n",
              "    .dataframe tbody tr th:only-of-type {\n",
              "        vertical-align: middle;\n",
              "    }\n",
              "\n",
              "    .dataframe tbody tr th {\n",
              "        vertical-align: top;\n",
              "    }\n",
              "\n",
              "    .dataframe thead th {\n",
              "        text-align: right;\n",
              "    }\n",
              "</style>\n",
              "<table border=\"1\" class=\"dataframe\">\n",
              "  <thead>\n",
              "    <tr style=\"text-align: right;\">\n",
              "      <th></th>\n",
              "      <th>first</th>\n",
              "      <th>bar</th>\n",
              "      <th>baz</th>\n",
              "    </tr>\n",
              "    <tr>\n",
              "      <th>second</th>\n",
              "      <th></th>\n",
              "      <th></th>\n",
              "      <th></th>\n",
              "    </tr>\n",
              "  </thead>\n",
              "  <tbody>\n",
              "    <tr>\n",
              "      <th rowspan=\"2\" valign=\"top\">one</th>\n",
              "      <th>A</th>\n",
              "      <td>-0.195358</td>\n",
              "      <td>-0.113793</td>\n",
              "    </tr>\n",
              "    <tr>\n",
              "      <th>B</th>\n",
              "      <td>0.750044</td>\n",
              "      <td>-0.954064</td>\n",
              "    </tr>\n",
              "    <tr>\n",
              "      <th rowspan=\"2\" valign=\"top\">two</th>\n",
              "      <th>A</th>\n",
              "      <td>-0.104833</td>\n",
              "      <td>-2.333533</td>\n",
              "    </tr>\n",
              "    <tr>\n",
              "      <th>B</th>\n",
              "      <td>-1.433699</td>\n",
              "      <td>0.042629</td>\n",
              "    </tr>\n",
              "  </tbody>\n",
              "</table>\n",
              "</div>"
            ],
            "text/plain": [
              "first          bar       baz\n",
              "second                      \n",
              "one    A -0.195358 -0.113793\n",
              "       B  0.750044 -0.954064\n",
              "two    A -0.104833 -2.333533\n",
              "       B -1.433699  0.042629"
            ]
          },
          "metadata": {
            "tags": []
          },
          "execution_count": 61
        }
      ]
    },
    {
      "metadata": {
        "id": "RZ_-viV34FE-",
        "colab_type": "text"
      },
      "cell_type": "markdown",
      "source": [
        "## Pivot Tables"
      ]
    },
    {
      "metadata": {
        "id": "zWjNYxfD4Fhb",
        "colab_type": "text"
      },
      "cell_type": "markdown",
      "source": [
        "피벗 테이블 섹션을 참조하십시오."
      ]
    },
    {
      "metadata": {
        "id": "VBSzYL-R4MlI",
        "colab_type": "code",
        "colab": {}
      },
      "cell_type": "code",
      "source": [
        "df = pd.DataFrame({'A' : ['one', 'one', 'two', 'three'] * 3,\n",
        "                   'B' : ['A', 'B', 'C'] * 4,\n",
        "                   'C' : ['foo', 'foo', 'foo', 'bar', 'bar', 'bar'] * 2,\n",
        "                   'D' : np.random.randn(12),\n",
        "                   'E' : np.random.randn(12)})"
      ],
      "execution_count": 0,
      "outputs": []
    },
    {
      "metadata": {
        "id": "wRwnIrMC4MhQ",
        "colab_type": "code",
        "colab": {
          "base_uri": "https://localhost:8080/",
          "height": 421
        },
        "outputId": "4765d3e3-e4d7-498e-9813-e0bea853cdb0"
      },
      "cell_type": "code",
      "source": [
        "df"
      ],
      "execution_count": 63,
      "outputs": [
        {
          "output_type": "execute_result",
          "data": {
            "text/html": [
              "<div>\n",
              "<style scoped>\n",
              "    .dataframe tbody tr th:only-of-type {\n",
              "        vertical-align: middle;\n",
              "    }\n",
              "\n",
              "    .dataframe tbody tr th {\n",
              "        vertical-align: top;\n",
              "    }\n",
              "\n",
              "    .dataframe thead th {\n",
              "        text-align: right;\n",
              "    }\n",
              "</style>\n",
              "<table border=\"1\" class=\"dataframe\">\n",
              "  <thead>\n",
              "    <tr style=\"text-align: right;\">\n",
              "      <th></th>\n",
              "      <th>A</th>\n",
              "      <th>B</th>\n",
              "      <th>C</th>\n",
              "      <th>D</th>\n",
              "      <th>E</th>\n",
              "    </tr>\n",
              "  </thead>\n",
              "  <tbody>\n",
              "    <tr>\n",
              "      <th>0</th>\n",
              "      <td>one</td>\n",
              "      <td>A</td>\n",
              "      <td>foo</td>\n",
              "      <td>0.988377</td>\n",
              "      <td>0.841519</td>\n",
              "    </tr>\n",
              "    <tr>\n",
              "      <th>1</th>\n",
              "      <td>one</td>\n",
              "      <td>B</td>\n",
              "      <td>foo</td>\n",
              "      <td>0.650030</td>\n",
              "      <td>-1.278552</td>\n",
              "    </tr>\n",
              "    <tr>\n",
              "      <th>2</th>\n",
              "      <td>two</td>\n",
              "      <td>C</td>\n",
              "      <td>foo</td>\n",
              "      <td>-0.572768</td>\n",
              "      <td>-0.113546</td>\n",
              "    </tr>\n",
              "    <tr>\n",
              "      <th>3</th>\n",
              "      <td>three</td>\n",
              "      <td>A</td>\n",
              "      <td>bar</td>\n",
              "      <td>-0.917207</td>\n",
              "      <td>-0.605644</td>\n",
              "    </tr>\n",
              "    <tr>\n",
              "      <th>4</th>\n",
              "      <td>one</td>\n",
              "      <td>B</td>\n",
              "      <td>bar</td>\n",
              "      <td>0.041252</td>\n",
              "      <td>0.490003</td>\n",
              "    </tr>\n",
              "    <tr>\n",
              "      <th>5</th>\n",
              "      <td>one</td>\n",
              "      <td>C</td>\n",
              "      <td>bar</td>\n",
              "      <td>0.006014</td>\n",
              "      <td>-1.556474</td>\n",
              "    </tr>\n",
              "    <tr>\n",
              "      <th>6</th>\n",
              "      <td>two</td>\n",
              "      <td>A</td>\n",
              "      <td>foo</td>\n",
              "      <td>-1.395743</td>\n",
              "      <td>-0.194504</td>\n",
              "    </tr>\n",
              "    <tr>\n",
              "      <th>7</th>\n",
              "      <td>three</td>\n",
              "      <td>B</td>\n",
              "      <td>foo</td>\n",
              "      <td>-1.273224</td>\n",
              "      <td>0.849112</td>\n",
              "    </tr>\n",
              "    <tr>\n",
              "      <th>8</th>\n",
              "      <td>one</td>\n",
              "      <td>C</td>\n",
              "      <td>foo</td>\n",
              "      <td>0.532535</td>\n",
              "      <td>-0.997676</td>\n",
              "    </tr>\n",
              "    <tr>\n",
              "      <th>9</th>\n",
              "      <td>one</td>\n",
              "      <td>A</td>\n",
              "      <td>bar</td>\n",
              "      <td>0.139564</td>\n",
              "      <td>-2.028593</td>\n",
              "    </tr>\n",
              "    <tr>\n",
              "      <th>10</th>\n",
              "      <td>two</td>\n",
              "      <td>B</td>\n",
              "      <td>bar</td>\n",
              "      <td>-0.873256</td>\n",
              "      <td>0.202317</td>\n",
              "    </tr>\n",
              "    <tr>\n",
              "      <th>11</th>\n",
              "      <td>three</td>\n",
              "      <td>C</td>\n",
              "      <td>bar</td>\n",
              "      <td>-0.821394</td>\n",
              "      <td>1.874484</td>\n",
              "    </tr>\n",
              "  </tbody>\n",
              "</table>\n",
              "</div>"
            ],
            "text/plain": [
              "        A  B    C         D         E\n",
              "0     one  A  foo  0.988377  0.841519\n",
              "1     one  B  foo  0.650030 -1.278552\n",
              "2     two  C  foo -0.572768 -0.113546\n",
              "3   three  A  bar -0.917207 -0.605644\n",
              "4     one  B  bar  0.041252  0.490003\n",
              "5     one  C  bar  0.006014 -1.556474\n",
              "6     two  A  foo -1.395743 -0.194504\n",
              "7   three  B  foo -1.273224  0.849112\n",
              "8     one  C  foo  0.532535 -0.997676\n",
              "9     one  A  bar  0.139564 -2.028593\n",
              "10    two  B  bar -0.873256  0.202317\n",
              "11  three  C  bar -0.821394  1.874484"
            ]
          },
          "metadata": {
            "tags": []
          },
          "execution_count": 63
        }
      ]
    },
    {
      "metadata": {
        "id": "d37WGaOO4Qjl",
        "colab_type": "text"
      },
      "cell_type": "markdown",
      "source": [
        "이 데이터에서 피벗 테이블을 매우 쉽게 생성 할 수 있습니다."
      ]
    },
    {
      "metadata": {
        "id": "x55H1koG4RSB",
        "colab_type": "code",
        "colab": {
          "base_uri": "https://localhost:8080/",
          "height": 359
        },
        "outputId": "c8edb548-04c8-4a9c-c4d9-40ca922d74ee"
      },
      "cell_type": "code",
      "source": [
        "pd.pivot_table(df, values='D', index=['A', 'B'], columns=['C'])"
      ],
      "execution_count": 64,
      "outputs": [
        {
          "output_type": "execute_result",
          "data": {
            "text/html": [
              "<div>\n",
              "<style scoped>\n",
              "    .dataframe tbody tr th:only-of-type {\n",
              "        vertical-align: middle;\n",
              "    }\n",
              "\n",
              "    .dataframe tbody tr th {\n",
              "        vertical-align: top;\n",
              "    }\n",
              "\n",
              "    .dataframe thead th {\n",
              "        text-align: right;\n",
              "    }\n",
              "</style>\n",
              "<table border=\"1\" class=\"dataframe\">\n",
              "  <thead>\n",
              "    <tr style=\"text-align: right;\">\n",
              "      <th></th>\n",
              "      <th>C</th>\n",
              "      <th>bar</th>\n",
              "      <th>foo</th>\n",
              "    </tr>\n",
              "    <tr>\n",
              "      <th>A</th>\n",
              "      <th>B</th>\n",
              "      <th></th>\n",
              "      <th></th>\n",
              "    </tr>\n",
              "  </thead>\n",
              "  <tbody>\n",
              "    <tr>\n",
              "      <th rowspan=\"3\" valign=\"top\">one</th>\n",
              "      <th>A</th>\n",
              "      <td>0.139564</td>\n",
              "      <td>0.988377</td>\n",
              "    </tr>\n",
              "    <tr>\n",
              "      <th>B</th>\n",
              "      <td>0.041252</td>\n",
              "      <td>0.650030</td>\n",
              "    </tr>\n",
              "    <tr>\n",
              "      <th>C</th>\n",
              "      <td>0.006014</td>\n",
              "      <td>0.532535</td>\n",
              "    </tr>\n",
              "    <tr>\n",
              "      <th rowspan=\"3\" valign=\"top\">three</th>\n",
              "      <th>A</th>\n",
              "      <td>-0.917207</td>\n",
              "      <td>NaN</td>\n",
              "    </tr>\n",
              "    <tr>\n",
              "      <th>B</th>\n",
              "      <td>NaN</td>\n",
              "      <td>-1.273224</td>\n",
              "    </tr>\n",
              "    <tr>\n",
              "      <th>C</th>\n",
              "      <td>-0.821394</td>\n",
              "      <td>NaN</td>\n",
              "    </tr>\n",
              "    <tr>\n",
              "      <th rowspan=\"3\" valign=\"top\">two</th>\n",
              "      <th>A</th>\n",
              "      <td>NaN</td>\n",
              "      <td>-1.395743</td>\n",
              "    </tr>\n",
              "    <tr>\n",
              "      <th>B</th>\n",
              "      <td>-0.873256</td>\n",
              "      <td>NaN</td>\n",
              "    </tr>\n",
              "    <tr>\n",
              "      <th>C</th>\n",
              "      <td>NaN</td>\n",
              "      <td>-0.572768</td>\n",
              "    </tr>\n",
              "  </tbody>\n",
              "</table>\n",
              "</div>"
            ],
            "text/plain": [
              "C             bar       foo\n",
              "A     B                    \n",
              "one   A  0.139564  0.988377\n",
              "      B  0.041252  0.650030\n",
              "      C  0.006014  0.532535\n",
              "three A -0.917207       NaN\n",
              "      B       NaN -1.273224\n",
              "      C -0.821394       NaN\n",
              "two   A       NaN -1.395743\n",
              "      B -0.873256       NaN\n",
              "      C       NaN -0.572768"
            ]
          },
          "metadata": {
            "tags": []
          },
          "execution_count": 64
        }
      ]
    },
    {
      "metadata": {
        "id": "ZYenx0CU2Lvc",
        "colab_type": "text"
      },
      "cell_type": "markdown",
      "source": [
        "# Time Series"
      ]
    },
    {
      "metadata": {
        "id": "y-awduy52QAH",
        "colab_type": "text"
      },
      "cell_type": "markdown",
      "source": [
        "pandas는 리샘플링 작업을 수행하기 위해 간단하고, 강력하며 효율적인 기능을 제공합니다(예 : 2차 자료를 5-minutely 데이터로 변환). 이는 재무 애플리케이션에서 매우 일반적이지만 이에 국한되지 않습니다. [Time Series(시계열) 섹션](https://pandas.pydata.org/pandas-docs/stable/timeseries.html#timeseries)을 참고하세요."
      ]
    },
    {
      "metadata": {
        "id": "Y9eFwVdS2VP_",
        "colab_type": "code",
        "colab": {}
      },
      "cell_type": "code",
      "source": [
        "rng = pd.date_range('1/1/2012', periods=100, freq='S')"
      ],
      "execution_count": 0,
      "outputs": []
    },
    {
      "metadata": {
        "id": "Cyqthy0N2WlK",
        "colab_type": "code",
        "colab": {}
      },
      "cell_type": "code",
      "source": [
        "ts = pd.Series(np.random.randint(0, 500, len(rng)), index=rng)"
      ],
      "execution_count": 0,
      "outputs": []
    },
    {
      "metadata": {
        "id": "ZISF14wx2WpQ",
        "colab_type": "code",
        "colab": {
          "base_uri": "https://localhost:8080/",
          "height": 52
        },
        "outputId": "a9379f99-9e6c-4ded-9f25-c7fe2685feaa"
      },
      "cell_type": "code",
      "source": [
        "ts.resample('5Min').sum()"
      ],
      "execution_count": 67,
      "outputs": [
        {
          "output_type": "execute_result",
          "data": {
            "text/plain": [
              "2012-01-01    24266\n",
              "Freq: 5T, dtype: int64"
            ]
          },
          "metadata": {
            "tags": []
          },
          "execution_count": 67
        }
      ]
    },
    {
      "metadata": {
        "id": "3LcQGxvr2aBM",
        "colab_type": "text"
      },
      "cell_type": "markdown",
      "source": [
        "시간대를 표현합니다 :"
      ]
    },
    {
      "metadata": {
        "id": "N6uN3VkD2WyK",
        "colab_type": "code",
        "colab": {}
      },
      "cell_type": "code",
      "source": [
        "rng = pd.date_range('3/6/2012 00:00', periods=5, freq='D')"
      ],
      "execution_count": 0,
      "outputs": []
    },
    {
      "metadata": {
        "id": "zIMrP5Te2cht",
        "colab_type": "code",
        "colab": {}
      },
      "cell_type": "code",
      "source": [
        "ts = pd.Series(np.random.randn(len(rng)), rng)"
      ],
      "execution_count": 0,
      "outputs": []
    },
    {
      "metadata": {
        "id": "SmAOR9oR2Wtw",
        "colab_type": "code",
        "colab": {
          "base_uri": "https://localhost:8080/",
          "height": 122
        },
        "outputId": "d800085a-e5f1-43ae-9f73-8e08add09d5e"
      },
      "cell_type": "code",
      "source": [
        "ts"
      ],
      "execution_count": 74,
      "outputs": [
        {
          "output_type": "execute_result",
          "data": {
            "text/plain": [
              "2012-03-06   -0.823286\n",
              "2012-03-07   -0.411211\n",
              "2012-03-08   -0.373167\n",
              "2012-03-09   -0.296496\n",
              "2012-03-10    0.669600\n",
              "Freq: D, dtype: float64"
            ]
          },
          "metadata": {
            "tags": []
          },
          "execution_count": 74
        }
      ]
    },
    {
      "metadata": {
        "id": "tSHoco6N2ezX",
        "colab_type": "code",
        "colab": {}
      },
      "cell_type": "code",
      "source": [
        "ts_utc = ts.tz_localize('UTC')"
      ],
      "execution_count": 0,
      "outputs": []
    },
    {
      "metadata": {
        "id": "YA5wOamF2e3c",
        "colab_type": "code",
        "colab": {
          "base_uri": "https://localhost:8080/",
          "height": 122
        },
        "outputId": "7fad2ece-56fd-4f87-b69e-55757c490ae1"
      },
      "cell_type": "code",
      "source": [
        "ts_utc"
      ],
      "execution_count": 72,
      "outputs": [
        {
          "output_type": "execute_result",
          "data": {
            "text/plain": [
              "2012-03-06 00:00:00+00:00   -0.823286\n",
              "2012-03-07 00:00:00+00:00   -0.411211\n",
              "2012-03-08 00:00:00+00:00   -0.373167\n",
              "2012-03-09 00:00:00+00:00   -0.296496\n",
              "2012-03-10 00:00:00+00:00    0.669600\n",
              "Freq: D, dtype: float64"
            ]
          },
          "metadata": {
            "tags": []
          },
          "execution_count": 72
        }
      ]
    },
    {
      "metadata": {
        "id": "3vrPJFj12hUk",
        "colab_type": "text"
      },
      "cell_type": "markdown",
      "source": [
        "다른 시간대로 변환을 시행합니다 :"
      ]
    },
    {
      "metadata": {
        "id": "OQWgvsVo2e76",
        "colab_type": "code",
        "colab": {
          "base_uri": "https://localhost:8080/",
          "height": 122
        },
        "outputId": "00b33d85-4cb9-4b39-f9df-8cae3402dcf6"
      },
      "cell_type": "code",
      "source": [
        "ts_utc.tz_convert('US/Eastern')"
      ],
      "execution_count": 73,
      "outputs": [
        {
          "output_type": "execute_result",
          "data": {
            "text/plain": [
              "2012-03-05 19:00:00-05:00   -0.823286\n",
              "2012-03-06 19:00:00-05:00   -0.411211\n",
              "2012-03-07 19:00:00-05:00   -0.373167\n",
              "2012-03-08 19:00:00-05:00   -0.296496\n",
              "2012-03-09 19:00:00-05:00    0.669600\n",
              "Freq: D, dtype: float64"
            ]
          },
          "metadata": {
            "tags": []
          },
          "execution_count": 73
        }
      ]
    },
    {
      "metadata": {
        "id": "THfGaHND2kli",
        "colab_type": "text"
      },
      "cell_type": "markdown",
      "source": [
        "시간 범위 표현 간에 변환을 시행합니다 :"
      ]
    },
    {
      "metadata": {
        "id": "bZPXGpSZ2lLt",
        "colab_type": "code",
        "colab": {}
      },
      "cell_type": "code",
      "source": [
        "rng = pd.date_range('1/1/2012', periods=5, freq='M')"
      ],
      "execution_count": 0,
      "outputs": []
    },
    {
      "metadata": {
        "id": "NCpFTZCz2e_7",
        "colab_type": "code",
        "colab": {}
      },
      "cell_type": "code",
      "source": [
        "ts = pd.Series(np.random.randn(len(rng)), index=rng)"
      ],
      "execution_count": 0,
      "outputs": []
    },
    {
      "metadata": {
        "id": "TFbL7np62obz",
        "colab_type": "code",
        "colab": {
          "base_uri": "https://localhost:8080/",
          "height": 122
        },
        "outputId": "ebbc654b-c785-49b8-8761-4c93eb867c42"
      },
      "cell_type": "code",
      "source": [
        "ts"
      ],
      "execution_count": 45,
      "outputs": [
        {
          "output_type": "execute_result",
          "data": {
            "text/plain": [
              "2012-01-31   -0.421486\n",
              "2012-02-29   -0.184594\n",
              "2012-03-31   -0.117843\n",
              "2012-04-30   -0.126489\n",
              "2012-05-31   -0.351443\n",
              "Freq: M, dtype: float64"
            ]
          },
          "metadata": {
            "tags": []
          },
          "execution_count": 45
        }
      ]
    },
    {
      "metadata": {
        "id": "I30_LkrG2o_g",
        "colab_type": "code",
        "colab": {}
      },
      "cell_type": "code",
      "source": [
        "ps = ts.to_period()"
      ],
      "execution_count": 0,
      "outputs": []
    },
    {
      "metadata": {
        "id": "Ue18d1fv2pHh",
        "colab_type": "code",
        "colab": {
          "base_uri": "https://localhost:8080/",
          "height": 122
        },
        "outputId": "95180de3-204e-4bbd-ca04-5104a703ac7d"
      },
      "cell_type": "code",
      "source": [
        "ps"
      ],
      "execution_count": 47,
      "outputs": [
        {
          "output_type": "execute_result",
          "data": {
            "text/plain": [
              "2012-01   -0.421486\n",
              "2012-02   -0.184594\n",
              "2012-03   -0.117843\n",
              "2012-04   -0.126489\n",
              "2012-05   -0.351443\n",
              "Freq: M, dtype: float64"
            ]
          },
          "metadata": {
            "tags": []
          },
          "execution_count": 47
        }
      ]
    },
    {
      "metadata": {
        "id": "YgdyzQNW2pQp",
        "colab_type": "code",
        "colab": {
          "base_uri": "https://localhost:8080/",
          "height": 122
        },
        "outputId": "6059235d-d536-4328-f4f1-55b3a270f206"
      },
      "cell_type": "code",
      "source": [
        "ps.to_timestamp()"
      ],
      "execution_count": 48,
      "outputs": [
        {
          "output_type": "execute_result",
          "data": {
            "text/plain": [
              "2012-01-01   -0.421486\n",
              "2012-02-01   -0.184594\n",
              "2012-03-01   -0.117843\n",
              "2012-04-01   -0.126489\n",
              "2012-05-01   -0.351443\n",
              "Freq: MS, dtype: float64"
            ]
          },
          "metadata": {
            "tags": []
          },
          "execution_count": 48
        }
      ]
    },
    {
      "metadata": {
        "id": "mxuEnG7R2twf",
        "colab_type": "text"
      },
      "cell_type": "markdown",
      "source": [
        "기간과 타임 스탬프를 변환하면 편리한 산술 기능을 사용할 수 있습니다. 다음 예제에서는 11월에 끝나는 연말 결산의 분기 별 빈도를 다음 달 오전 9시까지 변환합니다 :"
      ]
    },
    {
      "metadata": {
        "id": "tPlpI7I02wU2",
        "colab_type": "code",
        "colab": {}
      },
      "cell_type": "code",
      "source": [
        "prng = pd.period_range('1990Q1', '2000Q4', freq='Q-NOV')"
      ],
      "execution_count": 0,
      "outputs": []
    },
    {
      "metadata": {
        "id": "HJrVQIbf2xnO",
        "colab_type": "code",
        "colab": {}
      },
      "cell_type": "code",
      "source": [
        "ts = pd.Series(np.random.randn(len(prng)), prng)"
      ],
      "execution_count": 0,
      "outputs": []
    },
    {
      "metadata": {
        "id": "0e5Bd6Nq23QY",
        "colab_type": "code",
        "colab": {}
      },
      "cell_type": "code",
      "source": [
        "ts.index = (prng.asfreq('M', 'e') + 1).asfreq('H', 's') + 9"
      ],
      "execution_count": 0,
      "outputs": []
    },
    {
      "metadata": {
        "id": "RecuXufR26SS",
        "colab_type": "code",
        "colab": {
          "base_uri": "https://localhost:8080/",
          "height": 122
        },
        "outputId": "1a7cbbe9-1966-4907-fc77-71e446d31040"
      },
      "cell_type": "code",
      "source": [
        "ts.head()"
      ],
      "execution_count": 52,
      "outputs": [
        {
          "output_type": "execute_result",
          "data": {
            "text/plain": [
              "1990-03-01 09:00    0.427177\n",
              "1990-06-01 09:00   -0.042834\n",
              "1990-09-01 09:00   -1.484662\n",
              "1990-12-01 09:00    0.310516\n",
              "1991-03-01 09:00   -0.718662\n",
              "Freq: H, dtype: float64"
            ]
          },
          "metadata": {
            "tags": []
          },
          "execution_count": 52
        }
      ]
    },
    {
      "metadata": {
        "id": "8OfzvbgW28Hc",
        "colab_type": "text"
      },
      "cell_type": "markdown",
      "source": [
        "# Categoricals"
      ]
    },
    {
      "metadata": {
        "id": "e3UtUKXU_P2R",
        "colab_type": "text"
      },
      "cell_type": "markdown",
      "source": [
        "판다스는 데이터프레임 내에 범주형 데이터를 포함할 수 있습니다. 관련 문서는 [범주형 데이터 설명서](https://pandas.pydata.org/pandas-docs/stable/categorical.html#categorical) 와 [API 문서](https://pandas.pydata.org/pandas-docs/stable/api.html#api-categorical)를 참조하세요."
      ]
    },
    {
      "metadata": {
        "id": "06N2dtiG_Syu",
        "colab_type": "code",
        "colab": {}
      },
      "cell_type": "code",
      "source": [
        "df = pd.DataFrame({\"id\":[1,2,3,4,5,6], \"raw_grade\":['a', 'b', 'b', 'a', 'a', 'e']})"
      ],
      "execution_count": 0,
      "outputs": []
    },
    {
      "metadata": {
        "id": "gDRaVjoD_j_o",
        "colab_type": "text"
      },
      "cell_type": "markdown",
      "source": [
        "raw grade를 범주형 데이터 타입으로 바꿔주세요."
      ]
    },
    {
      "metadata": {
        "id": "1SYkcjem_sGv",
        "colab_type": "code",
        "colab": {}
      },
      "cell_type": "code",
      "source": [
        "df[\"grade\"] = df[\"raw_grade\"].astype(\"category\")"
      ],
      "execution_count": 0,
      "outputs": []
    },
    {
      "metadata": {
        "id": "jydcy-_m_uzu",
        "colab_type": "code",
        "colab": {}
      },
      "cell_type": "code",
      "source": [
        "df[\"grade\"]"
      ],
      "execution_count": 0,
      "outputs": []
    },
    {
      "metadata": {
        "id": "42GBAJv5Bt1I",
        "colab_type": "text"
      },
      "cell_type": "markdown",
      "source": [
        "범주를 더 의미있는 이름으로 바꿔주세요. (Series.cat을 범주화할 준비가 됐습니다.)."
      ]
    },
    {
      "metadata": {
        "id": "doobrAvYBudq",
        "colab_type": "code",
        "colab": {}
      },
      "cell_type": "code",
      "source": [
        "df[\"grade\"].cat.categories = [\"very good\", \"good\", \"very bad\"]"
      ],
      "execution_count": 0,
      "outputs": []
    },
    {
      "metadata": {
        "id": "vhhGHW7LBwYW",
        "colab_type": "text"
      },
      "cell_type": "markdown",
      "source": [
        "범주의 순서를 바꾸고 누락된 범주를 동시에 추가합니다. (Series.cat 메서드는 자동으로 새 Series를 반환합니다.)"
      ]
    },
    {
      "metadata": {
        "id": "lUcARnDbBw9g",
        "colab_type": "code",
        "colab": {}
      },
      "cell_type": "code",
      "source": [
        "df[\"grade\"] = df[\"grade\"].cat.set_categories([\"very bad\", \"bad\", \"medium\", \"good\", \"very good\"])"
      ],
      "execution_count": 0,
      "outputs": []
    },
    {
      "metadata": {
        "id": "RA_znfuKBy8q",
        "colab_type": "code",
        "colab": {}
      },
      "cell_type": "code",
      "source": [
        "df[\"grade\"]"
      ],
      "execution_count": 0,
      "outputs": []
    },
    {
      "metadata": {
        "id": "SPNrY_SE3Evr",
        "colab_type": "text"
      },
      "cell_type": "markdown",
      "source": [
        "정렬(sort)은 어휘 순서(lexical order)가 아닌, 범주(category) 순서로 수행됩니다."
      ]
    },
    {
      "metadata": {
        "id": "FuGS1e023A8g",
        "colab_type": "code",
        "colab": {}
      },
      "cell_type": "code",
      "source": [
        "df.sort_values(by=\"grade\")"
      ],
      "execution_count": 0,
      "outputs": []
    },
    {
      "metadata": {
        "id": "tl3VskO43Hd9",
        "colab_type": "text"
      },
      "cell_type": "markdown",
      "source": [
        "범주의 열을 기준으로 그룹화하면(grouping) 빈 범주도 표시됩니다."
      ]
    },
    {
      "metadata": {
        "id": "pD-EDBKN3KNk",
        "colab_type": "code",
        "colab": {}
      },
      "cell_type": "code",
      "source": [
        "df.groupby(\"grade\").size()"
      ],
      "execution_count": 0,
      "outputs": []
    },
    {
      "metadata": {
        "id": "LDarUbRI1K9c",
        "colab_type": "text"
      },
      "cell_type": "markdown",
      "source": [
        "# Plotting"
      ]
    },
    {
      "metadata": {
        "id": "pi9t1o4-1X2Q",
        "colab_type": "text"
      },
      "cell_type": "markdown",
      "source": [
        "[Plotting](https://pandas.pydata.org/pandas-docs/stable/visualization.html#visualization) 문서를 참조하세요."
      ]
    },
    {
      "metadata": {
        "id": "ypfwa2Zy1WrL",
        "colab_type": "code",
        "colab": {
          "base_uri": "https://localhost:8080/",
          "height": 172
        },
        "outputId": "50ee7725-cc65-4e4f-9878-d4780bdac663"
      },
      "cell_type": "code",
      "source": [
        "ts = pd.Series(np.random.randn(1000), index=pd.date_range('1/1/2000', periods=1000))"
      ],
      "execution_count": 5,
      "outputs": [
        {
          "output_type": "error",
          "ename": "NameError",
          "evalue": "ignored",
          "traceback": [
            "\u001b[0;31m---------------------------------------------------------------------------\u001b[0m",
            "\u001b[0;31mNameError\u001b[0m                                 Traceback (most recent call last)",
            "\u001b[0;32m<ipython-input-5-1b5db062ba99>\u001b[0m in \u001b[0;36m<module>\u001b[0;34m()\u001b[0m\n\u001b[0;32m----> 1\u001b[0;31m \u001b[0mts\u001b[0m \u001b[0;34m=\u001b[0m \u001b[0mpd\u001b[0m\u001b[0;34m.\u001b[0m\u001b[0mSeries\u001b[0m\u001b[0;34m(\u001b[0m\u001b[0mnp\u001b[0m\u001b[0;34m.\u001b[0m\u001b[0mrandom\u001b[0m\u001b[0;34m.\u001b[0m\u001b[0mrandn\u001b[0m\u001b[0;34m(\u001b[0m\u001b[0;36m1000\u001b[0m\u001b[0;34m)\u001b[0m\u001b[0;34m,\u001b[0m \u001b[0mindex\u001b[0m\u001b[0;34m=\u001b[0m\u001b[0mpd\u001b[0m\u001b[0;34m.\u001b[0m\u001b[0mdate_range\u001b[0m\u001b[0;34m(\u001b[0m\u001b[0;34m'1/1/2000'\u001b[0m\u001b[0;34m,\u001b[0m \u001b[0mperiods\u001b[0m\u001b[0;34m=\u001b[0m\u001b[0;36m1000\u001b[0m\u001b[0;34m)\u001b[0m\u001b[0;34m)\u001b[0m\u001b[0;34m\u001b[0m\u001b[0m\n\u001b[0m",
            "\u001b[0;31mNameError\u001b[0m: name 'pd' is not defined"
          ]
        }
      ]
    },
    {
      "metadata": {
        "id": "Ai8kXvor1cSZ",
        "colab_type": "code",
        "colab": {}
      },
      "cell_type": "code",
      "source": [
        "ts = ts.cumsum()"
      ],
      "execution_count": 0,
      "outputs": []
    },
    {
      "metadata": {
        "id": "sfICp0cs1gXu",
        "colab_type": "code",
        "colab": {
          "base_uri": "https://localhost:8080/",
          "height": 377
        },
        "outputId": "c6009633-5e9a-47b6-e94d-217c6a93c646"
      },
      "cell_type": "code",
      "source": [
        "ts.plot()"
      ],
      "execution_count": 17,
      "outputs": [
        {
          "output_type": "execute_result",
          "data": {
            "text/plain": [
              "<matplotlib.axes._subplots.AxesSubplot at 0x7fe9146a1668>"
            ]
          },
          "metadata": {
            "tags": []
          },
          "execution_count": 17
        },
        {
          "output_type": "display_data",
          "data": {
            "image/png": "[encoded data removed]",
            "text/plain": [
              "<matplotlib.figure.Figure at 0x7fe914785588>"
            ]
          },
          "metadata": {
            "tags": []
          }
        }
      ]
    },
    {
      "metadata": {
        "id": "iOsgd7LK1kXK",
        "colab_type": "text"
      },
      "cell_type": "markdown",
      "source": [
        "DataFrame에서 [plot()](https://pandas.pydata.org/pandas-docs/stable/generated/pandas.DataFrame.plot.html#pandas.DataFrame.plot) 메소드는 레이블에 있는 모든 열을 그릴 때 편리합니다\n",
        "\n"
      ]
    },
    {
      "metadata": {
        "id": "LHvapoGC1pPT",
        "colab_type": "code",
        "colab": {}
      },
      "cell_type": "code",
      "source": [
        "df = pd.DataFrame(np.random.randn(1000, 4), index=ts.index,\n",
        "                  columns=['A', 'B', 'C', 'D'])  "
      ],
      "execution_count": 0,
      "outputs": []
    },
    {
      "metadata": {
        "id": "g6ebCUZa1rKu",
        "colab_type": "code",
        "colab": {}
      },
      "cell_type": "code",
      "source": [
        "df = df.cumsum()"
      ],
      "execution_count": 0,
      "outputs": []
    },
    {
      "metadata": {
        "id": "Qfil41-P1uMu",
        "colab_type": "code",
        "colab": {
          "base_uri": "https://localhost:8080/",
          "height": 396
        },
        "outputId": "941e5874-1699-4f75-c209-ac22d06accd9"
      },
      "cell_type": "code",
      "source": [
        "plt.figure(); df.plot(); plt.legend(loc='best')"
      ],
      "execution_count": 20,
      "outputs": [
        {
          "output_type": "execute_result",
          "data": {
            "text/plain": [
              "<matplotlib.legend.Legend at 0x7fe914792cf8>"
            ]
          },
          "metadata": {
            "tags": []
          },
          "execution_count": 20
        },
        {
          "output_type": "display_data",
          "data": {
            "text/plain": [
              "<matplotlib.figure.Figure at 0x7fe9145862e8>"
            ]
          },
          "metadata": {
            "tags": []
          }
        },
        {
          "output_type": "display_data",
          "data": {
            "image/png": "[encoded data removed]",
            "text/plain": [
              "<matplotlib.figure.Figure at 0x7fe914792c50>"
            ]
          },
          "metadata": {
            "tags": []
          }
        }
      ]
    },
    {
      "metadata": {
        "id": "6orrhxzC2vJh",
        "colab_type": "text"
      },
      "cell_type": "markdown",
      "source": [
        "#Getting Data In/Out"
      ]
    },
    {
      "metadata": {
        "id": "bYZJgW252vq2",
        "colab_type": "text"
      },
      "cell_type": "markdown",
      "source": [
        "##CSV"
      ]
    },
    {
      "metadata": {
        "id": "Z7q2-xWD_YkP",
        "colab_type": "text"
      },
      "cell_type": "markdown",
      "source": [
        "[csv 파일에 씁니다.](https://pandas.pydata.org/pandas-docs/stable/io.html#io-store-in-csv)"
      ]
    },
    {
      "metadata": {
        "id": "1iet_DHP_XSk",
        "colab_type": "code",
        "colab": {}
      },
      "cell_type": "code",
      "source": [
        "df.to_csv('foo.csv')"
      ],
      "execution_count": 0,
      "outputs": []
    },
    {
      "metadata": {
        "id": "7luq7S6OANk_",
        "colab_type": "text"
      },
      "cell_type": "markdown",
      "source": [
        "[csv 파일에서 읽습니다.](https://pandas.pydata.org/pandas-docs/stable/io.html#io-read-csv-table)"
      ]
    },
    {
      "metadata": {
        "id": "NE2Xhx-MAW45",
        "colab_type": "code",
        "colab": {
          "base_uri": "https://localhost:8080/",
          "height": 1949
        },
        "outputId": "8c7a769b-d1d5-4c30-99b1-2338036e5e8f"
      },
      "cell_type": "code",
      "source": [
        "pd.read_csv('foo.csv')"
      ],
      "execution_count": 22,
      "outputs": [
        {
          "output_type": "execute_result",
          "data": {
            "text/html": [
              "<div>\n",
              "<style scoped>\n",
              "    .dataframe tbody tr th:only-of-type {\n",
              "        vertical-align: middle;\n",
              "    }\n",
              "\n",
              "    .dataframe tbody tr th {\n",
              "        vertical-align: top;\n",
              "    }\n",
              "\n",
              "    .dataframe thead th {\n",
              "        text-align: right;\n",
              "    }\n",
              "</style>\n",
              "<table border=\"1\" class=\"dataframe\">\n",
              "  <thead>\n",
              "    <tr style=\"text-align: right;\">\n",
              "      <th></th>\n",
              "      <th>Unnamed: 0</th>\n",
              "      <th>A</th>\n",
              "      <th>B</th>\n",
              "      <th>C</th>\n",
              "      <th>D</th>\n",
              "    </tr>\n",
              "  </thead>\n",
              "  <tbody>\n",
              "    <tr>\n",
              "      <th>0</th>\n",
              "      <td>2000-01-01</td>\n",
              "      <td>-0.026335</td>\n",
              "      <td>-0.717745</td>\n",
              "      <td>0.117218</td>\n",
              "      <td>-0.549751</td>\n",
              "    </tr>\n",
              "    <tr>\n",
              "      <th>1</th>\n",
              "      <td>2000-01-02</td>\n",
              "      <td>-1.049763</td>\n",
              "      <td>-1.785373</td>\n",
              "      <td>-0.822755</td>\n",
              "      <td>-0.781237</td>\n",
              "    </tr>\n",
              "    <tr>\n",
              "      <th>2</th>\n",
              "      <td>2000-01-03</td>\n",
              "      <td>-1.268265</td>\n",
              "      <td>-0.791013</td>\n",
              "      <td>-0.141242</td>\n",
              "      <td>0.587446</td>\n",
              "    </tr>\n",
              "    <tr>\n",
              "      <th>3</th>\n",
              "      <td>2000-01-04</td>\n",
              "      <td>-2.667261</td>\n",
              "      <td>-1.408698</td>\n",
              "      <td>0.240404</td>\n",
              "      <td>-0.705050</td>\n",
              "    </tr>\n",
              "    <tr>\n",
              "      <th>4</th>\n",
              "      <td>2000-01-05</td>\n",
              "      <td>-4.471245</td>\n",
              "      <td>-2.303159</td>\n",
              "      <td>-0.314543</td>\n",
              "      <td>-0.252046</td>\n",
              "    </tr>\n",
              "    <tr>\n",
              "      <th>5</th>\n",
              "      <td>2000-01-06</td>\n",
              "      <td>-3.832738</td>\n",
              "      <td>-2.485943</td>\n",
              "      <td>0.554620</td>\n",
              "      <td>-1.617591</td>\n",
              "    </tr>\n",
              "    <tr>\n",
              "      <th>6</th>\n",
              "      <td>2000-01-07</td>\n",
              "      <td>-3.764604</td>\n",
              "      <td>-2.644763</td>\n",
              "      <td>1.224718</td>\n",
              "      <td>-1.640596</td>\n",
              "    </tr>\n",
              "    <tr>\n",
              "      <th>7</th>\n",
              "      <td>2000-01-08</td>\n",
              "      <td>-3.706452</td>\n",
              "      <td>-3.435865</td>\n",
              "      <td>-0.816544</td>\n",
              "      <td>-0.449831</td>\n",
              "    </tr>\n",
              "    <tr>\n",
              "      <th>8</th>\n",
              "      <td>2000-01-09</td>\n",
              "      <td>-3.936663</td>\n",
              "      <td>-3.419143</td>\n",
              "      <td>-3.106705</td>\n",
              "      <td>-0.312725</td>\n",
              "    </tr>\n",
              "    <tr>\n",
              "      <th>9</th>\n",
              "      <td>2000-01-10</td>\n",
              "      <td>-5.014653</td>\n",
              "      <td>-3.227070</td>\n",
              "      <td>-3.314237</td>\n",
              "      <td>-0.252284</td>\n",
              "    </tr>\n",
              "    <tr>\n",
              "      <th>10</th>\n",
              "      <td>2000-01-11</td>\n",
              "      <td>-4.206563</td>\n",
              "      <td>-3.708036</td>\n",
              "      <td>-2.286878</td>\n",
              "      <td>-1.057564</td>\n",
              "    </tr>\n",
              "    <tr>\n",
              "      <th>11</th>\n",
              "      <td>2000-01-12</td>\n",
              "      <td>-2.854169</td>\n",
              "      <td>-2.604047</td>\n",
              "      <td>-2.011293</td>\n",
              "      <td>-0.496066</td>\n",
              "    </tr>\n",
              "    <tr>\n",
              "      <th>12</th>\n",
              "      <td>2000-01-13</td>\n",
              "      <td>-2.425489</td>\n",
              "      <td>-1.964353</td>\n",
              "      <td>-4.310662</td>\n",
              "      <td>-0.254048</td>\n",
              "    </tr>\n",
              "    <tr>\n",
              "      <th>13</th>\n",
              "      <td>2000-01-14</td>\n",
              "      <td>-2.861078</td>\n",
              "      <td>-2.412133</td>\n",
              "      <td>-5.397059</td>\n",
              "      <td>-0.806801</td>\n",
              "    </tr>\n",
              "    <tr>\n",
              "      <th>14</th>\n",
              "      <td>2000-01-15</td>\n",
              "      <td>-3.719051</td>\n",
              "      <td>-2.304485</td>\n",
              "      <td>-6.486873</td>\n",
              "      <td>-0.764641</td>\n",
              "    </tr>\n",
              "    <tr>\n",
              "      <th>15</th>\n",
              "      <td>2000-01-16</td>\n",
              "      <td>-3.954312</td>\n",
              "      <td>-2.581573</td>\n",
              "      <td>-8.355360</td>\n",
              "      <td>-0.367414</td>\n",
              "    </tr>\n",
              "    <tr>\n",
              "      <th>16</th>\n",
              "      <td>2000-01-17</td>\n",
              "      <td>-4.536187</td>\n",
              "      <td>-1.894429</td>\n",
              "      <td>-7.774752</td>\n",
              "      <td>0.640860</td>\n",
              "    </tr>\n",
              "    <tr>\n",
              "      <th>17</th>\n",
              "      <td>2000-01-18</td>\n",
              "      <td>-6.213764</td>\n",
              "      <td>-2.279379</td>\n",
              "      <td>-7.626798</td>\n",
              "      <td>1.334903</td>\n",
              "    </tr>\n",
              "    <tr>\n",
              "      <th>18</th>\n",
              "      <td>2000-01-19</td>\n",
              "      <td>-5.164765</td>\n",
              "      <td>-2.382773</td>\n",
              "      <td>-6.484147</td>\n",
              "      <td>1.233413</td>\n",
              "    </tr>\n",
              "    <tr>\n",
              "      <th>19</th>\n",
              "      <td>2000-01-20</td>\n",
              "      <td>-5.951784</td>\n",
              "      <td>-3.206533</td>\n",
              "      <td>-7.456596</td>\n",
              "      <td>0.322954</td>\n",
              "    </tr>\n",
              "    <tr>\n",
              "      <th>20</th>\n",
              "      <td>2000-01-21</td>\n",
              "      <td>-6.094290</td>\n",
              "      <td>-1.806253</td>\n",
              "      <td>-9.041151</td>\n",
              "      <td>0.338585</td>\n",
              "    </tr>\n",
              "    <tr>\n",
              "      <th>21</th>\n",
              "      <td>2000-01-22</td>\n",
              "      <td>-4.219268</td>\n",
              "      <td>-2.402346</td>\n",
              "      <td>-8.804568</td>\n",
              "      <td>0.513316</td>\n",
              "    </tr>\n",
              "    <tr>\n",
              "      <th>22</th>\n",
              "      <td>2000-01-23</td>\n",
              "      <td>-2.293937</td>\n",
              "      <td>-0.970808</td>\n",
              "      <td>-9.969945</td>\n",
              "      <td>-1.423756</td>\n",
              "    </tr>\n",
              "    <tr>\n",
              "      <th>23</th>\n",
              "      <td>2000-01-24</td>\n",
              "      <td>-2.352168</td>\n",
              "      <td>-1.972728</td>\n",
              "      <td>-10.398412</td>\n",
              "      <td>-1.538460</td>\n",
              "    </tr>\n",
              "    <tr>\n",
              "      <th>24</th>\n",
              "      <td>2000-01-25</td>\n",
              "      <td>-3.424824</td>\n",
              "      <td>-3.400619</td>\n",
              "      <td>-10.598927</td>\n",
              "      <td>-0.946809</td>\n",
              "    </tr>\n",
              "    <tr>\n",
              "      <th>25</th>\n",
              "      <td>2000-01-26</td>\n",
              "      <td>-4.202295</td>\n",
              "      <td>-3.554636</td>\n",
              "      <td>-11.156441</td>\n",
              "      <td>0.381046</td>\n",
              "    </tr>\n",
              "    <tr>\n",
              "      <th>26</th>\n",
              "      <td>2000-01-27</td>\n",
              "      <td>-3.952622</td>\n",
              "      <td>-2.975130</td>\n",
              "      <td>-11.532670</td>\n",
              "      <td>-0.797718</td>\n",
              "    </tr>\n",
              "    <tr>\n",
              "      <th>27</th>\n",
              "      <td>2000-01-28</td>\n",
              "      <td>-1.792251</td>\n",
              "      <td>-2.364668</td>\n",
              "      <td>-12.882036</td>\n",
              "      <td>-0.858014</td>\n",
              "    </tr>\n",
              "    <tr>\n",
              "      <th>28</th>\n",
              "      <td>2000-01-29</td>\n",
              "      <td>-3.438095</td>\n",
              "      <td>-1.666424</td>\n",
              "      <td>-12.658937</td>\n",
              "      <td>-2.489144</td>\n",
              "    </tr>\n",
              "    <tr>\n",
              "      <th>29</th>\n",
              "      <td>2000-01-30</td>\n",
              "      <td>-4.057369</td>\n",
              "      <td>-1.405462</td>\n",
              "      <td>-12.806334</td>\n",
              "      <td>-1.991122</td>\n",
              "    </tr>\n",
              "    <tr>\n",
              "      <th>...</th>\n",
              "      <td>...</td>\n",
              "      <td>...</td>\n",
              "      <td>...</td>\n",
              "      <td>...</td>\n",
              "      <td>...</td>\n",
              "    </tr>\n",
              "    <tr>\n",
              "      <th>970</th>\n",
              "      <td>2002-08-28</td>\n",
              "      <td>-3.497089</td>\n",
              "      <td>-21.799331</td>\n",
              "      <td>-27.512780</td>\n",
              "      <td>-23.948642</td>\n",
              "    </tr>\n",
              "    <tr>\n",
              "      <th>971</th>\n",
              "      <td>2002-08-29</td>\n",
              "      <td>-3.780051</td>\n",
              "      <td>-23.708894</td>\n",
              "      <td>-28.615803</td>\n",
              "      <td>-23.760478</td>\n",
              "    </tr>\n",
              "    <tr>\n",
              "      <th>972</th>\n",
              "      <td>2002-08-30</td>\n",
              "      <td>-4.002507</td>\n",
              "      <td>-21.969386</td>\n",
              "      <td>-29.438393</td>\n",
              "      <td>-23.252988</td>\n",
              "    </tr>\n",
              "    <tr>\n",
              "      <th>973</th>\n",
              "      <td>2002-08-31</td>\n",
              "      <td>-4.661825</td>\n",
              "      <td>-22.424417</td>\n",
              "      <td>-29.850030</td>\n",
              "      <td>-23.513799</td>\n",
              "    </tr>\n",
              "    <tr>\n",
              "      <th>974</th>\n",
              "      <td>2002-09-01</td>\n",
              "      <td>-5.663649</td>\n",
              "      <td>-22.963628</td>\n",
              "      <td>-27.758539</td>\n",
              "      <td>-23.589569</td>\n",
              "    </tr>\n",
              "    <tr>\n",
              "      <th>975</th>\n",
              "      <td>2002-09-02</td>\n",
              "      <td>-5.292332</td>\n",
              "      <td>-23.556915</td>\n",
              "      <td>-28.301622</td>\n",
              "      <td>-22.163613</td>\n",
              "    </tr>\n",
              "    <tr>\n",
              "      <th>976</th>\n",
              "      <td>2002-09-03</td>\n",
              "      <td>-3.612934</td>\n",
              "      <td>-22.336902</td>\n",
              "      <td>-27.114755</td>\n",
              "      <td>-23.072718</td>\n",
              "    </tr>\n",
              "    <tr>\n",
              "      <th>977</th>\n",
              "      <td>2002-09-04</td>\n",
              "      <td>-2.004994</td>\n",
              "      <td>-21.699757</td>\n",
              "      <td>-28.022481</td>\n",
              "      <td>-22.063717</td>\n",
              "    </tr>\n",
              "    <tr>\n",
              "      <th>978</th>\n",
              "      <td>2002-09-05</td>\n",
              "      <td>-3.486140</td>\n",
              "      <td>-20.241942</td>\n",
              "      <td>-28.106275</td>\n",
              "      <td>-22.023699</td>\n",
              "    </tr>\n",
              "    <tr>\n",
              "      <th>979</th>\n",
              "      <td>2002-09-06</td>\n",
              "      <td>-2.948154</td>\n",
              "      <td>-20.530027</td>\n",
              "      <td>-28.772999</td>\n",
              "      <td>-22.433141</td>\n",
              "    </tr>\n",
              "    <tr>\n",
              "      <th>980</th>\n",
              "      <td>2002-09-07</td>\n",
              "      <td>-5.152315</td>\n",
              "      <td>-21.374976</td>\n",
              "      <td>-27.403556</td>\n",
              "      <td>-23.157017</td>\n",
              "    </tr>\n",
              "    <tr>\n",
              "      <th>981</th>\n",
              "      <td>2002-09-08</td>\n",
              "      <td>-5.147801</td>\n",
              "      <td>-20.548175</td>\n",
              "      <td>-29.534911</td>\n",
              "      <td>-24.613610</td>\n",
              "    </tr>\n",
              "    <tr>\n",
              "      <th>982</th>\n",
              "      <td>2002-09-09</td>\n",
              "      <td>-4.502910</td>\n",
              "      <td>-20.825335</td>\n",
              "      <td>-30.456955</td>\n",
              "      <td>-26.170400</td>\n",
              "    </tr>\n",
              "    <tr>\n",
              "      <th>983</th>\n",
              "      <td>2002-09-10</td>\n",
              "      <td>-4.055736</td>\n",
              "      <td>-20.860546</td>\n",
              "      <td>-30.771489</td>\n",
              "      <td>-26.248800</td>\n",
              "    </tr>\n",
              "    <tr>\n",
              "      <th>984</th>\n",
              "      <td>2002-09-11</td>\n",
              "      <td>-3.541193</td>\n",
              "      <td>-20.374508</td>\n",
              "      <td>-29.947598</td>\n",
              "      <td>-27.705778</td>\n",
              "    </tr>\n",
              "    <tr>\n",
              "      <th>985</th>\n",
              "      <td>2002-09-12</td>\n",
              "      <td>-2.381324</td>\n",
              "      <td>-20.117239</td>\n",
              "      <td>-30.709171</td>\n",
              "      <td>-29.244136</td>\n",
              "    </tr>\n",
              "    <tr>\n",
              "      <th>986</th>\n",
              "      <td>2002-09-13</td>\n",
              "      <td>-1.938442</td>\n",
              "      <td>-20.314696</td>\n",
              "      <td>-31.080254</td>\n",
              "      <td>-27.618574</td>\n",
              "    </tr>\n",
              "    <tr>\n",
              "      <th>987</th>\n",
              "      <td>2002-09-14</td>\n",
              "      <td>-2.802669</td>\n",
              "      <td>-20.325638</td>\n",
              "      <td>-29.945957</td>\n",
              "      <td>-28.456105</td>\n",
              "    </tr>\n",
              "    <tr>\n",
              "      <th>988</th>\n",
              "      <td>2002-09-15</td>\n",
              "      <td>-3.254465</td>\n",
              "      <td>-20.479762</td>\n",
              "      <td>-30.494301</td>\n",
              "      <td>-27.236968</td>\n",
              "    </tr>\n",
              "    <tr>\n",
              "      <th>989</th>\n",
              "      <td>2002-09-16</td>\n",
              "      <td>-4.003399</td>\n",
              "      <td>-20.993692</td>\n",
              "      <td>-30.913225</td>\n",
              "      <td>-28.414765</td>\n",
              "    </tr>\n",
              "    <tr>\n",
              "      <th>990</th>\n",
              "      <td>2002-09-17</td>\n",
              "      <td>-2.932438</td>\n",
              "      <td>-21.160098</td>\n",
              "      <td>-30.772429</td>\n",
              "      <td>-28.795505</td>\n",
              "    </tr>\n",
              "    <tr>\n",
              "      <th>991</th>\n",
              "      <td>2002-09-18</td>\n",
              "      <td>-0.115537</td>\n",
              "      <td>-20.376504</td>\n",
              "      <td>-29.998241</td>\n",
              "      <td>-27.913785</td>\n",
              "    </tr>\n",
              "    <tr>\n",
              "      <th>992</th>\n",
              "      <td>2002-09-19</td>\n",
              "      <td>-0.616637</td>\n",
              "      <td>-21.349927</td>\n",
              "      <td>-30.673046</td>\n",
              "      <td>-28.567137</td>\n",
              "    </tr>\n",
              "    <tr>\n",
              "      <th>993</th>\n",
              "      <td>2002-09-20</td>\n",
              "      <td>0.162513</td>\n",
              "      <td>-21.273755</td>\n",
              "      <td>-29.990274</td>\n",
              "      <td>-30.597840</td>\n",
              "    </tr>\n",
              "    <tr>\n",
              "      <th>994</th>\n",
              "      <td>2002-09-21</td>\n",
              "      <td>0.825661</td>\n",
              "      <td>-21.142892</td>\n",
              "      <td>-28.226350</td>\n",
              "      <td>-32.383629</td>\n",
              "    </tr>\n",
              "    <tr>\n",
              "      <th>995</th>\n",
              "      <td>2002-09-22</td>\n",
              "      <td>1.990832</td>\n",
              "      <td>-21.797458</td>\n",
              "      <td>-30.384845</td>\n",
              "      <td>-31.293541</td>\n",
              "    </tr>\n",
              "    <tr>\n",
              "      <th>996</th>\n",
              "      <td>2002-09-23</td>\n",
              "      <td>2.935926</td>\n",
              "      <td>-20.709951</td>\n",
              "      <td>-29.961604</td>\n",
              "      <td>-30.726829</td>\n",
              "    </tr>\n",
              "    <tr>\n",
              "      <th>997</th>\n",
              "      <td>2002-09-24</td>\n",
              "      <td>3.447949</td>\n",
              "      <td>-19.751597</td>\n",
              "      <td>-28.357718</td>\n",
              "      <td>-31.180625</td>\n",
              "    </tr>\n",
              "    <tr>\n",
              "      <th>998</th>\n",
              "      <td>2002-09-25</td>\n",
              "      <td>4.454119</td>\n",
              "      <td>-20.884311</td>\n",
              "      <td>-26.421078</td>\n",
              "      <td>-32.768527</td>\n",
              "    </tr>\n",
              "    <tr>\n",
              "      <th>999</th>\n",
              "      <td>2002-09-26</td>\n",
              "      <td>2.200247</td>\n",
              "      <td>-21.263247</td>\n",
              "      <td>-25.612438</td>\n",
              "      <td>-35.104136</td>\n",
              "    </tr>\n",
              "  </tbody>\n",
              "</table>\n",
              "<p>1000 rows × 5 columns</p>\n",
              "</div>"
            ],
            "text/plain": [
              "     Unnamed: 0         A          B          C          D\n",
              "0    2000-01-01 -0.026335  -0.717745   0.117218  -0.549751\n",
              "1    2000-01-02 -1.049763  -1.785373  -0.822755  -0.781237\n",
              "2    2000-01-03 -1.268265  -0.791013  -0.141242   0.587446\n",
              "3    2000-01-04 -2.667261  -1.408698   0.240404  -0.705050\n",
              "4    2000-01-05 -4.471245  -2.303159  -0.314543  -0.252046\n",
              "5    2000-01-06 -3.832738  -2.485943   0.554620  -1.617591\n",
              "6    2000-01-07 -3.764604  -2.644763   1.224718  -1.640596\n",
              "7    2000-01-08 -3.706452  -3.435865  -0.816544  -0.449831\n",
              "8    2000-01-09 -3.936663  -3.419143  -3.106705  -0.312725\n",
              "9    2000-01-10 -5.014653  -3.227070  -3.314237  -0.252284\n",
              "10   2000-01-11 -4.206563  -3.708036  -2.286878  -1.057564\n",
              "11   2000-01-12 -2.854169  -2.604047  -2.011293  -0.496066\n",
              "12   2000-01-13 -2.425489  -1.964353  -4.310662  -0.254048\n",
              "13   2000-01-14 -2.861078  -2.412133  -5.397059  -0.806801\n",
              "14   2000-01-15 -3.719051  -2.304485  -6.486873  -0.764641\n",
              "15   2000-01-16 -3.954312  -2.581573  -8.355360  -0.367414\n",
              "16   2000-01-17 -4.536187  -1.894429  -7.774752   0.640860\n",
              "17   2000-01-18 -6.213764  -2.279379  -7.626798   1.334903\n",
              "18   2000-01-19 -5.164765  -2.382773  -6.484147   1.233413\n",
              "19   2000-01-20 -5.951784  -3.206533  -7.456596   0.322954\n",
              "20   2000-01-21 -6.094290  -1.806253  -9.041151   0.338585\n",
              "21   2000-01-22 -4.219268  -2.402346  -8.804568   0.513316\n",
              "22   2000-01-23 -2.293937  -0.970808  -9.969945  -1.423756\n",
              "23   2000-01-24 -2.352168  -1.972728 -10.398412  -1.538460\n",
              "24   2000-01-25 -3.424824  -3.400619 -10.598927  -0.946809\n",
              "25   2000-01-26 -4.202295  -3.554636 -11.156441   0.381046\n",
              "26   2000-01-27 -3.952622  -2.975130 -11.532670  -0.797718\n",
              "27   2000-01-28 -1.792251  -2.364668 -12.882036  -0.858014\n",
              "28   2000-01-29 -3.438095  -1.666424 -12.658937  -2.489144\n",
              "29   2000-01-30 -4.057369  -1.405462 -12.806334  -1.991122\n",
              "..          ...       ...        ...        ...        ...\n",
              "970  2002-08-28 -3.497089 -21.799331 -27.512780 -23.948642\n",
              "971  2002-08-29 -3.780051 -23.708894 -28.615803 -23.760478\n",
              "972  2002-08-30 -4.002507 -21.969386 -29.438393 -23.252988\n",
              "973  2002-08-31 -4.661825 -22.424417 -29.850030 -23.513799\n",
              "974  2002-09-01 -5.663649 -22.963628 -27.758539 -23.589569\n",
              "975  2002-09-02 -5.292332 -23.556915 -28.301622 -22.163613\n",
              "976  2002-09-03 -3.612934 -22.336902 -27.114755 -23.072718\n",
              "977  2002-09-04 -2.004994 -21.699757 -28.022481 -22.063717\n",
              "978  2002-09-05 -3.486140 -20.241942 -28.106275 -22.023699\n",
              "979  2002-09-06 -2.948154 -20.530027 -28.772999 -22.433141\n",
              "980  2002-09-07 -5.152315 -21.374976 -27.403556 -23.157017\n",
              "981  2002-09-08 -5.147801 -20.548175 -29.534911 -24.613610\n",
              "982  2002-09-09 -4.502910 -20.825335 -30.456955 -26.170400\n",
              "983  2002-09-10 -4.055736 -20.860546 -30.771489 -26.248800\n",
              "984  2002-09-11 -3.541193 -20.374508 -29.947598 -27.705778\n",
              "985  2002-09-12 -2.381324 -20.117239 -30.709171 -29.244136\n",
              "986  2002-09-13 -1.938442 -20.314696 -31.080254 -27.618574\n",
              "987  2002-09-14 -2.802669 -20.325638 -29.945957 -28.456105\n",
              "988  2002-09-15 -3.254465 -20.479762 -30.494301 -27.236968\n",
              "989  2002-09-16 -4.003399 -20.993692 -30.913225 -28.414765\n",
              "990  2002-09-17 -2.932438 -21.160098 -30.772429 -28.795505\n",
              "991  2002-09-18 -0.115537 -20.376504 -29.998241 -27.913785\n",
              "992  2002-09-19 -0.616637 -21.349927 -30.673046 -28.567137\n",
              "993  2002-09-20  0.162513 -21.273755 -29.990274 -30.597840\n",
              "994  2002-09-21  0.825661 -21.142892 -28.226350 -32.383629\n",
              "995  2002-09-22  1.990832 -21.797458 -30.384845 -31.293541\n",
              "996  2002-09-23  2.935926 -20.709951 -29.961604 -30.726829\n",
              "997  2002-09-24  3.447949 -19.751597 -28.357718 -31.180625\n",
              "998  2002-09-25  4.454119 -20.884311 -26.421078 -32.768527\n",
              "999  2002-09-26  2.200247 -21.263247 -25.612438 -35.104136\n",
              "\n",
              "[1000 rows x 5 columns]"
            ]
          },
          "metadata": {
            "tags": []
          },
          "execution_count": 22
        }
      ]
    },
    {
      "metadata": {
        "id": "P9knaZtu24Nj",
        "colab_type": "text"
      },
      "cell_type": "markdown",
      "source": [
        "##HDF5\n",
        "[HDFStores](https://pandas.pydata.org/pandas-docs/stable/io.html#io-hdf5)에 읽고 씁니다.\n",
        "\n",
        "HDF5 Store에 씁니다.\n"
      ]
    },
    {
      "metadata": {
        "id": "R0VSHXW30H9a",
        "colab_type": "code",
        "colab": {
          "base_uri": "https://localhost:8080/",
          "height": 924
        },
        "outputId": "ca15e7cf-1b96-47d9-b892-c8f7b523c72d"
      },
      "cell_type": "code",
      "source": [
        "df.to_hdf('foo.h5','df')"
      ],
      "execution_count": 26,
      "outputs": [
        {
          "output_type": "error",
          "ename": "ImportError",
          "evalue": "ignored",
          "traceback": [
            "\u001b[0;31m---------------------------------------------------------------------------\u001b[0m",
            "\u001b[0;31mModuleNotFoundError\u001b[0m                       Traceback (most recent call last)",
            "\u001b[0;32m/usr/local/lib/python3.6/dist-packages/pandas/io/pytables.py\u001b[0m in \u001b[0;36m__init__\u001b[0;34m(self, path, mode, complevel, complib, fletcher32, **kwargs)\u001b[0m\n\u001b[1;32m    444\u001b[0m         \u001b[0;32mtry\u001b[0m\u001b[0;34m:\u001b[0m\u001b[0;34m\u001b[0m\u001b[0m\n\u001b[0;32m--> 445\u001b[0;31m             \u001b[0;32mimport\u001b[0m \u001b[0mtables\u001b[0m  \u001b[0;31m# noqa\u001b[0m\u001b[0;34m\u001b[0m\u001b[0m\n\u001b[0m\u001b[1;32m    446\u001b[0m         \u001b[0;32mexcept\u001b[0m \u001b[0mImportError\u001b[0m \u001b[0;32mas\u001b[0m \u001b[0mex\u001b[0m\u001b[0;34m:\u001b[0m  \u001b[0;31m# pragma: no cover\u001b[0m\u001b[0;34m\u001b[0m\u001b[0m\n",
            "\u001b[0;31mModuleNotFoundError\u001b[0m: No module named 'tables'",
            "\nDuring handling of the above exception, another exception occurred:\n",
            "\u001b[0;31mImportError\u001b[0m                               Traceback (most recent call last)",
            "\u001b[0;32m<ipython-input-26-2030282e689d>\u001b[0m in \u001b[0;36m<module>\u001b[0;34m()\u001b[0m\n\u001b[0;32m----> 1\u001b[0;31m \u001b[0mdf\u001b[0m\u001b[0;34m.\u001b[0m\u001b[0mto_hdf\u001b[0m\u001b[0;34m(\u001b[0m\u001b[0;34m'foo.h5'\u001b[0m\u001b[0;34m,\u001b[0m\u001b[0;34m'df'\u001b[0m\u001b[0;34m)\u001b[0m\u001b[0;34m\u001b[0m\u001b[0m\n\u001b[0m",
            "\u001b[0;32m/usr/local/lib/python3.6/dist-packages/pandas/core/generic.py\u001b[0m in \u001b[0;36mto_hdf\u001b[0;34m(self, path_or_buf, key, **kwargs)\u001b[0m\n\u001b[1;32m   1469\u001b[0m \u001b[0;34m\u001b[0m\u001b[0m\n\u001b[1;32m   1470\u001b[0m         \u001b[0;32mfrom\u001b[0m \u001b[0mpandas\u001b[0m\u001b[0;34m.\u001b[0m\u001b[0mio\u001b[0m \u001b[0;32mimport\u001b[0m \u001b[0mpytables\u001b[0m\u001b[0;34m\u001b[0m\u001b[0m\n\u001b[0;32m-> 1471\u001b[0;31m         \u001b[0;32mreturn\u001b[0m \u001b[0mpytables\u001b[0m\u001b[0;34m.\u001b[0m\u001b[0mto_hdf\u001b[0m\u001b[0;34m(\u001b[0m\u001b[0mpath_or_buf\u001b[0m\u001b[0;34m,\u001b[0m \u001b[0mkey\u001b[0m\u001b[0;34m,\u001b[0m \u001b[0mself\u001b[0m\u001b[0;34m,\u001b[0m \u001b[0;34m**\u001b[0m\u001b[0mkwargs\u001b[0m\u001b[0;34m)\u001b[0m\u001b[0;34m\u001b[0m\u001b[0m\n\u001b[0m\u001b[1;32m   1472\u001b[0m \u001b[0;34m\u001b[0m\u001b[0m\n\u001b[1;32m   1473\u001b[0m     \u001b[0;32mdef\u001b[0m \u001b[0mto_msgpack\u001b[0m\u001b[0;34m(\u001b[0m\u001b[0mself\u001b[0m\u001b[0;34m,\u001b[0m \u001b[0mpath_or_buf\u001b[0m\u001b[0;34m=\u001b[0m\u001b[0;32mNone\u001b[0m\u001b[0;34m,\u001b[0m \u001b[0mencoding\u001b[0m\u001b[0;34m=\u001b[0m\u001b[0;34m'utf-8'\u001b[0m\u001b[0;34m,\u001b[0m \u001b[0;34m**\u001b[0m\u001b[0mkwargs\u001b[0m\u001b[0;34m)\u001b[0m\u001b[0;34m:\u001b[0m\u001b[0;34m\u001b[0m\u001b[0m\n",
            "\u001b[0;32m/usr/local/lib/python3.6/dist-packages/pandas/io/pytables.py\u001b[0m in \u001b[0;36mto_hdf\u001b[0;34m(path_or_buf, key, value, mode, complevel, complib, append, **kwargs)\u001b[0m\n\u001b[1;32m    278\u001b[0m     \u001b[0;32mif\u001b[0m \u001b[0misinstance\u001b[0m\u001b[0;34m(\u001b[0m\u001b[0mpath_or_buf\u001b[0m\u001b[0;34m,\u001b[0m \u001b[0mstring_types\u001b[0m\u001b[0;34m)\u001b[0m\u001b[0;34m:\u001b[0m\u001b[0;34m\u001b[0m\u001b[0m\n\u001b[1;32m    279\u001b[0m         with HDFStore(path_or_buf, mode=mode, complevel=complevel,\n\u001b[0;32m--> 280\u001b[0;31m                       complib=complib) as store:\n\u001b[0m\u001b[1;32m    281\u001b[0m             \u001b[0mf\u001b[0m\u001b[0;34m(\u001b[0m\u001b[0mstore\u001b[0m\u001b[0;34m)\u001b[0m\u001b[0;34m\u001b[0m\u001b[0m\n\u001b[1;32m    282\u001b[0m     \u001b[0;32melse\u001b[0m\u001b[0;34m:\u001b[0m\u001b[0;34m\u001b[0m\u001b[0m\n",
            "\u001b[0;32m/usr/local/lib/python3.6/dist-packages/pandas/io/pytables.py\u001b[0m in \u001b[0;36m__init__\u001b[0;34m(self, path, mode, complevel, complib, fletcher32, **kwargs)\u001b[0m\n\u001b[1;32m    446\u001b[0m         \u001b[0;32mexcept\u001b[0m \u001b[0mImportError\u001b[0m \u001b[0;32mas\u001b[0m \u001b[0mex\u001b[0m\u001b[0;34m:\u001b[0m  \u001b[0;31m# pragma: no cover\u001b[0m\u001b[0;34m\u001b[0m\u001b[0m\n\u001b[1;32m    447\u001b[0m             raise ImportError('HDFStore requires PyTables, \"{ex}\" problem '\n\u001b[0;32m--> 448\u001b[0;31m                               'importing'.format(ex=str(ex)))\n\u001b[0m\u001b[1;32m    449\u001b[0m \u001b[0;34m\u001b[0m\u001b[0m\n\u001b[1;32m    450\u001b[0m         \u001b[0;32mif\u001b[0m \u001b[0mcomplib\u001b[0m \u001b[0;32mis\u001b[0m \u001b[0;32mnot\u001b[0m \u001b[0;32mNone\u001b[0m \u001b[0;32mand\u001b[0m \u001b[0mcomplib\u001b[0m \u001b[0;32mnot\u001b[0m \u001b[0;32min\u001b[0m \u001b[0mtables\u001b[0m\u001b[0;34m.\u001b[0m\u001b[0mfilters\u001b[0m\u001b[0;34m.\u001b[0m\u001b[0mall_complibs\u001b[0m\u001b[0;34m:\u001b[0m\u001b[0;34m\u001b[0m\u001b[0m\n",
            "\u001b[0;31mImportError\u001b[0m: HDFStore requires PyTables, \"No module named 'tables'\" problem importing",
            "",
            "\u001b[0;31m---------------------------------------------------------------------------\u001b[0;32m\nNOTE: If your import is failing due to a missing package, you can\nmanually install dependencies using either !pip or !apt.\n\nTo view examples of installing some common dependencies, click the\n\"Open Examples\" button below.\n\u001b[0;31m---------------------------------------------------------------------------\u001b[0m\n"
          ]
        }
      ]
    },
    {
      "metadata": {
        "id": "tw3vxS450MpB",
        "colab_type": "text"
      },
      "cell_type": "markdown",
      "source": [
        "HDF5 Store에서 읽어옵니다."
      ]
    },
    {
      "metadata": {
        "id": "QXqtNXK8zx0f",
        "colab_type": "code",
        "colab": {
          "base_uri": "https://localhost:8080/",
          "height": 278
        },
        "outputId": "b2651a35-a12b-44b8-93cd-ecd14ae968cf"
      },
      "cell_type": "code",
      "source": [
        "pd.read_hdf('foo.h5','df')"
      ],
      "execution_count": 10,
      "outputs": [
        {
          "output_type": "error",
          "ename": "FileNotFoundError",
          "evalue": "ignored",
          "traceback": [
            "\u001b[0;31m---------------------------------------------------------------------------\u001b[0m",
            "\u001b[0;31mFileNotFoundError\u001b[0m                         Traceback (most recent call last)",
            "\u001b[0;32m<ipython-input-10-4242b2e6e2a5>\u001b[0m in \u001b[0;36m<module>\u001b[0;34m()\u001b[0m\n\u001b[0;32m----> 1\u001b[0;31m \u001b[0mpd\u001b[0m\u001b[0;34m.\u001b[0m\u001b[0mread_hdf\u001b[0m\u001b[0;34m(\u001b[0m\u001b[0;34m'foo.h5'\u001b[0m\u001b[0;34m,\u001b[0m\u001b[0;34m'df'\u001b[0m\u001b[0;34m)\u001b[0m\u001b[0;34m\u001b[0m\u001b[0m\n\u001b[0m",
            "\u001b[0;32m/usr/local/lib/python3.6/dist-packages/pandas/io/pytables.py\u001b[0m in \u001b[0;36mread_hdf\u001b[0;34m(path_or_buf, key, mode, **kwargs)\u001b[0m\n\u001b[1;32m    345\u001b[0m         \u001b[0;32mif\u001b[0m \u001b[0;32mnot\u001b[0m \u001b[0mexists\u001b[0m\u001b[0;34m:\u001b[0m\u001b[0;34m\u001b[0m\u001b[0m\n\u001b[1;32m    346\u001b[0m             raise compat.FileNotFoundError(\n\u001b[0;32m--> 347\u001b[0;31m                 'File %s does not exist' % path_or_buf)\n\u001b[0m\u001b[1;32m    348\u001b[0m \u001b[0;34m\u001b[0m\u001b[0m\n\u001b[1;32m    349\u001b[0m         \u001b[0mstore\u001b[0m \u001b[0;34m=\u001b[0m \u001b[0mHDFStore\u001b[0m\u001b[0;34m(\u001b[0m\u001b[0mpath_or_buf\u001b[0m\u001b[0;34m,\u001b[0m \u001b[0mmode\u001b[0m\u001b[0;34m=\u001b[0m\u001b[0mmode\u001b[0m\u001b[0;34m,\u001b[0m \u001b[0;34m**\u001b[0m\u001b[0mkwargs\u001b[0m\u001b[0;34m)\u001b[0m\u001b[0;34m\u001b[0m\u001b[0m\n",
            "\u001b[0;31mFileNotFoundError\u001b[0m: File foo.h5 does not exist"
          ]
        }
      ]
    },
    {
      "metadata": {
        "id": "PPEdwZcg3AHk",
        "colab_type": "text"
      },
      "cell_type": "markdown",
      "source": [
        "## Excel\n",
        "[MS Excel](https://pandas.pydata.org/pandas-docs/stable/io.html#io-excel)에 읽고 씁니다. \n",
        "\n",
        "엑셀 파일에 씁니다. \n"
      ]
    },
    {
      "metadata": {
        "id": "TcFx1mGk3tdT",
        "colab_type": "code",
        "colab": {}
      },
      "cell_type": "code",
      "source": [
        "df.to_excel('foo.xlsx', sheet_name='Sheet1')"
      ],
      "execution_count": 0,
      "outputs": []
    },
    {
      "metadata": {
        "id": "Eqr2I0bk3yDg",
        "colab_type": "text"
      },
      "cell_type": "markdown",
      "source": [
        "엑셀 파일을 읽어옵니다."
      ]
    },
    {
      "metadata": {
        "id": "znXQzTWX31-1",
        "colab_type": "code",
        "colab": {
          "base_uri": "https://localhost:8080/",
          "height": 1949
        },
        "outputId": "cc3eee2d-545a-4725-b41e-69fdd4832bf3"
      },
      "cell_type": "code",
      "source": [
        "pd.read_excel('foo.xlsx', 'Sheet1', index_col=None, na_values=['NA'])"
      ],
      "execution_count": 32,
      "outputs": [
        {
          "output_type": "execute_result",
          "data": {
            "text/html": [
              "<div>\n",
              "<style scoped>\n",
              "    .dataframe tbody tr th:only-of-type {\n",
              "        vertical-align: middle;\n",
              "    }\n",
              "\n",
              "    .dataframe tbody tr th {\n",
              "        vertical-align: top;\n",
              "    }\n",
              "\n",
              "    .dataframe thead th {\n",
              "        text-align: right;\n",
              "    }\n",
              "</style>\n",
              "<table border=\"1\" class=\"dataframe\">\n",
              "  <thead>\n",
              "    <tr style=\"text-align: right;\">\n",
              "      <th></th>\n",
              "      <th>A</th>\n",
              "      <th>B</th>\n",
              "      <th>C</th>\n",
              "      <th>D</th>\n",
              "    </tr>\n",
              "  </thead>\n",
              "  <tbody>\n",
              "    <tr>\n",
              "      <th>2000-01-01</th>\n",
              "      <td>-0.026335</td>\n",
              "      <td>-0.717745</td>\n",
              "      <td>0.117218</td>\n",
              "      <td>-0.549751</td>\n",
              "    </tr>\n",
              "    <tr>\n",
              "      <th>2000-01-02</th>\n",
              "      <td>-1.049763</td>\n",
              "      <td>-1.785373</td>\n",
              "      <td>-0.822755</td>\n",
              "      <td>-0.781237</td>\n",
              "    </tr>\n",
              "    <tr>\n",
              "      <th>2000-01-03</th>\n",
              "      <td>-1.268265</td>\n",
              "      <td>-0.791013</td>\n",
              "      <td>-0.141242</td>\n",
              "      <td>0.587446</td>\n",
              "    </tr>\n",
              "    <tr>\n",
              "      <th>2000-01-04</th>\n",
              "      <td>-2.667261</td>\n",
              "      <td>-1.408698</td>\n",
              "      <td>0.240404</td>\n",
              "      <td>-0.705050</td>\n",
              "    </tr>\n",
              "    <tr>\n",
              "      <th>2000-01-05</th>\n",
              "      <td>-4.471245</td>\n",
              "      <td>-2.303159</td>\n",
              "      <td>-0.314543</td>\n",
              "      <td>-0.252046</td>\n",
              "    </tr>\n",
              "    <tr>\n",
              "      <th>2000-01-06</th>\n",
              "      <td>-3.832738</td>\n",
              "      <td>-2.485943</td>\n",
              "      <td>0.554620</td>\n",
              "      <td>-1.617591</td>\n",
              "    </tr>\n",
              "    <tr>\n",
              "      <th>2000-01-07</th>\n",
              "      <td>-3.764604</td>\n",
              "      <td>-2.644763</td>\n",
              "      <td>1.224718</td>\n",
              "      <td>-1.640596</td>\n",
              "    </tr>\n",
              "    <tr>\n",
              "      <th>2000-01-08</th>\n",
              "      <td>-3.706452</td>\n",
              "      <td>-3.435865</td>\n",
              "      <td>-0.816544</td>\n",
              "      <td>-0.449831</td>\n",
              "    </tr>\n",
              "    <tr>\n",
              "      <th>2000-01-09</th>\n",
              "      <td>-3.936663</td>\n",
              "      <td>-3.419143</td>\n",
              "      <td>-3.106705</td>\n",
              "      <td>-0.312725</td>\n",
              "    </tr>\n",
              "    <tr>\n",
              "      <th>2000-01-10</th>\n",
              "      <td>-5.014653</td>\n",
              "      <td>-3.227070</td>\n",
              "      <td>-3.314237</td>\n",
              "      <td>-0.252284</td>\n",
              "    </tr>\n",
              "    <tr>\n",
              "      <th>2000-01-11</th>\n",
              "      <td>-4.206563</td>\n",
              "      <td>-3.708036</td>\n",
              "      <td>-2.286878</td>\n",
              "      <td>-1.057564</td>\n",
              "    </tr>\n",
              "    <tr>\n",
              "      <th>2000-01-12</th>\n",
              "      <td>-2.854169</td>\n",
              "      <td>-2.604047</td>\n",
              "      <td>-2.011293</td>\n",
              "      <td>-0.496066</td>\n",
              "    </tr>\n",
              "    <tr>\n",
              "      <th>2000-01-13</th>\n",
              "      <td>-2.425489</td>\n",
              "      <td>-1.964353</td>\n",
              "      <td>-4.310662</td>\n",
              "      <td>-0.254048</td>\n",
              "    </tr>\n",
              "    <tr>\n",
              "      <th>2000-01-14</th>\n",
              "      <td>-2.861078</td>\n",
              "      <td>-2.412133</td>\n",
              "      <td>-5.397059</td>\n",
              "      <td>-0.806801</td>\n",
              "    </tr>\n",
              "    <tr>\n",
              "      <th>2000-01-15</th>\n",
              "      <td>-3.719051</td>\n",
              "      <td>-2.304485</td>\n",
              "      <td>-6.486873</td>\n",
              "      <td>-0.764641</td>\n",
              "    </tr>\n",
              "    <tr>\n",
              "      <th>2000-01-16</th>\n",
              "      <td>-3.954312</td>\n",
              "      <td>-2.581573</td>\n",
              "      <td>-8.355360</td>\n",
              "      <td>-0.367414</td>\n",
              "    </tr>\n",
              "    <tr>\n",
              "      <th>2000-01-17</th>\n",
              "      <td>-4.536187</td>\n",
              "      <td>-1.894429</td>\n",
              "      <td>-7.774752</td>\n",
              "      <td>0.640860</td>\n",
              "    </tr>\n",
              "    <tr>\n",
              "      <th>2000-01-18</th>\n",
              "      <td>-6.213764</td>\n",
              "      <td>-2.279379</td>\n",
              "      <td>-7.626798</td>\n",
              "      <td>1.334903</td>\n",
              "    </tr>\n",
              "    <tr>\n",
              "      <th>2000-01-19</th>\n",
              "      <td>-5.164765</td>\n",
              "      <td>-2.382773</td>\n",
              "      <td>-6.484147</td>\n",
              "      <td>1.233413</td>\n",
              "    </tr>\n",
              "    <tr>\n",
              "      <th>2000-01-20</th>\n",
              "      <td>-5.951784</td>\n",
              "      <td>-3.206533</td>\n",
              "      <td>-7.456596</td>\n",
              "      <td>0.322954</td>\n",
              "    </tr>\n",
              "    <tr>\n",
              "      <th>2000-01-21</th>\n",
              "      <td>-6.094290</td>\n",
              "      <td>-1.806253</td>\n",
              "      <td>-9.041151</td>\n",
              "      <td>0.338585</td>\n",
              "    </tr>\n",
              "    <tr>\n",
              "      <th>2000-01-22</th>\n",
              "      <td>-4.219268</td>\n",
              "      <td>-2.402346</td>\n",
              "      <td>-8.804568</td>\n",
              "      <td>0.513316</td>\n",
              "    </tr>\n",
              "    <tr>\n",
              "      <th>2000-01-23</th>\n",
              "      <td>-2.293937</td>\n",
              "      <td>-0.970808</td>\n",
              "      <td>-9.969945</td>\n",
              "      <td>-1.423756</td>\n",
              "    </tr>\n",
              "    <tr>\n",
              "      <th>2000-01-24</th>\n",
              "      <td>-2.352168</td>\n",
              "      <td>-1.972728</td>\n",
              "      <td>-10.398412</td>\n",
              "      <td>-1.538460</td>\n",
              "    </tr>\n",
              "    <tr>\n",
              "      <th>2000-01-25</th>\n",
              "      <td>-3.424824</td>\n",
              "      <td>-3.400619</td>\n",
              "      <td>-10.598927</td>\n",
              "      <td>-0.946809</td>\n",
              "    </tr>\n",
              "    <tr>\n",
              "      <th>2000-01-26</th>\n",
              "      <td>-4.202295</td>\n",
              "      <td>-3.554636</td>\n",
              "      <td>-11.156441</td>\n",
              "      <td>0.381046</td>\n",
              "    </tr>\n",
              "    <tr>\n",
              "      <th>2000-01-27</th>\n",
              "      <td>-3.952622</td>\n",
              "      <td>-2.975130</td>\n",
              "      <td>-11.532670</td>\n",
              "      <td>-0.797718</td>\n",
              "    </tr>\n",
              "    <tr>\n",
              "      <th>2000-01-28</th>\n",
              "      <td>-1.792251</td>\n",
              "      <td>-2.364668</td>\n",
              "      <td>-12.882036</td>\n",
              "      <td>-0.858014</td>\n",
              "    </tr>\n",
              "    <tr>\n",
              "      <th>2000-01-29</th>\n",
              "      <td>-3.438095</td>\n",
              "      <td>-1.666424</td>\n",
              "      <td>-12.658937</td>\n",
              "      <td>-2.489144</td>\n",
              "    </tr>\n",
              "    <tr>\n",
              "      <th>2000-01-30</th>\n",
              "      <td>-4.057369</td>\n",
              "      <td>-1.405462</td>\n",
              "      <td>-12.806334</td>\n",
              "      <td>-1.991122</td>\n",
              "    </tr>\n",
              "    <tr>\n",
              "      <th>...</th>\n",
              "      <td>...</td>\n",
              "      <td>...</td>\n",
              "      <td>...</td>\n",
              "      <td>...</td>\n",
              "    </tr>\n",
              "    <tr>\n",
              "      <th>2002-08-28</th>\n",
              "      <td>-3.497089</td>\n",
              "      <td>-21.799331</td>\n",
              "      <td>-27.512780</td>\n",
              "      <td>-23.948642</td>\n",
              "    </tr>\n",
              "    <tr>\n",
              "      <th>2002-08-29</th>\n",
              "      <td>-3.780051</td>\n",
              "      <td>-23.708894</td>\n",
              "      <td>-28.615803</td>\n",
              "      <td>-23.760478</td>\n",
              "    </tr>\n",
              "    <tr>\n",
              "      <th>2002-08-30</th>\n",
              "      <td>-4.002507</td>\n",
              "      <td>-21.969386</td>\n",
              "      <td>-29.438393</td>\n",
              "      <td>-23.252988</td>\n",
              "    </tr>\n",
              "    <tr>\n",
              "      <th>2002-08-31</th>\n",
              "      <td>-4.661825</td>\n",
              "      <td>-22.424417</td>\n",
              "      <td>-29.850030</td>\n",
              "      <td>-23.513799</td>\n",
              "    </tr>\n",
              "    <tr>\n",
              "      <th>2002-09-01</th>\n",
              "      <td>-5.663649</td>\n",
              "      <td>-22.963628</td>\n",
              "      <td>-27.758539</td>\n",
              "      <td>-23.589569</td>\n",
              "    </tr>\n",
              "    <tr>\n",
              "      <th>2002-09-02</th>\n",
              "      <td>-5.292332</td>\n",
              "      <td>-23.556915</td>\n",
              "      <td>-28.301622</td>\n",
              "      <td>-22.163613</td>\n",
              "    </tr>\n",
              "    <tr>\n",
              "      <th>2002-09-03</th>\n",
              "      <td>-3.612934</td>\n",
              "      <td>-22.336902</td>\n",
              "      <td>-27.114755</td>\n",
              "      <td>-23.072718</td>\n",
              "    </tr>\n",
              "    <tr>\n",
              "      <th>2002-09-04</th>\n",
              "      <td>-2.004994</td>\n",
              "      <td>-21.699757</td>\n",
              "      <td>-28.022481</td>\n",
              "      <td>-22.063717</td>\n",
              "    </tr>\n",
              "    <tr>\n",
              "      <th>2002-09-05</th>\n",
              "      <td>-3.486140</td>\n",
              "      <td>-20.241942</td>\n",
              "      <td>-28.106275</td>\n",
              "      <td>-22.023699</td>\n",
              "    </tr>\n",
              "    <tr>\n",
              "      <th>2002-09-06</th>\n",
              "      <td>-2.948154</td>\n",
              "      <td>-20.530027</td>\n",
              "      <td>-28.772999</td>\n",
              "      <td>-22.433141</td>\n",
              "    </tr>\n",
              "    <tr>\n",
              "      <th>2002-09-07</th>\n",
              "      <td>-5.152315</td>\n",
              "      <td>-21.374976</td>\n",
              "      <td>-27.403556</td>\n",
              "      <td>-23.157017</td>\n",
              "    </tr>\n",
              "    <tr>\n",
              "      <th>2002-09-08</th>\n",
              "      <td>-5.147801</td>\n",
              "      <td>-20.548175</td>\n",
              "      <td>-29.534911</td>\n",
              "      <td>-24.613610</td>\n",
              "    </tr>\n",
              "    <tr>\n",
              "      <th>2002-09-09</th>\n",
              "      <td>-4.502910</td>\n",
              "      <td>-20.825335</td>\n",
              "      <td>-30.456955</td>\n",
              "      <td>-26.170400</td>\n",
              "    </tr>\n",
              "    <tr>\n",
              "      <th>2002-09-10</th>\n",
              "      <td>-4.055736</td>\n",
              "      <td>-20.860546</td>\n",
              "      <td>-30.771489</td>\n",
              "      <td>-26.248800</td>\n",
              "    </tr>\n",
              "    <tr>\n",
              "      <th>2002-09-11</th>\n",
              "      <td>-3.541193</td>\n",
              "      <td>-20.374508</td>\n",
              "      <td>-29.947598</td>\n",
              "      <td>-27.705778</td>\n",
              "    </tr>\n",
              "    <tr>\n",
              "      <th>2002-09-12</th>\n",
              "      <td>-2.381324</td>\n",
              "      <td>-20.117239</td>\n",
              "      <td>-30.709171</td>\n",
              "      <td>-29.244136</td>\n",
              "    </tr>\n",
              "    <tr>\n",
              "      <th>2002-09-13</th>\n",
              "      <td>-1.938442</td>\n",
              "      <td>-20.314696</td>\n",
              "      <td>-31.080254</td>\n",
              "      <td>-27.618574</td>\n",
              "    </tr>\n",
              "    <tr>\n",
              "      <th>2002-09-14</th>\n",
              "      <td>-2.802669</td>\n",
              "      <td>-20.325638</td>\n",
              "      <td>-29.945957</td>\n",
              "      <td>-28.456105</td>\n",
              "    </tr>\n",
              "    <tr>\n",
              "      <th>2002-09-15</th>\n",
              "      <td>-3.254465</td>\n",
              "      <td>-20.479762</td>\n",
              "      <td>-30.494301</td>\n",
              "      <td>-27.236968</td>\n",
              "    </tr>\n",
              "    <tr>\n",
              "      <th>2002-09-16</th>\n",
              "      <td>-4.003399</td>\n",
              "      <td>-20.993692</td>\n",
              "      <td>-30.913225</td>\n",
              "      <td>-28.414765</td>\n",
              "    </tr>\n",
              "    <tr>\n",
              "      <th>2002-09-17</th>\n",
              "      <td>-2.932438</td>\n",
              "      <td>-21.160098</td>\n",
              "      <td>-30.772429</td>\n",
              "      <td>-28.795505</td>\n",
              "    </tr>\n",
              "    <tr>\n",
              "      <th>2002-09-18</th>\n",
              "      <td>-0.115537</td>\n",
              "      <td>-20.376504</td>\n",
              "      <td>-29.998241</td>\n",
              "      <td>-27.913785</td>\n",
              "    </tr>\n",
              "    <tr>\n",
              "      <th>2002-09-19</th>\n",
              "      <td>-0.616637</td>\n",
              "      <td>-21.349927</td>\n",
              "      <td>-30.673046</td>\n",
              "      <td>-28.567137</td>\n",
              "    </tr>\n",
              "    <tr>\n",
              "      <th>2002-09-20</th>\n",
              "      <td>0.162513</td>\n",
              "      <td>-21.273755</td>\n",
              "      <td>-29.990274</td>\n",
              "      <td>-30.597840</td>\n",
              "    </tr>\n",
              "    <tr>\n",
              "      <th>2002-09-21</th>\n",
              "      <td>0.825661</td>\n",
              "      <td>-21.142892</td>\n",
              "      <td>-28.226350</td>\n",
              "      <td>-32.383629</td>\n",
              "    </tr>\n",
              "    <tr>\n",
              "      <th>2002-09-22</th>\n",
              "      <td>1.990832</td>\n",
              "      <td>-21.797458</td>\n",
              "      <td>-30.384845</td>\n",
              "      <td>-31.293541</td>\n",
              "    </tr>\n",
              "    <tr>\n",
              "      <th>2002-09-23</th>\n",
              "      <td>2.935926</td>\n",
              "      <td>-20.709951</td>\n",
              "      <td>-29.961604</td>\n",
              "      <td>-30.726829</td>\n",
              "    </tr>\n",
              "    <tr>\n",
              "      <th>2002-09-24</th>\n",
              "      <td>3.447949</td>\n",
              "      <td>-19.751597</td>\n",
              "      <td>-28.357718</td>\n",
              "      <td>-31.180625</td>\n",
              "    </tr>\n",
              "    <tr>\n",
              "      <th>2002-09-25</th>\n",
              "      <td>4.454119</td>\n",
              "      <td>-20.884311</td>\n",
              "      <td>-26.421078</td>\n",
              "      <td>-32.768527</td>\n",
              "    </tr>\n",
              "    <tr>\n",
              "      <th>2002-09-26</th>\n",
              "      <td>2.200247</td>\n",
              "      <td>-21.263247</td>\n",
              "      <td>-25.612438</td>\n",
              "      <td>-35.104136</td>\n",
              "    </tr>\n",
              "  </tbody>\n",
              "</table>\n",
              "<p>1000 rows × 4 columns</p>\n",
              "</div>"
            ],
            "text/plain": [
              "                   A          B          C          D\n",
              "2000-01-01 -0.026335  -0.717745   0.117218  -0.549751\n",
              "2000-01-02 -1.049763  -1.785373  -0.822755  -0.781237\n",
              "2000-01-03 -1.268265  -0.791013  -0.141242   0.587446\n",
              "2000-01-04 -2.667261  -1.408698   0.240404  -0.705050\n",
              "2000-01-05 -4.471245  -2.303159  -0.314543  -0.252046\n",
              "2000-01-06 -3.832738  -2.485943   0.554620  -1.617591\n",
              "2000-01-07 -3.764604  -2.644763   1.224718  -1.640596\n",
              "2000-01-08 -3.706452  -3.435865  -0.816544  -0.449831\n",
              "2000-01-09 -3.936663  -3.419143  -3.106705  -0.312725\n",
              "2000-01-10 -5.014653  -3.227070  -3.314237  -0.252284\n",
              "2000-01-11 -4.206563  -3.708036  -2.286878  -1.057564\n",
              "2000-01-12 -2.854169  -2.604047  -2.011293  -0.496066\n",
              "2000-01-13 -2.425489  -1.964353  -4.310662  -0.254048\n",
              "2000-01-14 -2.861078  -2.412133  -5.397059  -0.806801\n",
              "2000-01-15 -3.719051  -2.304485  -6.486873  -0.764641\n",
              "2000-01-16 -3.954312  -2.581573  -8.355360  -0.367414\n",
              "2000-01-17 -4.536187  -1.894429  -7.774752   0.640860\n",
              "2000-01-18 -6.213764  -2.279379  -7.626798   1.334903\n",
              "2000-01-19 -5.164765  -2.382773  -6.484147   1.233413\n",
              "2000-01-20 -5.951784  -3.206533  -7.456596   0.322954\n",
              "2000-01-21 -6.094290  -1.806253  -9.041151   0.338585\n",
              "2000-01-22 -4.219268  -2.402346  -8.804568   0.513316\n",
              "2000-01-23 -2.293937  -0.970808  -9.969945  -1.423756\n",
              "2000-01-24 -2.352168  -1.972728 -10.398412  -1.538460\n",
              "2000-01-25 -3.424824  -3.400619 -10.598927  -0.946809\n",
              "2000-01-26 -4.202295  -3.554636 -11.156441   0.381046\n",
              "2000-01-27 -3.952622  -2.975130 -11.532670  -0.797718\n",
              "2000-01-28 -1.792251  -2.364668 -12.882036  -0.858014\n",
              "2000-01-29 -3.438095  -1.666424 -12.658937  -2.489144\n",
              "2000-01-30 -4.057369  -1.405462 -12.806334  -1.991122\n",
              "...              ...        ...        ...        ...\n",
              "2002-08-28 -3.497089 -21.799331 -27.512780 -23.948642\n",
              "2002-08-29 -3.780051 -23.708894 -28.615803 -23.760478\n",
              "2002-08-30 -4.002507 -21.969386 -29.438393 -23.252988\n",
              "2002-08-31 -4.661825 -22.424417 -29.850030 -23.513799\n",
              "2002-09-01 -5.663649 -22.963628 -27.758539 -23.589569\n",
              "2002-09-02 -5.292332 -23.556915 -28.301622 -22.163613\n",
              "2002-09-03 -3.612934 -22.336902 -27.114755 -23.072718\n",
              "2002-09-04 -2.004994 -21.699757 -28.022481 -22.063717\n",
              "2002-09-05 -3.486140 -20.241942 -28.106275 -22.023699\n",
              "2002-09-06 -2.948154 -20.530027 -28.772999 -22.433141\n",
              "2002-09-07 -5.152315 -21.374976 -27.403556 -23.157017\n",
              "2002-09-08 -5.147801 -20.548175 -29.534911 -24.613610\n",
              "2002-09-09 -4.502910 -20.825335 -30.456955 -26.170400\n",
              "2002-09-10 -4.055736 -20.860546 -30.771489 -26.248800\n",
              "2002-09-11 -3.541193 -20.374508 -29.947598 -27.705778\n",
              "2002-09-12 -2.381324 -20.117239 -30.709171 -29.244136\n",
              "2002-09-13 -1.938442 -20.314696 -31.080254 -27.618574\n",
              "2002-09-14 -2.802669 -20.325638 -29.945957 -28.456105\n",
              "2002-09-15 -3.254465 -20.479762 -30.494301 -27.236968\n",
              "2002-09-16 -4.003399 -20.993692 -30.913225 -28.414765\n",
              "2002-09-17 -2.932438 -21.160098 -30.772429 -28.795505\n",
              "2002-09-18 -0.115537 -20.376504 -29.998241 -27.913785\n",
              "2002-09-19 -0.616637 -21.349927 -30.673046 -28.567137\n",
              "2002-09-20  0.162513 -21.273755 -29.990274 -30.597840\n",
              "2002-09-21  0.825661 -21.142892 -28.226350 -32.383629\n",
              "2002-09-22  1.990832 -21.797458 -30.384845 -31.293541\n",
              "2002-09-23  2.935926 -20.709951 -29.961604 -30.726829\n",
              "2002-09-24  3.447949 -19.751597 -28.357718 -31.180625\n",
              "2002-09-25  4.454119 -20.884311 -26.421078 -32.768527\n",
              "2002-09-26  2.200247 -21.263247 -25.612438 -35.104136\n",
              "\n",
              "[1000 rows x 4 columns]"
            ]
          },
          "metadata": {
            "tags": []
          },
          "execution_count": 32
        }
      ]
    },
    {
      "metadata": {
        "id": "fBibp76_3IjV",
        "colab_type": "text"
      },
      "cell_type": "markdown",
      "source": [
        "#Gotchas"
      ]
    },
    {
      "metadata": {
        "id": "IwTGemuB31es",
        "colab_type": "text"
      },
      "cell_type": "markdown",
      "source": [
        "작업을 수행하려고 시도하면 다음과 같은 예외 상황을 볼 수도 있습니다 :"
      ]
    },
    {
      "metadata": {
        "id": "7Pl6ilbuLNju",
        "colab_type": "code",
        "colab": {},
        "outputId": "bacf7033-4d39-418f-d128-a25eb517b02a"
      },
      "cell_type": "code",
      "source": [
        "if pd.Series([False, True, False]):\n",
        "print(\"I was true\")"
      ],
      "execution_count": 0,
      "outputs": [
        {
          "output_type": "error",
          "ename": "IndentationError",
          "evalue": "expected an indented block (<ipython-input-80-9074a2390e8e>, line 2)",
          "traceback": [
            "\u001b[0;36m  File \u001b[0;32m\"<ipython-input-80-9074a2390e8e>\"\u001b[0;36m, line \u001b[0;32m2\u001b[0m\n\u001b[0;31m    print(\"I was true\")\u001b[0m\n\u001b[0m        ^\u001b[0m\n\u001b[0;31mIndentationError\u001b[0m\u001b[0;31m:\u001b[0m expected an indented block\n"
          ]
        }
      ]
    },
    {
      "metadata": {
        "id": "8wpBt_ePLNjy",
        "colab_type": "text"
      },
      "cell_type": "markdown",
      "source": [
        "설명 및 수행 할 작업은 [비교](https://pandas.pydata.org/pandas-docs/stable/basics.html#basics-compare)를 참조하십시오.\n",
        "\n",
        "[Gotchas](https://pandas.pydata.org/pandas-docs/stable/gotchas.html#gotchas)도 참조하십시오.\n"
      ]
    }
  ]
}