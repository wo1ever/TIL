{
  "nbformat": 4,
  "nbformat_minor": 0,
  "metadata": {
    "colab": {
      "name": "안세영_shuffle.ipynb",
      "version": "0.3.2",
      "provenance": [],
      "collapsed_sections": [],
      "include_colab_link": true
    },
    "kernelspec": {
      "name": "python3",
      "display_name": "Python 3"
    }
  },
  "cells": [
    {
      "cell_type": "markdown",
      "metadata": {
        "id": "view-in-github",
        "colab_type": "text"
      },
      "source": [
        "[View in Colaboratory](https://colab.research.google.com/github/wo1ever/TIL/blob/master/%EC%95%88%EC%84%B8%EC%98%81_shuffle.ipynb)"
      ]
    },
    {
      "metadata": {
        "id": "JbhymznT-60a",
        "colab_type": "text"
      },
      "cell_type": "markdown",
      "source": [
        "## 7월 5일 과제\n",
        "### 제출: 11일 저녁까지\n",
        "- 파이썬 자습서 3, 4, 5장을 꼼꼼하게 읽기\n",
        "\n",
        "- 리스트를 인자로 받아 리스트의 원소를 임의의 순서로 섞은 새 리스트를 반환하는 함수를 서로다른 세 가지 방식으로 구현하기.\n",
        "\n",
        "- 각 함수의 작동방식과 장단점을 설명하는 Colab 노트북 만들기."
      ]
    },
    {
      "metadata": {
        "id": "dO_CE0Z6_hlV",
        "colab_type": "code",
        "colab": {}
      },
      "cell_type": "code",
      "source": [
        "a = [1, 2, 3, 4, 5, 6, 7, 8, 9, 10]\n",
        "a\n",
        "\n",
        "import math"
      ],
      "execution_count": 0,
      "outputs": []
    },
    {
      "metadata": {
        "id": "Q3vgd3_z-6j2",
        "colab_type": "code",
        "colab": {
          "base_uri": "https://localhost:8080/",
          "height": 52
        },
        "outputId": "c0c3dc49-4af2-46ad-f729-cfbecbbeb95f"
      },
      "cell_type": "code",
      "source": [
        "import random\n",
        "\n",
        "def shuffle0(data):\n",
        "  copied_data = data[:]\n",
        "  random.shuffle(copied_data)\n",
        "  return copied_data\n",
        "\n",
        "print(a)\n",
        "print(shuffle0(a))\n"
      ],
      "execution_count": 79,
      "outputs": [
        {
          "output_type": "stream",
          "text": [
            "[1, 2, 3, 4, 5, 6, 7, 8, 9, 10]\n",
            "[9, 5, 4, 1, 6, 8, 2, 3, 10, 7]\n"
          ],
          "name": "stdout"
        }
      ]
    },
    {
      "metadata": {
        "id": "rZprZlvw_ZDf",
        "colab_type": "code",
        "colab": {
          "base_uri": "https://localhost:8080/",
          "height": 52
        },
        "outputId": "53a430d1-8624-4ba3-8c85-31a936b6fe14"
      },
      "cell_type": "code",
      "source": [
        "def shuffle1(data):\n",
        "  n = len(data)\n",
        "  shuffled_data = data[:]\n",
        "  return random.sample(shuffled_data, n)\n",
        "\n",
        "print(a)\n",
        "print(shuffle1(a))"
      ],
      "execution_count": 80,
      "outputs": [
        {
          "output_type": "stream",
          "text": [
            "[1, 2, 3, 4, 5, 6, 7, 8, 9, 10]\n",
            "[9, 2, 1, 10, 4, 5, 3, 6, 8, 7]\n"
          ],
          "name": "stdout"
        }
      ]
    },
    {
      "metadata": {
        "id": "AAWSFBRM_bX5",
        "colab_type": "code",
        "colab": {
          "base_uri": "https://localhost:8080/",
          "height": 52
        },
        "outputId": "e23f40e5-2988-474a-cb3b-158d0a0c8787"
      },
      "cell_type": "code",
      "source": [
        "def shuffle2(data):\n",
        "  n = len(data)\n",
        "  \n",
        "  shuffled_data = data[:]\n",
        "  \n",
        "  for i in range(20):\n",
        "    random_index = random.randint(0,n-1)  \n",
        "  \n",
        "    random_index2 = random.randint(0,n-1)\n",
        "  \n",
        "    value = shuffled_data.pop(random_index)\n",
        "  \n",
        "    shuffled_data.insert(random_index2,value)\n",
        "  \n",
        "  return shuffled_data\n",
        "\n",
        "print(a)\n",
        "print(shuffle2(a))\n",
        " "
      ],
      "execution_count": 81,
      "outputs": [
        {
          "output_type": "stream",
          "text": [
            "[1, 2, 3, 4, 5, 6, 7, 8, 9, 10]\n",
            "[4, 9, 5, 6, 10, 8, 7, 1, 2, 3]\n"
          ],
          "name": "stdout"
        }
      ]
    },
    {
      "metadata": {
        "id": "YjSQsB6LP10M",
        "colab_type": "text"
      },
      "cell_type": "markdown",
      "source": [
        "\n",
        "\n",
        "\n",
        "### 리스트의 다양한 함수들 연습"
      ]
    },
    {
      "metadata": {
        "id": "O9_aQZgBS68R",
        "colab_type": "code",
        "colab": {}
      },
      "cell_type": "code",
      "source": [
        ""
      ],
      "execution_count": 0,
      "outputs": []
    },
    {
      "metadata": {
        "id": "2WBcdxgRCHCI",
        "colab_type": "code",
        "colab": {}
      },
      "cell_type": "code",
      "source": [
        "a = [1, 2, 3, 4, 5, 6, 7, 8, 9, 10]\n",
        "\n",
        "a.append(4)    # 리스트의 맨 마지막에 '4'를 삽입해라.\n",
        "\n",
        "a.index(3)    # '3' 이 나오는 값의 인덱스를 리턴하라.\n",
        "\n",
        "a.insert(0, 4)    # a[0] 자리에 '4'를 삽입하라.\n",
        "\n",
        "a.remove(7)    # 리스트에서 첫 번째로 나오는 '7'을 삭제하라.\n",
        "\n",
        "a.pop()    # 리스트의 맨 마지막 요소를 리턴한 후 삭제.\n",
        "\n",
        "a.pop(1)    # 리스트의 a[1]번째 요소를 돌려주고 삭제.\n",
        "\n",
        "a.extend([11,  12, 13])    # 원래 리스트 뒤로 새로운 리스트를 이어붙임\n",
        "                           # a += [11, 12, 13] 과 같음\n",
        "\n",
        "del a[5]    # 리스트의 a[5]인덱스를 삭제함\n"
      ],
      "execution_count": 0,
      "outputs": []
    }
  ]
}